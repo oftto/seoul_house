{
  "nbformat": 4,
  "nbformat_minor": 0,
  "metadata": {
    "colab": {
      "name": "seoulhouse_EDA.ipynb",
      "provenance": [],
      "authorship_tag": "ABX9TyM8KRyWyGvcdGFyAeLctK/4",
      "include_colab_link": true
    },
    "kernelspec": {
      "name": "python3",
      "display_name": "Python 3"
    }
  },
  "cells": [
    {
      "cell_type": "markdown",
      "metadata": {
        "id": "view-in-github",
        "colab_type": "text"
      },
      "source": [
        "<a href=\"https://colab.research.google.com/github/oftto/seoul_house/blob/master/seoulhouse_EDA.ipynb\" target=\"_parent\"><img src=\"https://colab.research.google.com/assets/colab-badge.svg\" alt=\"Open In Colab\"/></a>"
      ]
    },
    {
      "cell_type": "code",
      "metadata": {
        "id": "w_SfQ2ZU25To",
        "colab_type": "code",
        "colab": {
          "base_uri": "https://localhost:8080/",
          "height": 125
        },
        "outputId": "87e465a5-55fb-47d7-e607-6a1fb0b573aa"
      },
      "source": [
        "from google.colab import auth\n",
        "auth.authenticate_user()\n",
        "\n",
        "from google.colab import drive\n",
        "drive.mount('/content/gdrive')"
      ],
      "execution_count": 2,
      "outputs": [
        {
          "output_type": "stream",
          "text": [
            "Go to this URL in a browser: https://accounts.google.com/o/oauth2/auth?client_id=947318989803-6bn6qk8qdgf4n4g3pfee6491hc0brc4i.apps.googleusercontent.com&redirect_uri=urn%3aietf%3awg%3aoauth%3a2.0%3aoob&response_type=code&scope=email%20https%3a%2f%2fwww.googleapis.com%2fauth%2fdocs.test%20https%3a%2f%2fwww.googleapis.com%2fauth%2fdrive%20https%3a%2f%2fwww.googleapis.com%2fauth%2fdrive.photos.readonly%20https%3a%2f%2fwww.googleapis.com%2fauth%2fpeopleapi.readonly\n",
            "\n",
            "Enter your authorization code:\n",
            "··········\n",
            "Mounted at /content/gdrive\n"
          ],
          "name": "stdout"
        }
      ]
    },
    {
      "cell_type": "code",
      "metadata": {
        "id": "BQyBXn6_3JGM",
        "colab_type": "code",
        "colab": {}
      },
      "source": [
        "import pandas as pd\n",
        "data = pd.read_csv(\"./gdrive/My Drive/Colab/final_set_seoul_house_200701_201906.csv\" , encoding = 'utf-8')"
      ],
      "execution_count": 0,
      "outputs": []
    },
    {
      "cell_type": "code",
      "metadata": {
        "id": "e9we2Xvy3qj7",
        "colab_type": "code",
        "colab": {
          "base_uri": "https://localhost:8080/",
          "height": 397
        },
        "outputId": "015d5ca5-896b-4d67-8631-64e69b2007f9"
      },
      "source": [
        "data.head()"
      ],
      "execution_count": 4,
      "outputs": [
        {
          "output_type": "execute_result",
          "data": {
            "text/html": [
              "<div>\n",
              "<style scoped>\n",
              "    .dataframe tbody tr th:only-of-type {\n",
              "        vertical-align: middle;\n",
              "    }\n",
              "\n",
              "    .dataframe tbody tr th {\n",
              "        vertical-align: top;\n",
              "    }\n",
              "\n",
              "    .dataframe thead th {\n",
              "        text-align: right;\n",
              "    }\n",
              "</style>\n",
              "<table border=\"1\" class=\"dataframe\">\n",
              "  <thead>\n",
              "    <tr style=\"text-align: right;\">\n",
              "      <th></th>\n",
              "      <th>key</th>\n",
              "      <th>접수년도</th>\n",
              "      <th>자치구코드</th>\n",
              "      <th>자치구명</th>\n",
              "      <th>법정동코드</th>\n",
              "      <th>법정동명</th>\n",
              "      <th>본번</th>\n",
              "      <th>부번</th>\n",
              "      <th>건물명</th>\n",
              "      <th>층</th>\n",
              "      <th>임대건물코드</th>\n",
              "      <th>임대건물명</th>\n",
              "      <th>임대면적</th>\n",
              "      <th>전월세구분코드</th>\n",
              "      <th>전월세구분</th>\n",
              "      <th>보증금</th>\n",
              "      <th>임대료</th>\n",
              "      <th>계약년도</th>\n",
              "      <th>계약일자</th>\n",
              "      <th>건축년도</th>\n",
              "    </tr>\n",
              "  </thead>\n",
              "  <tbody>\n",
              "    <tr>\n",
              "      <th>0</th>\n",
              "      <td>0000000111101010010074000130001360000457</td>\n",
              "      <td>2015</td>\n",
              "      <td>11110</td>\n",
              "      <td>종로구</td>\n",
              "      <td>10100</td>\n",
              "      <td>청운동</td>\n",
              "      <td>74</td>\n",
              "      <td>1</td>\n",
              "      <td>우진빌딩</td>\n",
              "      <td>2</td>\n",
              "      <td>4</td>\n",
              "      <td>다세대/연립</td>\n",
              "      <td>82.69</td>\n",
              "      <td>1</td>\n",
              "      <td>전세</td>\n",
              "      <td>34000</td>\n",
              "      <td>0</td>\n",
              "      <td>2015</td>\n",
              "      <td>20150623</td>\n",
              "      <td>1991</td>\n",
              "    </tr>\n",
              "    <tr>\n",
              "      <th>1</th>\n",
              "      <td>0000001111101010010056004130001360000005</td>\n",
              "      <td>2016</td>\n",
              "      <td>11110</td>\n",
              "      <td>종로구</td>\n",
              "      <td>10100</td>\n",
              "      <td>청운동</td>\n",
              "      <td>56</td>\n",
              "      <td>41</td>\n",
              "      <td>MJ하이빌</td>\n",
              "      <td>3</td>\n",
              "      <td>4</td>\n",
              "      <td>다세대/연립</td>\n",
              "      <td>75.00</td>\n",
              "      <td>1</td>\n",
              "      <td>전세</td>\n",
              "      <td>35000</td>\n",
              "      <td>0</td>\n",
              "      <td>2015</td>\n",
              "      <td>20150921</td>\n",
              "      <td>2007</td>\n",
              "    </tr>\n",
              "    <tr>\n",
              "      <th>2</th>\n",
              "      <td>0000002111101010010050001030001360000505</td>\n",
              "      <td>2015</td>\n",
              "      <td>11110</td>\n",
              "      <td>종로구</td>\n",
              "      <td>10100</td>\n",
              "      <td>청운동</td>\n",
              "      <td>50</td>\n",
              "      <td>10</td>\n",
              "      <td>글로리아파크</td>\n",
              "      <td>2</td>\n",
              "      <td>4</td>\n",
              "      <td>다세대/연립</td>\n",
              "      <td>79.14</td>\n",
              "      <td>1</td>\n",
              "      <td>전세</td>\n",
              "      <td>38000</td>\n",
              "      <td>0</td>\n",
              "      <td>2015</td>\n",
              "      <td>20150822</td>\n",
              "      <td>2002</td>\n",
              "    </tr>\n",
              "    <tr>\n",
              "      <th>3</th>\n",
              "      <td>0000003111101010010052001830001360000637</td>\n",
              "      <td>2015</td>\n",
              "      <td>11110</td>\n",
              "      <td>종로구</td>\n",
              "      <td>10100</td>\n",
              "      <td>청운동</td>\n",
              "      <td>52</td>\n",
              "      <td>18</td>\n",
              "      <td>귀빈하우스</td>\n",
              "      <td>2</td>\n",
              "      <td>4</td>\n",
              "      <td>다세대/연립</td>\n",
              "      <td>102.40</td>\n",
              "      <td>1</td>\n",
              "      <td>전세</td>\n",
              "      <td>43000</td>\n",
              "      <td>0</td>\n",
              "      <td>2015</td>\n",
              "      <td>20150902</td>\n",
              "      <td>2000</td>\n",
              "    </tr>\n",
              "    <tr>\n",
              "      <th>4</th>\n",
              "      <td>0000004111101010010052001830001360000129</td>\n",
              "      <td>2018</td>\n",
              "      <td>11110</td>\n",
              "      <td>종로구</td>\n",
              "      <td>10100</td>\n",
              "      <td>청운동</td>\n",
              "      <td>52</td>\n",
              "      <td>18</td>\n",
              "      <td>귀빈하우스</td>\n",
              "      <td>2</td>\n",
              "      <td>4</td>\n",
              "      <td>다세대/연립</td>\n",
              "      <td>102.40</td>\n",
              "      <td>1</td>\n",
              "      <td>전세</td>\n",
              "      <td>43000</td>\n",
              "      <td>0</td>\n",
              "      <td>2015</td>\n",
              "      <td>20150902</td>\n",
              "      <td>2000</td>\n",
              "    </tr>\n",
              "  </tbody>\n",
              "</table>\n",
              "</div>"
            ],
            "text/plain": [
              "                                        key  접수년도  자치구코드  ...  계약년도      계약일자  건축년도\n",
              "0  0000000111101010010074000130001360000457  2015  11110  ...  2015  20150623  1991\n",
              "1  0000001111101010010056004130001360000005  2016  11110  ...  2015  20150921  2007\n",
              "2  0000002111101010010050001030001360000505  2015  11110  ...  2015  20150822  2002\n",
              "3  0000003111101010010052001830001360000637  2015  11110  ...  2015  20150902  2000\n",
              "4  0000004111101010010052001830001360000129  2018  11110  ...  2015  20150902  2000\n",
              "\n",
              "[5 rows x 20 columns]"
            ]
          },
          "metadata": {
            "tags": []
          },
          "execution_count": 4
        }
      ]
    },
    {
      "cell_type": "code",
      "metadata": {
        "id": "MTZiI-HG32MO",
        "colab_type": "code",
        "colab": {
          "base_uri": "https://localhost:8080/",
          "height": 220
        },
        "outputId": "253f42ed-45d2-4a6e-fe85-3bb97406abe5"
      },
      "source": [
        "data[data.임대료 !=0]"
      ],
      "execution_count": 8,
      "outputs": [
        {
          "output_type": "execute_result",
          "data": {
            "text/html": [
              "<div>\n",
              "<style scoped>\n",
              "    .dataframe tbody tr th:only-of-type {\n",
              "        vertical-align: middle;\n",
              "    }\n",
              "\n",
              "    .dataframe tbody tr th {\n",
              "        vertical-align: top;\n",
              "    }\n",
              "\n",
              "    .dataframe thead th {\n",
              "        text-align: right;\n",
              "    }\n",
              "</style>\n",
              "<table border=\"1\" class=\"dataframe\">\n",
              "  <thead>\n",
              "    <tr style=\"text-align: right;\">\n",
              "      <th></th>\n",
              "      <th>key</th>\n",
              "      <th>접수년도</th>\n",
              "      <th>자치구코드</th>\n",
              "      <th>자치구명</th>\n",
              "      <th>법정동코드</th>\n",
              "      <th>법정동명</th>\n",
              "      <th>본번</th>\n",
              "      <th>부번</th>\n",
              "      <th>건물명</th>\n",
              "      <th>층</th>\n",
              "      <th>임대건물코드</th>\n",
              "      <th>임대건물명</th>\n",
              "      <th>임대면적</th>\n",
              "      <th>전월세구분코드</th>\n",
              "      <th>전월세구분</th>\n",
              "      <th>보증금</th>\n",
              "      <th>임대료</th>\n",
              "      <th>계약년도</th>\n",
              "      <th>계약일자</th>\n",
              "      <th>건축년도</th>\n",
              "    </tr>\n",
              "  </thead>\n",
              "  <tbody>\n",
              "    <tr>\n",
              "      <th>1809009</th>\n",
              "      <td>1809009112301060010373000630500540001164</td>\n",
              "      <td>2011</td>\n",
              "      <td>11230</td>\n",
              "      <td>동대문구</td>\n",
              "      <td>10600</td>\n",
              "      <td>장안동</td>\n",
              "      <td>373</td>\n",
              "      <td>6</td>\n",
              "      <td>황금오피스텔</td>\n",
              "      <td>7</td>\n",
              "      <td>9</td>\n",
              "      <td>오피스텔</td>\n",
              "      <td>24.51</td>\n",
              "      <td>1</td>\n",
              "      <td>전세</td>\n",
              "      <td>4000</td>\n",
              "      <td>15</td>\n",
              "      <td>2011</td>\n",
              "      <td>20111025</td>\n",
              "      <td>1997</td>\n",
              "    </tr>\n",
              "    <tr>\n",
              "      <th>1831494</th>\n",
              "      <td>1831494117101010010175001232300590000212</td>\n",
              "      <td>2011</td>\n",
              "      <td>11710</td>\n",
              "      <td>송파구</td>\n",
              "      <td>10100</td>\n",
              "      <td>잠실동</td>\n",
              "      <td>175</td>\n",
              "      <td>12</td>\n",
              "      <td>올림픽타워</td>\n",
              "      <td>3</td>\n",
              "      <td>9</td>\n",
              "      <td>오피스텔</td>\n",
              "      <td>34.87</td>\n",
              "      <td>1</td>\n",
              "      <td>전세</td>\n",
              "      <td>10000</td>\n",
              "      <td>50</td>\n",
              "      <td>2011</td>\n",
              "      <td>20110221</td>\n",
              "      <td>2004</td>\n",
              "    </tr>\n",
              "    <tr>\n",
              "      <th>1853692</th>\n",
              "      <td>1853692114401250010278000831300600000223</td>\n",
              "      <td>2014</td>\n",
              "      <td>11440</td>\n",
              "      <td>마포구</td>\n",
              "      <td>12500</td>\n",
              "      <td>성산동</td>\n",
              "      <td>278</td>\n",
              "      <td>8</td>\n",
              "      <td>샬롬 오피스텔</td>\n",
              "      <td>6</td>\n",
              "      <td>9</td>\n",
              "      <td>오피스텔</td>\n",
              "      <td>19.38</td>\n",
              "      <td>1</td>\n",
              "      <td>전세</td>\n",
              "      <td>7000</td>\n",
              "      <td>30</td>\n",
              "      <td>2014</td>\n",
              "      <td>20140308</td>\n",
              "      <td>2003</td>\n",
              "    </tr>\n",
              "  </tbody>\n",
              "</table>\n",
              "</div>"
            ],
            "text/plain": [
              "                                              key  접수년도  ...      계약일자  건축년도\n",
              "1809009  1809009112301060010373000630500540001164  2011  ...  20111025  1997\n",
              "1831494  1831494117101010010175001232300590000212  2011  ...  20110221  2004\n",
              "1853692  1853692114401250010278000831300600000223  2014  ...  20140308  2003\n",
              "\n",
              "[3 rows x 20 columns]"
            ]
          },
          "metadata": {
            "tags": []
          },
          "execution_count": 8
        }
      ]
    },
    {
      "cell_type": "code",
      "metadata": {
        "id": "XkcqB2Dr33YP",
        "colab_type": "code",
        "colab": {
          "base_uri": "https://localhost:8080/",
          "height": 369
        },
        "outputId": "6340b316-2414-4d98-98b8-b11cbb599022"
      },
      "source": [
        "for col in data:\n",
        "    print(col , ':' ,  data[col].unique().size , '/' , data[col].size)"
      ],
      "execution_count": 17,
      "outputs": [
        {
          "output_type": "stream",
          "text": [
            "key : 2016400 / 2016400\n",
            "접수년도 : 10 / 2016400\n",
            "자치구코드 : 35 / 2016400\n",
            "자치구명 : 26 / 2016400\n",
            "법정동코드 : 84 / 2016400\n",
            "법정동명 : 407 / 2016400\n",
            "본번 : 1822 / 2016400\n",
            "부번 : 1330 / 2016400\n",
            "건물명 : 66330 / 2016400\n",
            "층 : 73 / 2016400\n",
            "임대건물코드 : 4 / 2016400\n",
            "임대건물명 : 4 / 2016400\n",
            "임대면적 : 17284 / 2016400\n",
            "전월세구분코드 : 1 / 2016400\n",
            "전월세구분 : 1 / 2016400\n",
            "보증금 : 5110 / 2016400\n",
            "임대료 : 4 / 2016400\n",
            "계약년도 : 13 / 2016400\n",
            "계약일자 : 3108 / 2016400\n",
            "건축년도 : 114 / 2016400\n"
          ],
          "name": "stdout"
        }
      ]
    },
    {
      "cell_type": "code",
      "metadata": {
        "id": "kC1_nJVg8PH5",
        "colab_type": "code",
        "colab": {
          "base_uri": "https://localhost:8080/",
          "height": 105
        },
        "outputId": "21c8ae62-4686-4349-82f7-1775640f23e4"
      },
      "source": [
        ""
      ],
      "execution_count": 11,
      "outputs": [
        {
          "output_type": "execute_result",
          "data": {
            "text/plain": [
              "1    968146\n",
              "2    528749\n",
              "4    435149\n",
              "9     84356\n",
              "Name: 임대건물코드, dtype: int64"
            ]
          },
          "metadata": {
            "tags": []
          },
          "execution_count": 11
        }
      ]
    },
    {
      "cell_type": "code",
      "metadata": {
        "id": "vYFj9WRS8bwe",
        "colab_type": "code",
        "colab": {
          "base_uri": "https://localhost:8080/",
          "height": 474
        },
        "outputId": "ece35df0-479f-40ec-efcd-37f1d709d2f9"
      },
      "source": [
        ""
      ],
      "execution_count": 12,
      "outputs": [
        {
          "output_type": "execute_result",
          "data": {
            "text/plain": [
              "송파구     168405\n",
              "강남구     130331\n",
              "강서구     120994\n",
              "강동구     112292\n",
              "노원구     102106\n",
              "서초구      99859\n",
              "양천구      99262\n",
              "관악구      92186\n",
              "동작구      91845\n",
              "마포구      91617\n",
              "은평구      89297\n",
              "영등포구     85030\n",
              "광진구      80179\n",
              "성북구      79389\n",
              "구로구      78471\n",
              "중랑구      70661\n",
              "성동구      68333\n",
              "동대문구     60301\n",
              "도봉구      54348\n",
              "서대문구     53177\n",
              "용산구      52161\n",
              "강북구      50433\n",
              "금천구      40112\n",
              "종로구      23180\n",
              "중구       22416\n",
              "Name: 자치구명, dtype: int64"
            ]
          },
          "metadata": {
            "tags": []
          },
          "execution_count": 12
        }
      ]
    },
    {
      "cell_type": "code",
      "metadata": {
        "id": "4IH5Iek58hoF",
        "colab_type": "code",
        "colab": {
          "base_uri": "https://localhost:8080/",
          "height": 52
        },
        "outputId": "15aa16ee-75f7-4506-f903-c7b52825b973"
      },
      "source": [
        ""
      ],
      "execution_count": 16,
      "outputs": [
        {
          "output_type": "execute_result",
          "data": {
            "text/plain": [
              "1    2016400\n",
              "Name: 전월세구분코드, dtype: int64"
            ]
          },
          "metadata": {
            "tags": []
          },
          "execution_count": 16
        }
      ]
    },
    {
      "cell_type": "code",
      "metadata": {
        "id": "9gl8hZs5-u4r",
        "colab_type": "code",
        "colab": {}
      },
      "source": [
        ""
      ],
      "execution_count": 0,
      "outputs": []
    }
  ]
}