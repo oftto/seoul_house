{
  "nbformat": 4,
  "nbformat_minor": 0,
  "metadata": {
    "colab": {
      "name": "seoulhouse_EDA.ipynb",
      "provenance": [],
      "authorship_tag": "ABX9TyP0HDeORrBBObCbFkxSs6eX",
      "include_colab_link": true
    },
    "kernelspec": {
      "name": "python3",
      "display_name": "Python 3"
    }
  },
  "cells": [
    {
      "cell_type": "markdown",
      "metadata": {
        "id": "view-in-github",
        "colab_type": "text"
      },
      "source": [
        "<a href=\"https://colab.research.google.com/github/oftto/seoul_house/blob/master/seoulhouse_EDA.ipynb\" target=\"_parent\"><img src=\"https://colab.research.google.com/assets/colab-badge.svg\" alt=\"Open In Colab\"/></a>"
      ]
    },
    {
      "cell_type": "code",
      "metadata": {
        "id": "w_SfQ2ZU25To",
        "colab_type": "code",
        "outputId": "ce39b7e7-c2fa-4c43-c84c-611f0cf4a943",
        "colab": {
          "base_uri": "https://localhost:8080/",
          "height": 55
        }
      },
      "source": [
        "from google.colab import auth\n",
        "auth.authenticate_user()\n",
        "\n",
        "from google.colab import drive\n",
        "drive.mount('/content/gdrive')"
      ],
      "execution_count": 10,
      "outputs": [
        {
          "output_type": "stream",
          "text": [
            "Drive already mounted at /content/gdrive; to attempt to forcibly remount, call drive.mount(\"/content/gdrive\", force_remount=True).\n"
          ],
          "name": "stdout"
        }
      ]
    },
    {
      "cell_type": "code",
      "metadata": {
        "id": "BQyBXn6_3JGM",
        "colab_type": "code",
        "colab": {}
      },
      "source": [
        "import pandas as pd\n",
        "data = pd.read_csv(\"./gdrive/My Drive/Colab/final_set_seoul_house_200701_201906.csv\" , encoding = 'utf-8')"
      ],
      "execution_count": 0,
      "outputs": []
    },
    {
      "cell_type": "code",
      "metadata": {
        "id": "e9we2Xvy3qj7",
        "colab_type": "code",
        "colab": {}
      },
      "source": [
        "data.head()"
      ],
      "execution_count": 0,
      "outputs": []
    },
    {
      "cell_type": "code",
      "metadata": {
        "id": "XkcqB2Dr33YP",
        "colab_type": "code",
        "outputId": "879bc4f2-b6f1-4821-925c-f2bee1ead8d6",
        "colab": {
          "base_uri": "https://localhost:8080/",
          "height": 377
        }
      },
      "source": [
        "for col in data:\n",
        "    print(col , ':' ,  data[col].unique().size , '/' , data[col].size)"
      ],
      "execution_count": 27,
      "outputs": [
        {
          "output_type": "stream",
          "text": [
            "key : 2016400 / 2016400\n",
            "접수년도 : 10 / 2016400\n",
            "자치구코드 : 35 / 2016400\n",
            "자치구명 : 26 / 2016400\n",
            "법정동코드 : 84 / 2016400\n",
            "법정동명 : 407 / 2016400\n",
            "본번 : 1822 / 2016400\n",
            "부번 : 1330 / 2016400\n",
            "건물명 : 66330 / 2016400\n",
            "층 : 73 / 2016400\n",
            "임대건물코드 : 4 / 2016400\n",
            "임대건물명 : 4 / 2016400\n",
            "임대면적 : 17284 / 2016400\n",
            "전월세구분코드 : 1 / 2016400\n",
            "전월세구분 : 1 / 2016400\n",
            "보증금 : 5110 / 2016400\n",
            "임대료 : 4 / 2016400\n",
            "계약년도 : 13 / 2016400\n",
            "계약일자 : 3108 / 2016400\n",
            "건축년도 : 114 / 2016400\n"
          ],
          "name": "stdout"
        }
      ]
    },
    {
      "cell_type": "code",
      "metadata": {
        "id": "kC1_nJVg8PH5",
        "colab_type": "code",
        "colab": {}
      },
      "source": [
        "data ['key'] =data['key'].str.slice(0,26)"
      ],
      "execution_count": 0,
      "outputs": []
    },
    {
      "cell_type": "code",
      "metadata": {
        "id": "vYFj9WRS8bwe",
        "colab_type": "code",
        "colab": {
          "base_uri": "https://localhost:8080/",
          "height": 683
        },
        "outputId": "bceed742-2360-4b39-9510-90ab79ed38c4"
      },
      "source": [
        "data.head()"
      ],
      "execution_count": 26,
      "outputs": [
        {
          "output_type": "execute_result",
          "data": {
            "text/html": [
              "<div>\n",
              "<style scoped>\n",
              "    .dataframe tbody tr th:only-of-type {\n",
              "        vertical-align: middle;\n",
              "    }\n",
              "\n",
              "    .dataframe tbody tr th {\n",
              "        vertical-align: top;\n",
              "    }\n",
              "\n",
              "    .dataframe thead th {\n",
              "        text-align: right;\n",
              "    }\n",
              "</style>\n",
              "<table border=\"1\" class=\"dataframe\">\n",
              "  <thead>\n",
              "    <tr style=\"text-align: right;\">\n",
              "      <th></th>\n",
              "      <th>key</th>\n",
              "      <th>접수년도</th>\n",
              "      <th>자치구코드</th>\n",
              "      <th>자치구명</th>\n",
              "      <th>법정동코드</th>\n",
              "      <th>법정동명</th>\n",
              "      <th>본번</th>\n",
              "      <th>부번</th>\n",
              "      <th>건물명</th>\n",
              "      <th>층</th>\n",
              "      <th>임대건물코드</th>\n",
              "      <th>임대건물명</th>\n",
              "      <th>임대면적</th>\n",
              "      <th>전월세구분코드</th>\n",
              "      <th>전월세구분</th>\n",
              "      <th>보증금</th>\n",
              "      <th>임대료</th>\n",
              "      <th>계약년도</th>\n",
              "      <th>계약일자</th>\n",
              "      <th>건축년도</th>\n",
              "    </tr>\n",
              "  </thead>\n",
              "  <tbody>\n",
              "    <tr>\n",
              "      <th>0</th>\n",
              "      <td>00000001111010100100740001</td>\n",
              "      <td>2015</td>\n",
              "      <td>11110</td>\n",
              "      <td>종로구</td>\n",
              "      <td>10100</td>\n",
              "      <td>청운동</td>\n",
              "      <td>74</td>\n",
              "      <td>1</td>\n",
              "      <td>우진빌딩</td>\n",
              "      <td>2</td>\n",
              "      <td>4</td>\n",
              "      <td>다세대/연립</td>\n",
              "      <td>82.69</td>\n",
              "      <td>1</td>\n",
              "      <td>전세</td>\n",
              "      <td>34000</td>\n",
              "      <td>0</td>\n",
              "      <td>2015</td>\n",
              "      <td>20150623</td>\n",
              "      <td>1991</td>\n",
              "    </tr>\n",
              "    <tr>\n",
              "      <th>1</th>\n",
              "      <td>00000011111010100100560041</td>\n",
              "      <td>2016</td>\n",
              "      <td>11110</td>\n",
              "      <td>종로구</td>\n",
              "      <td>10100</td>\n",
              "      <td>청운동</td>\n",
              "      <td>56</td>\n",
              "      <td>41</td>\n",
              "      <td>MJ하이빌</td>\n",
              "      <td>3</td>\n",
              "      <td>4</td>\n",
              "      <td>다세대/연립</td>\n",
              "      <td>75.00</td>\n",
              "      <td>1</td>\n",
              "      <td>전세</td>\n",
              "      <td>35000</td>\n",
              "      <td>0</td>\n",
              "      <td>2015</td>\n",
              "      <td>20150921</td>\n",
              "      <td>2007</td>\n",
              "    </tr>\n",
              "    <tr>\n",
              "      <th>2</th>\n",
              "      <td>00000021111010100100500010</td>\n",
              "      <td>2015</td>\n",
              "      <td>11110</td>\n",
              "      <td>종로구</td>\n",
              "      <td>10100</td>\n",
              "      <td>청운동</td>\n",
              "      <td>50</td>\n",
              "      <td>10</td>\n",
              "      <td>글로리아파크</td>\n",
              "      <td>2</td>\n",
              "      <td>4</td>\n",
              "      <td>다세대/연립</td>\n",
              "      <td>79.14</td>\n",
              "      <td>1</td>\n",
              "      <td>전세</td>\n",
              "      <td>38000</td>\n",
              "      <td>0</td>\n",
              "      <td>2015</td>\n",
              "      <td>20150822</td>\n",
              "      <td>2002</td>\n",
              "    </tr>\n",
              "    <tr>\n",
              "      <th>3</th>\n",
              "      <td>00000031111010100100520018</td>\n",
              "      <td>2015</td>\n",
              "      <td>11110</td>\n",
              "      <td>종로구</td>\n",
              "      <td>10100</td>\n",
              "      <td>청운동</td>\n",
              "      <td>52</td>\n",
              "      <td>18</td>\n",
              "      <td>귀빈하우스</td>\n",
              "      <td>2</td>\n",
              "      <td>4</td>\n",
              "      <td>다세대/연립</td>\n",
              "      <td>102.40</td>\n",
              "      <td>1</td>\n",
              "      <td>전세</td>\n",
              "      <td>43000</td>\n",
              "      <td>0</td>\n",
              "      <td>2015</td>\n",
              "      <td>20150902</td>\n",
              "      <td>2000</td>\n",
              "    </tr>\n",
              "    <tr>\n",
              "      <th>4</th>\n",
              "      <td>00000041111010100100520018</td>\n",
              "      <td>2018</td>\n",
              "      <td>11110</td>\n",
              "      <td>종로구</td>\n",
              "      <td>10100</td>\n",
              "      <td>청운동</td>\n",
              "      <td>52</td>\n",
              "      <td>18</td>\n",
              "      <td>귀빈하우스</td>\n",
              "      <td>2</td>\n",
              "      <td>4</td>\n",
              "      <td>다세대/연립</td>\n",
              "      <td>102.40</td>\n",
              "      <td>1</td>\n",
              "      <td>전세</td>\n",
              "      <td>43000</td>\n",
              "      <td>0</td>\n",
              "      <td>2015</td>\n",
              "      <td>20150902</td>\n",
              "      <td>2000</td>\n",
              "    </tr>\n",
              "  </tbody>\n",
              "</table>\n",
              "</div>"
            ],
            "text/plain": [
              "                          key  접수년도  자치구코드 자치구명  ...  임대료  계약년도      계약일자  건축년도\n",
              "0  00000001111010100100740001  2015  11110  종로구  ...    0  2015  20150623  1991\n",
              "1  00000011111010100100560041  2016  11110  종로구  ...    0  2015  20150921  2007\n",
              "2  00000021111010100100500010  2015  11110  종로구  ...    0  2015  20150822  2002\n",
              "3  00000031111010100100520018  2015  11110  종로구  ...    0  2015  20150902  2000\n",
              "4  00000041111010100100520018  2018  11110  종로구  ...    0  2015  20150902  2000\n",
              "\n",
              "[5 rows x 20 columns]"
            ]
          },
          "metadata": {
            "tags": []
          },
          "execution_count": 26
        }
      ]
    },
    {
      "cell_type": "code",
      "metadata": {
        "id": "lPV7FmozxcqA",
        "colab_type": "code",
        "colab": {}
      },
      "source": [
        ""
      ],
      "execution_count": 0,
      "outputs": []
    },
    {
      "cell_type": "code",
      "metadata": {
        "id": "4IH5Iek58hoF",
        "colab_type": "code",
        "colab": {}
      },
      "source": [
        ""
      ],
      "execution_count": 0,
      "outputs": []
    },
    {
      "cell_type": "code",
      "metadata": {
        "id": "9gl8hZs5-u4r",
        "colab_type": "code",
        "colab": {}
      },
      "source": [
        "\n",
        "99\n"
      ],
      "execution_count": 0,
      "outputs": []
    }
  ]
}