{
  "nbformat": 4,
  "nbformat_minor": 0,
  "metadata": {
    "colab": {
      "name": "seoulhouse_preprocessing.ipynb",
      "provenance": [],
      "collapsed_sections": [],
      "mount_file_id": "1aa53JUZQM9v6rkqTYwrSsKNDQZ3HGy5y",
      "authorship_tag": "ABX9TyP8WH/V895K4SBRcHnUhx6v",
      "include_colab_link": true
    },
    "kernelspec": {
      "name": "python3",
      "display_name": "Python 3"
    }
  },
  "cells": [
    {
      "cell_type": "markdown",
      "metadata": {
        "id": "view-in-github",
        "colab_type": "text"
      },
      "source": [
        "<a href=\"https://colab.research.google.com/github/oftto/seoul_house/blob/master/seoulhouse_preprocessing.ipynb\" target=\"_parent\"><img src=\"https://colab.research.google.com/assets/colab-badge.svg\" alt=\"Open In Colab\"/></a>"
      ]
    },
    {
      "cell_type": "code",
      "metadata": {
        "id": "xTLsVQEWJwxY",
        "colab_type": "code",
        "outputId": "a274128c-3e01-4771-f60f-35ebb8230a18",
        "colab": {
          "base_uri": "https://localhost:8080/",
          "height": 35
        }
      },
      "source": [
        "!cat /etc/issue.net"
      ],
      "execution_count": 0,
      "outputs": [
        {
          "output_type": "stream",
          "text": [
            "Ubuntu 18.04.3 LTS\n"
          ],
          "name": "stdout"
        }
      ]
    },
    {
      "cell_type": "code",
      "metadata": {
        "id": "aoYYyQ_4LG9_",
        "colab_type": "code",
        "colab": {}
      },
      "source": [
        "!cat /proc/cpuinfo"
      ],
      "execution_count": 0,
      "outputs": []
    },
    {
      "cell_type": "code",
      "metadata": {
        "id": "a3q6-gA3LP1B",
        "colab_type": "code",
        "colab": {}
      },
      "source": [
        "!cat /proc/meminfo"
      ],
      "execution_count": 0,
      "outputs": []
    },
    {
      "cell_type": "code",
      "metadata": {
        "id": "Jr1aXYfxLSgG",
        "colab_type": "code",
        "outputId": "bca069b3-8017-40c7-8fee-9a99513ad615",
        "colab": {
          "base_uri": "https://localhost:8080/",
          "height": 73
        }
      },
      "source": [
        "!nvidia-smi"
      ],
      "execution_count": 0,
      "outputs": [
        {
          "output_type": "stream",
          "text": [
            "NVIDIA-SMI has failed because it couldn't communicate with the NVIDIA driver. Make sure that the latest NVIDIA driver is installed and running.\n",
            "\n"
          ],
          "name": "stdout"
        }
      ]
    },
    {
      "cell_type": "code",
      "metadata": {
        "id": "5qzfdizlLb3n",
        "colab_type": "code",
        "outputId": "9e6c4753-e6ff-4c2a-ac6f-3ad3ba1c2ce6",
        "colab": {
          "base_uri": "https://localhost:8080/",
          "height": 125
        }
      },
      "source": [
        "from google.colab import auth\n",
        "auth.authenticate_user()\n",
        "\n",
        "from google.colab import drive\n",
        "drive.mount('/content/gdrive')"
      ],
      "execution_count": 2,
      "outputs": [
        {
          "output_type": "stream",
          "text": [
            "Go to this URL in a browser: https://accounts.google.com/o/oauth2/auth?client_id=947318989803-6bn6qk8qdgf4n4g3pfee6491hc0brc4i.apps.googleusercontent.com&redirect_uri=urn%3aietf%3awg%3aoauth%3a2.0%3aoob&response_type=code&scope=email%20https%3a%2f%2fwww.googleapis.com%2fauth%2fdocs.test%20https%3a%2f%2fwww.googleapis.com%2fauth%2fdrive%20https%3a%2f%2fwww.googleapis.com%2fauth%2fdrive.photos.readonly%20https%3a%2f%2fwww.googleapis.com%2fauth%2fpeopleapi.readonly\n",
            "\n",
            "Enter your authorization code:\n",
            "··········\n",
            "Mounted at /content/gdrive\n"
          ],
          "name": "stdout"
        }
      ]
    },
    {
      "cell_type": "code",
      "metadata": {
        "id": "Jylbos_yLt1w",
        "colab_type": "code",
        "outputId": "69d537d4-f530-4a60-e3d0-0c321555c419",
        "colab": {
          "base_uri": "https://localhost:8080/",
          "height": 87
        }
      },
      "source": [
        "!cd gdrive/'My Drive'/Colab/; ls -al;"
      ],
      "execution_count": 6,
      "outputs": [
        {
          "output_type": "stream",
          "text": [
            "total 266812\n",
            "-rw------- 1 root root    124484 May  7 10:57 digging1.ipynb\n",
            "-rw------- 1 root root     27778 May  7 12:37 digging2.ipynb\n",
            "-rw------- 1 root root 273061465 May  7 12:36 seoul_house_200701_201906.csv\n"
          ],
          "name": "stdout"
        }
      ]
    },
    {
      "cell_type": "code",
      "metadata": {
        "id": "MCPdaIb1MOdd",
        "colab_type": "code",
        "outputId": "47ce8539-507c-4d8c-be09-ea029298b0c4",
        "colab": {
          "base_uri": "https://localhost:8080/",
          "height": 72
        }
      },
      "source": [
        "import pandas as pd\n",
        "df = pd.read_csv(\"./gdrive/My Drive/Colab/seoul_house_200701_201906.csv\" , encoding = 'CP949')"
      ],
      "execution_count": 7,
      "outputs": [
        {
          "output_type": "stream",
          "text": [
            "/usr/local/lib/python3.6/dist-packages/IPython/core/interactiveshell.py:2718: DtypeWarning: Columns (0) have mixed types.Specify dtype option on import or set low_memory=False.\n",
            "  interactivity=interactivity, compiler=compiler, result=result)\n"
          ],
          "name": "stderr"
        }
      ]
    },
    {
      "cell_type": "code",
      "metadata": {
        "id": "IJOL8DjdSzJR",
        "colab_type": "code",
        "outputId": "a39f5cd5-090e-43b2-8cca-44d3c434a825",
        "colab": {
          "base_uri": "https://localhost:8080/",
          "height": 397
        }
      },
      "source": [
        "df.head()"
      ],
      "execution_count": 8,
      "outputs": [
        {
          "output_type": "execute_result",
          "data": {
            "text/html": [
              "<div>\n",
              "<style scoped>\n",
              "    .dataframe tbody tr th:only-of-type {\n",
              "        vertical-align: middle;\n",
              "    }\n",
              "\n",
              "    .dataframe tbody tr th {\n",
              "        vertical-align: top;\n",
              "    }\n",
              "\n",
              "    .dataframe thead th {\n",
              "        text-align: right;\n",
              "    }\n",
              "</style>\n",
              "<table border=\"1\" class=\"dataframe\">\n",
              "  <thead>\n",
              "    <tr style=\"text-align: right;\">\n",
              "      <th></th>\n",
              "      <th>지번코드</th>\n",
              "      <th>기관코드</th>\n",
              "      <th>일련번호</th>\n",
              "      <th>접수년도</th>\n",
              "      <th>자치구코드</th>\n",
              "      <th>자치구명</th>\n",
              "      <th>법정동코드</th>\n",
              "      <th>법정동명</th>\n",
              "      <th>본번</th>\n",
              "      <th>부번</th>\n",
              "      <th>건물명</th>\n",
              "      <th>층</th>\n",
              "      <th>임대건물코드</th>\n",
              "      <th>임대건물명</th>\n",
              "      <th>임대면적</th>\n",
              "      <th>전월세구분코드</th>\n",
              "      <th>전월세구분</th>\n",
              "      <th>보증금</th>\n",
              "      <th>임대료</th>\n",
              "      <th>계약년도</th>\n",
              "      <th>계약일자</th>\n",
              "      <th>건축년도</th>\n",
              "    </tr>\n",
              "  </thead>\n",
              "  <tbody>\n",
              "    <tr>\n",
              "      <th>0</th>\n",
              "      <td>1111010100100740001</td>\n",
              "      <td>3000136</td>\n",
              "      <td>457</td>\n",
              "      <td>2015</td>\n",
              "      <td>11110</td>\n",
              "      <td>종로구</td>\n",
              "      <td>10100</td>\n",
              "      <td>청운동</td>\n",
              "      <td>74.0</td>\n",
              "      <td>1.0</td>\n",
              "      <td>우진빌딩</td>\n",
              "      <td>2.0</td>\n",
              "      <td>4.0</td>\n",
              "      <td>다세대/연립</td>\n",
              "      <td>82.69</td>\n",
              "      <td>1.0</td>\n",
              "      <td>전세</td>\n",
              "      <td>34000</td>\n",
              "      <td>0</td>\n",
              "      <td>2015.0</td>\n",
              "      <td>20150623</td>\n",
              "      <td>1991.0</td>\n",
              "    </tr>\n",
              "    <tr>\n",
              "      <th>1</th>\n",
              "      <td>1111010100100560041</td>\n",
              "      <td>3000136</td>\n",
              "      <td>5</td>\n",
              "      <td>2016</td>\n",
              "      <td>11110</td>\n",
              "      <td>종로구</td>\n",
              "      <td>10100</td>\n",
              "      <td>청운동</td>\n",
              "      <td>56.0</td>\n",
              "      <td>41.0</td>\n",
              "      <td>MJ하이빌</td>\n",
              "      <td>3.0</td>\n",
              "      <td>4.0</td>\n",
              "      <td>다세대/연립</td>\n",
              "      <td>75.00</td>\n",
              "      <td>1.0</td>\n",
              "      <td>전세</td>\n",
              "      <td>35000</td>\n",
              "      <td>0</td>\n",
              "      <td>2015.0</td>\n",
              "      <td>20150921</td>\n",
              "      <td>2007.0</td>\n",
              "    </tr>\n",
              "    <tr>\n",
              "      <th>2</th>\n",
              "      <td>1111010100100500010</td>\n",
              "      <td>3000136</td>\n",
              "      <td>505</td>\n",
              "      <td>2015</td>\n",
              "      <td>11110</td>\n",
              "      <td>종로구</td>\n",
              "      <td>10100</td>\n",
              "      <td>청운동</td>\n",
              "      <td>50.0</td>\n",
              "      <td>10.0</td>\n",
              "      <td>글로리아파크</td>\n",
              "      <td>2.0</td>\n",
              "      <td>4.0</td>\n",
              "      <td>다세대/연립</td>\n",
              "      <td>79.14</td>\n",
              "      <td>1.0</td>\n",
              "      <td>전세</td>\n",
              "      <td>38000</td>\n",
              "      <td>0</td>\n",
              "      <td>2015.0</td>\n",
              "      <td>20150822</td>\n",
              "      <td>2002.0</td>\n",
              "    </tr>\n",
              "    <tr>\n",
              "      <th>3</th>\n",
              "      <td>1111010100100520018</td>\n",
              "      <td>3000136</td>\n",
              "      <td>637</td>\n",
              "      <td>2015</td>\n",
              "      <td>11110</td>\n",
              "      <td>종로구</td>\n",
              "      <td>10100</td>\n",
              "      <td>청운동</td>\n",
              "      <td>52.0</td>\n",
              "      <td>18.0</td>\n",
              "      <td>귀빈하우스</td>\n",
              "      <td>2.0</td>\n",
              "      <td>4.0</td>\n",
              "      <td>다세대/연립</td>\n",
              "      <td>102.40</td>\n",
              "      <td>1.0</td>\n",
              "      <td>전세</td>\n",
              "      <td>43000</td>\n",
              "      <td>0</td>\n",
              "      <td>2015.0</td>\n",
              "      <td>20150902</td>\n",
              "      <td>2000.0</td>\n",
              "    </tr>\n",
              "    <tr>\n",
              "      <th>4</th>\n",
              "      <td>1111010100100520018</td>\n",
              "      <td>3000136</td>\n",
              "      <td>129</td>\n",
              "      <td>2018</td>\n",
              "      <td>11110</td>\n",
              "      <td>종로구</td>\n",
              "      <td>10100</td>\n",
              "      <td>청운동</td>\n",
              "      <td>52.0</td>\n",
              "      <td>18.0</td>\n",
              "      <td>귀빈하우스</td>\n",
              "      <td>2.0</td>\n",
              "      <td>4.0</td>\n",
              "      <td>다세대/연립</td>\n",
              "      <td>102.40</td>\n",
              "      <td>1.0</td>\n",
              "      <td>전세</td>\n",
              "      <td>43000</td>\n",
              "      <td>0</td>\n",
              "      <td>2015.0</td>\n",
              "      <td>20150902</td>\n",
              "      <td>2000.0</td>\n",
              "    </tr>\n",
              "  </tbody>\n",
              "</table>\n",
              "</div>"
            ],
            "text/plain": [
              "                  지번코드     기관코드  일련번호  접수년도  ...  임대료    계약년도      계약일자    건축년도\n",
              "0  1111010100100740001  3000136   457  2015  ...    0  2015.0  20150623  1991.0\n",
              "1  1111010100100560041  3000136     5  2016  ...    0  2015.0  20150921  2007.0\n",
              "2  1111010100100500010  3000136   505  2015  ...    0  2015.0  20150822  2002.0\n",
              "3  1111010100100520018  3000136   637  2015  ...    0  2015.0  20150902  2000.0\n",
              "4  1111010100100520018  3000136   129  2018  ...    0  2015.0  20150902  2000.0\n",
              "\n",
              "[5 rows x 22 columns]"
            ]
          },
          "metadata": {
            "tags": []
          },
          "execution_count": 8
        }
      ]
    },
    {
      "cell_type": "code",
      "metadata": {
        "id": "MhV_sr0qTCjK",
        "colab_type": "code",
        "outputId": "f283eb15-e9e2-442a-93c5-20b69e03f2e7",
        "colab": {
          "base_uri": "https://localhost:8080/",
          "height": 527
        }
      },
      "source": [
        "df.info()"
      ],
      "execution_count": 9,
      "outputs": [
        {
          "output_type": "stream",
          "text": [
            "<class 'pandas.core.frame.DataFrame'>\n",
            "RangeIndex: 2016400 entries, 0 to 2016399\n",
            "Data columns (total 22 columns):\n",
            " #   Column   Dtype  \n",
            "---  ------   -----  \n",
            " 0   지번코드     object \n",
            " 1   기관코드     int64  \n",
            " 2   일련번호     int64  \n",
            " 3   접수년도     int64  \n",
            " 4   자치구코드    int64  \n",
            " 5   자치구명     object \n",
            " 6   법정동코드    int64  \n",
            " 7   법정동명     object \n",
            " 8   본번       float64\n",
            " 9   부번       float64\n",
            " 10  건물명      object \n",
            " 11  층        float64\n",
            " 12  임대건물코드   float64\n",
            " 13  임대건물명    object \n",
            " 14  임대면적     float64\n",
            " 15  전월세구분코드  float64\n",
            " 16  전월세구분    object \n",
            " 17  보증금      int64  \n",
            " 18  임대료      int64  \n",
            " 19  계약년도     float64\n",
            " 20  계약일자     int64  \n",
            " 21  건축년도     float64\n",
            "dtypes: float64(8), int64(8), object(6)\n",
            "memory usage: 338.4+ MB\n"
          ],
          "name": "stdout"
        }
      ]
    },
    {
      "cell_type": "code",
      "metadata": {
        "id": "ukHBuShtUA9o",
        "colab_type": "code",
        "colab": {}
      },
      "source": [
        ""
      ],
      "execution_count": 0,
      "outputs": []
    }
  ]
}