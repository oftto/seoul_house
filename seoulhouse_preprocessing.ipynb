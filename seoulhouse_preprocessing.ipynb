{
  "nbformat": 4,
  "nbformat_minor": 0,
  "metadata": {
    "colab": {
      "name": "seoulhouse_preprocessing.ipynb",
      "provenance": [],
      "collapsed_sections": [],
      "mount_file_id": "1aa53JUZQM9v6rkqTYwrSsKNDQZ3HGy5y",
      "authorship_tag": "ABX9TyPO8EH5w2l2+3/u6Vdjw2iu",
      "include_colab_link": true
    },
    "kernelspec": {
      "name": "python3",
      "display_name": "Python 3"
    }
  },
  "cells": [
    {
      "cell_type": "markdown",
      "metadata": {
        "id": "view-in-github",
        "colab_type": "text"
      },
      "source": [
        "<a href=\"https://colab.research.google.com/github/oftto/seoul_house/blob/master/seoulhouse_preprocessing.ipynb\" target=\"_parent\"><img src=\"https://colab.research.google.com/assets/colab-badge.svg\" alt=\"Open In Colab\"/></a>"
      ]
    },
    {
      "cell_type": "code",
      "metadata": {
        "id": "xTLsVQEWJwxY",
        "colab_type": "code",
        "outputId": "a274128c-3e01-4771-f60f-35ebb8230a18",
        "colab": {
          "base_uri": "https://localhost:8080/",
          "height": 35
        }
      },
      "source": [
        "!cat /etc/issue.net"
      ],
      "execution_count": 0,
      "outputs": [
        {
          "output_type": "stream",
          "text": [
            "Ubuntu 18.04.3 LTS\n"
          ],
          "name": "stdout"
        }
      ]
    },
    {
      "cell_type": "code",
      "metadata": {
        "id": "aoYYyQ_4LG9_",
        "colab_type": "code",
        "colab": {}
      },
      "source": [
        "!cat /proc/cpuinfo"
      ],
      "execution_count": 0,
      "outputs": []
    },
    {
      "cell_type": "code",
      "metadata": {
        "id": "a3q6-gA3LP1B",
        "colab_type": "code",
        "colab": {}
      },
      "source": [
        "!cat /proc/meminfo"
      ],
      "execution_count": 0,
      "outputs": []
    },
    {
      "cell_type": "code",
      "metadata": {
        "id": "Jr1aXYfxLSgG",
        "colab_type": "code",
        "outputId": "bca069b3-8017-40c7-8fee-9a99513ad615",
        "colab": {
          "base_uri": "https://localhost:8080/",
          "height": 73
        }
      },
      "source": [
        "!nvidia-smi"
      ],
      "execution_count": 0,
      "outputs": [
        {
          "output_type": "stream",
          "text": [
            "NVIDIA-SMI has failed because it couldn't communicate with the NVIDIA driver. Make sure that the latest NVIDIA driver is installed and running.\n",
            "\n"
          ],
          "name": "stdout"
        }
      ]
    },
    {
      "cell_type": "code",
      "metadata": {
        "id": "5qzfdizlLb3n",
        "colab_type": "code",
        "outputId": "50a3161e-0ec9-4f55-e432-57633610b8fc",
        "colab": {
          "base_uri": "https://localhost:8080/",
          "height": 35
        }
      },
      "source": [
        "from google.colab import auth\n",
        "auth.authenticate_user()\n",
        "\n",
        "from google.colab import drive\n",
        "drive.mount('/content/gdrive')"
      ],
      "execution_count": 7,
      "outputs": [
        {
          "output_type": "stream",
          "text": [
            "Mounted at /content/gdrive\n"
          ],
          "name": "stdout"
        }
      ]
    },
    {
      "cell_type": "code",
      "metadata": {
        "id": "Jylbos_yLt1w",
        "colab_type": "code",
        "outputId": "63064b50-aa87-4313-8c7b-aca3233e00a5",
        "colab": {
          "base_uri": "https://localhost:8080/",
          "height": 107
        }
      },
      "source": [
        "!cd gdrive/'My Drive'/Colab/; ls -al;"
      ],
      "execution_count": 8,
      "outputs": [
        {
          "output_type": "stream",
          "text": [
            "total 574437\n",
            "-rw------- 1 root root    124484 May  7 10:57 digging1.ipynb\n",
            "-rw------- 1 root root     27778 May  7 12:37 digging2.ipynb\n",
            "-rw------- 1 root root 315008447 May 19 12:11 final_set_seoul_house_200701_201906.csv\n",
            "-rw------- 1 root root 273061465 May  7 12:36 seoul_house_200701_201906.csv\n"
          ],
          "name": "stdout"
        }
      ]
    },
    {
      "cell_type": "code",
      "metadata": {
        "id": "MCPdaIb1MOdd",
        "colab_type": "code",
        "outputId": "69b1418f-a92a-414b-e35f-87f4c587409a",
        "colab": {
          "base_uri": "https://localhost:8080/",
          "height": 53
        }
      },
      "source": [
        "import pandas as pd\n",
        "df = pd.read_csv(\"./gdrive/My Drive/Colab/seoul_house_200701_201906.csv\" , encoding = 'CP949')"
      ],
      "execution_count": 9,
      "outputs": [
        {
          "output_type": "stream",
          "text": [
            "/usr/local/lib/python3.6/dist-packages/IPython/core/interactiveshell.py:2718: DtypeWarning: Columns (0) have mixed types.Specify dtype option on import or set low_memory=False.\n",
            "  interactivity=interactivity, compiler=compiler, result=result)\n"
          ],
          "name": "stderr"
        }
      ]
    },
    {
      "cell_type": "code",
      "metadata": {
        "id": "IJOL8DjdSzJR",
        "colab_type": "code",
        "outputId": "5bdf21ad-c5f9-4ab7-9f91-d38ba17c3ece",
        "colab": {
          "base_uri": "https://localhost:8080/",
          "height": 204
        }
      },
      "source": [
        "df.head()"
      ],
      "execution_count": 10,
      "outputs": [
        {
          "output_type": "execute_result",
          "data": {
            "text/html": [
              "<div>\n",
              "<style scoped>\n",
              "    .dataframe tbody tr th:only-of-type {\n",
              "        vertical-align: middle;\n",
              "    }\n",
              "\n",
              "    .dataframe tbody tr th {\n",
              "        vertical-align: top;\n",
              "    }\n",
              "\n",
              "    .dataframe thead th {\n",
              "        text-align: right;\n",
              "    }\n",
              "</style>\n",
              "<table border=\"1\" class=\"dataframe\">\n",
              "  <thead>\n",
              "    <tr style=\"text-align: right;\">\n",
              "      <th></th>\n",
              "      <th>지번코드</th>\n",
              "      <th>기관코드</th>\n",
              "      <th>일련번호</th>\n",
              "      <th>접수년도</th>\n",
              "      <th>자치구코드</th>\n",
              "      <th>자치구명</th>\n",
              "      <th>법정동코드</th>\n",
              "      <th>법정동명</th>\n",
              "      <th>본번</th>\n",
              "      <th>부번</th>\n",
              "      <th>건물명</th>\n",
              "      <th>층</th>\n",
              "      <th>임대건물코드</th>\n",
              "      <th>임대건물명</th>\n",
              "      <th>임대면적</th>\n",
              "      <th>전월세구분코드</th>\n",
              "      <th>전월세구분</th>\n",
              "      <th>보증금</th>\n",
              "      <th>임대료</th>\n",
              "      <th>계약년도</th>\n",
              "      <th>계약일자</th>\n",
              "      <th>건축년도</th>\n",
              "    </tr>\n",
              "  </thead>\n",
              "  <tbody>\n",
              "    <tr>\n",
              "      <th>0</th>\n",
              "      <td>1111010100100740001</td>\n",
              "      <td>3000136</td>\n",
              "      <td>457</td>\n",
              "      <td>2015</td>\n",
              "      <td>11110</td>\n",
              "      <td>종로구</td>\n",
              "      <td>10100</td>\n",
              "      <td>청운동</td>\n",
              "      <td>74.0</td>\n",
              "      <td>1.0</td>\n",
              "      <td>우진빌딩</td>\n",
              "      <td>2.0</td>\n",
              "      <td>4.0</td>\n",
              "      <td>다세대/연립</td>\n",
              "      <td>82.69</td>\n",
              "      <td>1.0</td>\n",
              "      <td>전세</td>\n",
              "      <td>34000</td>\n",
              "      <td>0</td>\n",
              "      <td>2015.0</td>\n",
              "      <td>20150623</td>\n",
              "      <td>1991.0</td>\n",
              "    </tr>\n",
              "    <tr>\n",
              "      <th>1</th>\n",
              "      <td>1111010100100560041</td>\n",
              "      <td>3000136</td>\n",
              "      <td>5</td>\n",
              "      <td>2016</td>\n",
              "      <td>11110</td>\n",
              "      <td>종로구</td>\n",
              "      <td>10100</td>\n",
              "      <td>청운동</td>\n",
              "      <td>56.0</td>\n",
              "      <td>41.0</td>\n",
              "      <td>MJ하이빌</td>\n",
              "      <td>3.0</td>\n",
              "      <td>4.0</td>\n",
              "      <td>다세대/연립</td>\n",
              "      <td>75.00</td>\n",
              "      <td>1.0</td>\n",
              "      <td>전세</td>\n",
              "      <td>35000</td>\n",
              "      <td>0</td>\n",
              "      <td>2015.0</td>\n",
              "      <td>20150921</td>\n",
              "      <td>2007.0</td>\n",
              "    </tr>\n",
              "    <tr>\n",
              "      <th>2</th>\n",
              "      <td>1111010100100500010</td>\n",
              "      <td>3000136</td>\n",
              "      <td>505</td>\n",
              "      <td>2015</td>\n",
              "      <td>11110</td>\n",
              "      <td>종로구</td>\n",
              "      <td>10100</td>\n",
              "      <td>청운동</td>\n",
              "      <td>50.0</td>\n",
              "      <td>10.0</td>\n",
              "      <td>글로리아파크</td>\n",
              "      <td>2.0</td>\n",
              "      <td>4.0</td>\n",
              "      <td>다세대/연립</td>\n",
              "      <td>79.14</td>\n",
              "      <td>1.0</td>\n",
              "      <td>전세</td>\n",
              "      <td>38000</td>\n",
              "      <td>0</td>\n",
              "      <td>2015.0</td>\n",
              "      <td>20150822</td>\n",
              "      <td>2002.0</td>\n",
              "    </tr>\n",
              "    <tr>\n",
              "      <th>3</th>\n",
              "      <td>1111010100100520018</td>\n",
              "      <td>3000136</td>\n",
              "      <td>637</td>\n",
              "      <td>2015</td>\n",
              "      <td>11110</td>\n",
              "      <td>종로구</td>\n",
              "      <td>10100</td>\n",
              "      <td>청운동</td>\n",
              "      <td>52.0</td>\n",
              "      <td>18.0</td>\n",
              "      <td>귀빈하우스</td>\n",
              "      <td>2.0</td>\n",
              "      <td>4.0</td>\n",
              "      <td>다세대/연립</td>\n",
              "      <td>102.40</td>\n",
              "      <td>1.0</td>\n",
              "      <td>전세</td>\n",
              "      <td>43000</td>\n",
              "      <td>0</td>\n",
              "      <td>2015.0</td>\n",
              "      <td>20150902</td>\n",
              "      <td>2000.0</td>\n",
              "    </tr>\n",
              "    <tr>\n",
              "      <th>4</th>\n",
              "      <td>1111010100100520018</td>\n",
              "      <td>3000136</td>\n",
              "      <td>129</td>\n",
              "      <td>2018</td>\n",
              "      <td>11110</td>\n",
              "      <td>종로구</td>\n",
              "      <td>10100</td>\n",
              "      <td>청운동</td>\n",
              "      <td>52.0</td>\n",
              "      <td>18.0</td>\n",
              "      <td>귀빈하우스</td>\n",
              "      <td>2.0</td>\n",
              "      <td>4.0</td>\n",
              "      <td>다세대/연립</td>\n",
              "      <td>102.40</td>\n",
              "      <td>1.0</td>\n",
              "      <td>전세</td>\n",
              "      <td>43000</td>\n",
              "      <td>0</td>\n",
              "      <td>2015.0</td>\n",
              "      <td>20150902</td>\n",
              "      <td>2000.0</td>\n",
              "    </tr>\n",
              "  </tbody>\n",
              "</table>\n",
              "</div>"
            ],
            "text/plain": [
              "                  지번코드     기관코드  일련번호  접수년도  ...  임대료    계약년도      계약일자    건축년도\n",
              "0  1111010100100740001  3000136   457  2015  ...    0  2015.0  20150623  1991.0\n",
              "1  1111010100100560041  3000136     5  2016  ...    0  2015.0  20150921  2007.0\n",
              "2  1111010100100500010  3000136   505  2015  ...    0  2015.0  20150822  2002.0\n",
              "3  1111010100100520018  3000136   637  2015  ...    0  2015.0  20150902  2000.0\n",
              "4  1111010100100520018  3000136   129  2018  ...    0  2015.0  20150902  2000.0\n",
              "\n",
              "[5 rows x 22 columns]"
            ]
          },
          "metadata": {
            "tags": []
          },
          "execution_count": 10
        }
      ]
    },
    {
      "cell_type": "code",
      "metadata": {
        "id": "MhV_sr0qTCjK",
        "colab_type": "code",
        "outputId": "54fd41dc-caf5-4c3f-a874-5bd00eecfcba",
        "colab": {
          "base_uri": "https://localhost:8080/",
          "height": 539
        }
      },
      "source": [
        "df.info()"
      ],
      "execution_count": 11,
      "outputs": [
        {
          "output_type": "stream",
          "text": [
            "<class 'pandas.core.frame.DataFrame'>\n",
            "RangeIndex: 2016400 entries, 0 to 2016399\n",
            "Data columns (total 22 columns):\n",
            " #   Column   Dtype  \n",
            "---  ------   -----  \n",
            " 0   지번코드     object \n",
            " 1   기관코드     int64  \n",
            " 2   일련번호     int64  \n",
            " 3   접수년도     int64  \n",
            " 4   자치구코드    int64  \n",
            " 5   자치구명     object \n",
            " 6   법정동코드    int64  \n",
            " 7   법정동명     object \n",
            " 8   본번       float64\n",
            " 9   부번       float64\n",
            " 10  건물명      object \n",
            " 11  층        float64\n",
            " 12  임대건물코드   float64\n",
            " 13  임대건물명    object \n",
            " 14  임대면적     float64\n",
            " 15  전월세구분코드  float64\n",
            " 16  전월세구분    object \n",
            " 17  보증금      int64  \n",
            " 18  임대료      int64  \n",
            " 19  계약년도     float64\n",
            " 20  계약일자     int64  \n",
            " 21  건축년도     float64\n",
            "dtypes: float64(8), int64(8), object(6)\n",
            "memory usage: 338.4+ MB\n"
          ],
          "name": "stdout"
        }
      ]
    },
    {
      "cell_type": "code",
      "metadata": {
        "id": "jM2D7Q3apP-G",
        "colab_type": "code",
        "outputId": "7a73d4d4-ad60-4357-d0ba-aa6dcd9d84aa",
        "colab": {
          "base_uri": "https://localhost:8080/",
          "height": 35
        }
      },
      "source": [
        "df.일련번호.max()"
      ],
      "execution_count": 12,
      "outputs": [
        {
          "output_type": "execute_result",
          "data": {
            "text/plain": [
              "9000411"
            ]
          },
          "metadata": {
            "tags": []
          },
          "execution_count": 12
        }
      ]
    },
    {
      "cell_type": "code",
      "metadata": {
        "id": "ukHBuShtUA9o",
        "colab_type": "code",
        "outputId": "5b4b6358-74f0-4189-8be3-3de4fc292cde",
        "colab": {
          "base_uri": "https://localhost:8080/",
          "height": 114
        }
      },
      "source": [
        "df[df.일련번호==9000411]"
      ],
      "execution_count": 13,
      "outputs": [
        {
          "output_type": "execute_result",
          "data": {
            "text/html": [
              "<div>\n",
              "<style scoped>\n",
              "    .dataframe tbody tr th:only-of-type {\n",
              "        vertical-align: middle;\n",
              "    }\n",
              "\n",
              "    .dataframe tbody tr th {\n",
              "        vertical-align: top;\n",
              "    }\n",
              "\n",
              "    .dataframe thead th {\n",
              "        text-align: right;\n",
              "    }\n",
              "</style>\n",
              "<table border=\"1\" class=\"dataframe\">\n",
              "  <thead>\n",
              "    <tr style=\"text-align: right;\">\n",
              "      <th></th>\n",
              "      <th>지번코드</th>\n",
              "      <th>기관코드</th>\n",
              "      <th>일련번호</th>\n",
              "      <th>접수년도</th>\n",
              "      <th>자치구코드</th>\n",
              "      <th>자치구명</th>\n",
              "      <th>법정동코드</th>\n",
              "      <th>법정동명</th>\n",
              "      <th>본번</th>\n",
              "      <th>부번</th>\n",
              "      <th>건물명</th>\n",
              "      <th>층</th>\n",
              "      <th>임대건물코드</th>\n",
              "      <th>임대건물명</th>\n",
              "      <th>임대면적</th>\n",
              "      <th>전월세구분코드</th>\n",
              "      <th>전월세구분</th>\n",
              "      <th>보증금</th>\n",
              "      <th>임대료</th>\n",
              "      <th>계약년도</th>\n",
              "      <th>계약일자</th>\n",
              "      <th>건축년도</th>\n",
              "    </tr>\n",
              "  </thead>\n",
              "  <tbody>\n",
              "    <tr>\n",
              "      <th>2008484</th>\n",
              "      <td>1174011000106990000</td>\n",
              "      <td>3240086</td>\n",
              "      <td>9000411</td>\n",
              "      <td>2019</td>\n",
              "      <td>11740</td>\n",
              "      <td>강동구</td>\n",
              "      <td>11000</td>\n",
              "      <td>강일동</td>\n",
              "      <td>699.0</td>\n",
              "      <td>0.0</td>\n",
              "      <td>강일리버파크9단지</td>\n",
              "      <td>15.0</td>\n",
              "      <td>1.0</td>\n",
              "      <td>아파트</td>\n",
              "      <td>49.86</td>\n",
              "      <td>1.0</td>\n",
              "      <td>전세</td>\n",
              "      <td>8336</td>\n",
              "      <td>0</td>\n",
              "      <td>2019.0</td>\n",
              "      <td>20190619</td>\n",
              "      <td>2009.0</td>\n",
              "    </tr>\n",
              "  </tbody>\n",
              "</table>\n",
              "</div>"
            ],
            "text/plain": [
              "                        지번코드     기관코드     일련번호  ...    계약년도      계약일자    건축년도\n",
              "2008484  1174011000106990000  3240086  9000411  ...  2019.0  20190619  2009.0\n",
              "\n",
              "[1 rows x 22 columns]"
            ]
          },
          "metadata": {
            "tags": []
          },
          "execution_count": 13
        }
      ]
    },
    {
      "cell_type": "code",
      "metadata": {
        "id": "4-SaIRP2oUS4",
        "colab_type": "code",
        "colab": {}
      },
      "source": [
        "df['일련번호'] = df.일련번호.astype(str).apply(lambda x: x.zfill(7))"
      ],
      "execution_count": 0,
      "outputs": []
    },
    {
      "cell_type": "code",
      "metadata": {
        "id": "iWZXSE9lovCX",
        "colab_type": "code",
        "outputId": "86015513-2153-4699-cadc-d0514465618f",
        "colab": {
          "base_uri": "https://localhost:8080/",
          "height": 35
        }
      },
      "source": [
        "df.기관코드.max()"
      ],
      "execution_count": 15,
      "outputs": [
        {
          "output_type": "execute_result",
          "data": {
            "text/plain": [
              "9999999"
            ]
          },
          "metadata": {
            "tags": []
          },
          "execution_count": 15
        }
      ]
    },
    {
      "cell_type": "code",
      "metadata": {
        "id": "YNd3ml0fpWKb",
        "colab_type": "code",
        "colab": {}
      },
      "source": [
        "df['기관코드'] = df.기관코드.astype(str).apply(lambda x: x.zfill(7))"
      ],
      "execution_count": 0,
      "outputs": []
    },
    {
      "cell_type": "code",
      "metadata": {
        "id": "4AYAdMeQpk4z",
        "colab_type": "code",
        "outputId": "293df5db-2878-432d-f987-3637da20ebd4",
        "colab": {
          "base_uri": "https://localhost:8080/",
          "height": 53
        }
      },
      "source": [
        "print(max(df.지번코드.map(str).apply(len)))\n",
        "print(min(df.지번코드.map(str).apply(len)))"
      ],
      "execution_count": 17,
      "outputs": [
        {
          "output_type": "stream",
          "text": [
            "19\n",
            "10\n"
          ],
          "name": "stdout"
        }
      ]
    },
    {
      "cell_type": "code",
      "metadata": {
        "id": "3tAjNSkmp9pt",
        "colab_type": "code",
        "colab": {}
      },
      "source": [
        "df['지번코드'] = df.지번코드.astype(str).apply(lambda x: x.zfill(19))"
      ],
      "execution_count": 0,
      "outputs": []
    },
    {
      "cell_type": "code",
      "metadata": {
        "id": "TIqhv-q6vMMT",
        "colab_type": "code",
        "colab": {}
      },
      "source": [
        "data = df.reset_index()"
      ],
      "execution_count": 0,
      "outputs": []
    },
    {
      "cell_type": "code",
      "metadata": {
        "id": "hH0aIroKvrko",
        "colab_type": "code",
        "colab": {}
      },
      "source": [
        "data['index']= data['index'].astype(str).apply(lambda x: x.zfill(7))"
      ],
      "execution_count": 0,
      "outputs": []
    },
    {
      "cell_type": "code",
      "metadata": {
        "id": "goZUQN5GwVsn",
        "colab_type": "code",
        "outputId": "53310d80-40c2-4915-bf25-b80ce6d5f97d",
        "colab": {
          "base_uri": "https://localhost:8080/",
          "height": 306
        }
      },
      "source": [
        "data.head()"
      ],
      "execution_count": 21,
      "outputs": [
        {
          "output_type": "execute_result",
          "data": {
            "text/html": [
              "<div>\n",
              "<style scoped>\n",
              "    .dataframe tbody tr th:only-of-type {\n",
              "        vertical-align: middle;\n",
              "    }\n",
              "\n",
              "    .dataframe tbody tr th {\n",
              "        vertical-align: top;\n",
              "    }\n",
              "\n",
              "    .dataframe thead th {\n",
              "        text-align: right;\n",
              "    }\n",
              "</style>\n",
              "<table border=\"1\" class=\"dataframe\">\n",
              "  <thead>\n",
              "    <tr style=\"text-align: right;\">\n",
              "      <th></th>\n",
              "      <th>index</th>\n",
              "      <th>지번코드</th>\n",
              "      <th>기관코드</th>\n",
              "      <th>일련번호</th>\n",
              "      <th>접수년도</th>\n",
              "      <th>자치구코드</th>\n",
              "      <th>자치구명</th>\n",
              "      <th>법정동코드</th>\n",
              "      <th>법정동명</th>\n",
              "      <th>본번</th>\n",
              "      <th>부번</th>\n",
              "      <th>건물명</th>\n",
              "      <th>층</th>\n",
              "      <th>임대건물코드</th>\n",
              "      <th>임대건물명</th>\n",
              "      <th>임대면적</th>\n",
              "      <th>전월세구분코드</th>\n",
              "      <th>전월세구분</th>\n",
              "      <th>보증금</th>\n",
              "      <th>임대료</th>\n",
              "      <th>계약년도</th>\n",
              "      <th>계약일자</th>\n",
              "      <th>건축년도</th>\n",
              "    </tr>\n",
              "  </thead>\n",
              "  <tbody>\n",
              "    <tr>\n",
              "      <th>0</th>\n",
              "      <td>0000000</td>\n",
              "      <td>1111010100100740001</td>\n",
              "      <td>3000136</td>\n",
              "      <td>0000457</td>\n",
              "      <td>2015</td>\n",
              "      <td>11110</td>\n",
              "      <td>종로구</td>\n",
              "      <td>10100</td>\n",
              "      <td>청운동</td>\n",
              "      <td>74.0</td>\n",
              "      <td>1.0</td>\n",
              "      <td>우진빌딩</td>\n",
              "      <td>2.0</td>\n",
              "      <td>4.0</td>\n",
              "      <td>다세대/연립</td>\n",
              "      <td>82.69</td>\n",
              "      <td>1.0</td>\n",
              "      <td>전세</td>\n",
              "      <td>34000</td>\n",
              "      <td>0</td>\n",
              "      <td>2015.0</td>\n",
              "      <td>20150623</td>\n",
              "      <td>1991.0</td>\n",
              "    </tr>\n",
              "    <tr>\n",
              "      <th>1</th>\n",
              "      <td>0000001</td>\n",
              "      <td>1111010100100560041</td>\n",
              "      <td>3000136</td>\n",
              "      <td>0000005</td>\n",
              "      <td>2016</td>\n",
              "      <td>11110</td>\n",
              "      <td>종로구</td>\n",
              "      <td>10100</td>\n",
              "      <td>청운동</td>\n",
              "      <td>56.0</td>\n",
              "      <td>41.0</td>\n",
              "      <td>MJ하이빌</td>\n",
              "      <td>3.0</td>\n",
              "      <td>4.0</td>\n",
              "      <td>다세대/연립</td>\n",
              "      <td>75.00</td>\n",
              "      <td>1.0</td>\n",
              "      <td>전세</td>\n",
              "      <td>35000</td>\n",
              "      <td>0</td>\n",
              "      <td>2015.0</td>\n",
              "      <td>20150921</td>\n",
              "      <td>2007.0</td>\n",
              "    </tr>\n",
              "    <tr>\n",
              "      <th>2</th>\n",
              "      <td>0000002</td>\n",
              "      <td>1111010100100500010</td>\n",
              "      <td>3000136</td>\n",
              "      <td>0000505</td>\n",
              "      <td>2015</td>\n",
              "      <td>11110</td>\n",
              "      <td>종로구</td>\n",
              "      <td>10100</td>\n",
              "      <td>청운동</td>\n",
              "      <td>50.0</td>\n",
              "      <td>10.0</td>\n",
              "      <td>글로리아파크</td>\n",
              "      <td>2.0</td>\n",
              "      <td>4.0</td>\n",
              "      <td>다세대/연립</td>\n",
              "      <td>79.14</td>\n",
              "      <td>1.0</td>\n",
              "      <td>전세</td>\n",
              "      <td>38000</td>\n",
              "      <td>0</td>\n",
              "      <td>2015.0</td>\n",
              "      <td>20150822</td>\n",
              "      <td>2002.0</td>\n",
              "    </tr>\n",
              "    <tr>\n",
              "      <th>3</th>\n",
              "      <td>0000003</td>\n",
              "      <td>1111010100100520018</td>\n",
              "      <td>3000136</td>\n",
              "      <td>0000637</td>\n",
              "      <td>2015</td>\n",
              "      <td>11110</td>\n",
              "      <td>종로구</td>\n",
              "      <td>10100</td>\n",
              "      <td>청운동</td>\n",
              "      <td>52.0</td>\n",
              "      <td>18.0</td>\n",
              "      <td>귀빈하우스</td>\n",
              "      <td>2.0</td>\n",
              "      <td>4.0</td>\n",
              "      <td>다세대/연립</td>\n",
              "      <td>102.40</td>\n",
              "      <td>1.0</td>\n",
              "      <td>전세</td>\n",
              "      <td>43000</td>\n",
              "      <td>0</td>\n",
              "      <td>2015.0</td>\n",
              "      <td>20150902</td>\n",
              "      <td>2000.0</td>\n",
              "    </tr>\n",
              "    <tr>\n",
              "      <th>4</th>\n",
              "      <td>0000004</td>\n",
              "      <td>1111010100100520018</td>\n",
              "      <td>3000136</td>\n",
              "      <td>0000129</td>\n",
              "      <td>2018</td>\n",
              "      <td>11110</td>\n",
              "      <td>종로구</td>\n",
              "      <td>10100</td>\n",
              "      <td>청운동</td>\n",
              "      <td>52.0</td>\n",
              "      <td>18.0</td>\n",
              "      <td>귀빈하우스</td>\n",
              "      <td>2.0</td>\n",
              "      <td>4.0</td>\n",
              "      <td>다세대/연립</td>\n",
              "      <td>102.40</td>\n",
              "      <td>1.0</td>\n",
              "      <td>전세</td>\n",
              "      <td>43000</td>\n",
              "      <td>0</td>\n",
              "      <td>2015.0</td>\n",
              "      <td>20150902</td>\n",
              "      <td>2000.0</td>\n",
              "    </tr>\n",
              "  </tbody>\n",
              "</table>\n",
              "</div>"
            ],
            "text/plain": [
              "     index                 지번코드     기관코드  ...    계약년도      계약일자    건축년도\n",
              "0  0000000  1111010100100740001  3000136  ...  2015.0  20150623  1991.0\n",
              "1  0000001  1111010100100560041  3000136  ...  2015.0  20150921  2007.0\n",
              "2  0000002  1111010100100500010  3000136  ...  2015.0  20150822  2002.0\n",
              "3  0000003  1111010100100520018  3000136  ...  2015.0  20150902  2000.0\n",
              "4  0000004  1111010100100520018  3000136  ...  2015.0  20150902  2000.0\n",
              "\n",
              "[5 rows x 23 columns]"
            ]
          },
          "metadata": {
            "tags": []
          },
          "execution_count": 21
        }
      ]
    },
    {
      "cell_type": "code",
      "metadata": {
        "id": "4gfSr2_bq_1g",
        "colab_type": "code",
        "colab": {}
      },
      "source": [
        "data['key'] =data['index'].map(str)+data.지번코드.map(str)+data.기관코드.map(str)+data.일련번호.map(str)"
      ],
      "execution_count": 0,
      "outputs": []
    },
    {
      "cell_type": "code",
      "metadata": {
        "id": "QcGG-SCHr748",
        "colab_type": "code",
        "outputId": "8745f1ff-28c2-4e76-95c4-da2910463f6e",
        "colab": {
          "base_uri": "https://localhost:8080/",
          "height": 323
        }
      },
      "source": [
        "data.head()"
      ],
      "execution_count": 23,
      "outputs": [
        {
          "output_type": "execute_result",
          "data": {
            "text/html": [
              "<div>\n",
              "<style scoped>\n",
              "    .dataframe tbody tr th:only-of-type {\n",
              "        vertical-align: middle;\n",
              "    }\n",
              "\n",
              "    .dataframe tbody tr th {\n",
              "        vertical-align: top;\n",
              "    }\n",
              "\n",
              "    .dataframe thead th {\n",
              "        text-align: right;\n",
              "    }\n",
              "</style>\n",
              "<table border=\"1\" class=\"dataframe\">\n",
              "  <thead>\n",
              "    <tr style=\"text-align: right;\">\n",
              "      <th></th>\n",
              "      <th>index</th>\n",
              "      <th>지번코드</th>\n",
              "      <th>기관코드</th>\n",
              "      <th>일련번호</th>\n",
              "      <th>접수년도</th>\n",
              "      <th>자치구코드</th>\n",
              "      <th>자치구명</th>\n",
              "      <th>법정동코드</th>\n",
              "      <th>법정동명</th>\n",
              "      <th>본번</th>\n",
              "      <th>부번</th>\n",
              "      <th>건물명</th>\n",
              "      <th>층</th>\n",
              "      <th>임대건물코드</th>\n",
              "      <th>임대건물명</th>\n",
              "      <th>임대면적</th>\n",
              "      <th>전월세구분코드</th>\n",
              "      <th>전월세구분</th>\n",
              "      <th>보증금</th>\n",
              "      <th>임대료</th>\n",
              "      <th>계약년도</th>\n",
              "      <th>계약일자</th>\n",
              "      <th>건축년도</th>\n",
              "      <th>key</th>\n",
              "    </tr>\n",
              "  </thead>\n",
              "  <tbody>\n",
              "    <tr>\n",
              "      <th>0</th>\n",
              "      <td>0000000</td>\n",
              "      <td>1111010100100740001</td>\n",
              "      <td>3000136</td>\n",
              "      <td>0000457</td>\n",
              "      <td>2015</td>\n",
              "      <td>11110</td>\n",
              "      <td>종로구</td>\n",
              "      <td>10100</td>\n",
              "      <td>청운동</td>\n",
              "      <td>74.0</td>\n",
              "      <td>1.0</td>\n",
              "      <td>우진빌딩</td>\n",
              "      <td>2.0</td>\n",
              "      <td>4.0</td>\n",
              "      <td>다세대/연립</td>\n",
              "      <td>82.69</td>\n",
              "      <td>1.0</td>\n",
              "      <td>전세</td>\n",
              "      <td>34000</td>\n",
              "      <td>0</td>\n",
              "      <td>2015.0</td>\n",
              "      <td>20150623</td>\n",
              "      <td>1991.0</td>\n",
              "      <td>0000000111101010010074000130001360000457</td>\n",
              "    </tr>\n",
              "    <tr>\n",
              "      <th>1</th>\n",
              "      <td>0000001</td>\n",
              "      <td>1111010100100560041</td>\n",
              "      <td>3000136</td>\n",
              "      <td>0000005</td>\n",
              "      <td>2016</td>\n",
              "      <td>11110</td>\n",
              "      <td>종로구</td>\n",
              "      <td>10100</td>\n",
              "      <td>청운동</td>\n",
              "      <td>56.0</td>\n",
              "      <td>41.0</td>\n",
              "      <td>MJ하이빌</td>\n",
              "      <td>3.0</td>\n",
              "      <td>4.0</td>\n",
              "      <td>다세대/연립</td>\n",
              "      <td>75.00</td>\n",
              "      <td>1.0</td>\n",
              "      <td>전세</td>\n",
              "      <td>35000</td>\n",
              "      <td>0</td>\n",
              "      <td>2015.0</td>\n",
              "      <td>20150921</td>\n",
              "      <td>2007.0</td>\n",
              "      <td>0000001111101010010056004130001360000005</td>\n",
              "    </tr>\n",
              "    <tr>\n",
              "      <th>2</th>\n",
              "      <td>0000002</td>\n",
              "      <td>1111010100100500010</td>\n",
              "      <td>3000136</td>\n",
              "      <td>0000505</td>\n",
              "      <td>2015</td>\n",
              "      <td>11110</td>\n",
              "      <td>종로구</td>\n",
              "      <td>10100</td>\n",
              "      <td>청운동</td>\n",
              "      <td>50.0</td>\n",
              "      <td>10.0</td>\n",
              "      <td>글로리아파크</td>\n",
              "      <td>2.0</td>\n",
              "      <td>4.0</td>\n",
              "      <td>다세대/연립</td>\n",
              "      <td>79.14</td>\n",
              "      <td>1.0</td>\n",
              "      <td>전세</td>\n",
              "      <td>38000</td>\n",
              "      <td>0</td>\n",
              "      <td>2015.0</td>\n",
              "      <td>20150822</td>\n",
              "      <td>2002.0</td>\n",
              "      <td>0000002111101010010050001030001360000505</td>\n",
              "    </tr>\n",
              "    <tr>\n",
              "      <th>3</th>\n",
              "      <td>0000003</td>\n",
              "      <td>1111010100100520018</td>\n",
              "      <td>3000136</td>\n",
              "      <td>0000637</td>\n",
              "      <td>2015</td>\n",
              "      <td>11110</td>\n",
              "      <td>종로구</td>\n",
              "      <td>10100</td>\n",
              "      <td>청운동</td>\n",
              "      <td>52.0</td>\n",
              "      <td>18.0</td>\n",
              "      <td>귀빈하우스</td>\n",
              "      <td>2.0</td>\n",
              "      <td>4.0</td>\n",
              "      <td>다세대/연립</td>\n",
              "      <td>102.40</td>\n",
              "      <td>1.0</td>\n",
              "      <td>전세</td>\n",
              "      <td>43000</td>\n",
              "      <td>0</td>\n",
              "      <td>2015.0</td>\n",
              "      <td>20150902</td>\n",
              "      <td>2000.0</td>\n",
              "      <td>0000003111101010010052001830001360000637</td>\n",
              "    </tr>\n",
              "    <tr>\n",
              "      <th>4</th>\n",
              "      <td>0000004</td>\n",
              "      <td>1111010100100520018</td>\n",
              "      <td>3000136</td>\n",
              "      <td>0000129</td>\n",
              "      <td>2018</td>\n",
              "      <td>11110</td>\n",
              "      <td>종로구</td>\n",
              "      <td>10100</td>\n",
              "      <td>청운동</td>\n",
              "      <td>52.0</td>\n",
              "      <td>18.0</td>\n",
              "      <td>귀빈하우스</td>\n",
              "      <td>2.0</td>\n",
              "      <td>4.0</td>\n",
              "      <td>다세대/연립</td>\n",
              "      <td>102.40</td>\n",
              "      <td>1.0</td>\n",
              "      <td>전세</td>\n",
              "      <td>43000</td>\n",
              "      <td>0</td>\n",
              "      <td>2015.0</td>\n",
              "      <td>20150902</td>\n",
              "      <td>2000.0</td>\n",
              "      <td>0000004111101010010052001830001360000129</td>\n",
              "    </tr>\n",
              "  </tbody>\n",
              "</table>\n",
              "</div>"
            ],
            "text/plain": [
              "     index  ...                                       key\n",
              "0  0000000  ...  0000000111101010010074000130001360000457\n",
              "1  0000001  ...  0000001111101010010056004130001360000005\n",
              "2  0000002  ...  0000002111101010010050001030001360000505\n",
              "3  0000003  ...  0000003111101010010052001830001360000637\n",
              "4  0000004  ...  0000004111101010010052001830001360000129\n",
              "\n",
              "[5 rows x 24 columns]"
            ]
          },
          "metadata": {
            "tags": []
          },
          "execution_count": 23
        }
      ]
    },
    {
      "cell_type": "code",
      "metadata": {
        "id": "T0ufHOj2tFC6",
        "colab_type": "code",
        "outputId": "538bf900-ebdf-4d8d-880c-6b1c18e68c2e",
        "colab": {
          "base_uri": "https://localhost:8080/",
          "height": 107
        }
      },
      "source": [
        "data.key.describe()"
      ],
      "execution_count": 24,
      "outputs": [
        {
          "output_type": "execute_result",
          "data": {
            "text/plain": [
              "count                                      2016400\n",
              "unique                                     2016400\n",
              "top       1196301115901010010204000131900390001795\n",
              "freq                                             1\n",
              "Name: key, dtype: object"
            ]
          },
          "metadata": {
            "tags": []
          },
          "execution_count": 24
        }
      ]
    },
    {
      "cell_type": "code",
      "metadata": {
        "id": "PV6b0fRU6ddv",
        "colab_type": "code",
        "colab": {
          "base_uri": "https://localhost:8080/",
          "height": 575
        },
        "outputId": "af35f3c2-f090-49e0-8ac7-e6045e0d954d"
      },
      "source": [
        "data.info()"
      ],
      "execution_count": 25,
      "outputs": [
        {
          "output_type": "stream",
          "text": [
            "<class 'pandas.core.frame.DataFrame'>\n",
            "RangeIndex: 2016400 entries, 0 to 2016399\n",
            "Data columns (total 24 columns):\n",
            " #   Column   Dtype  \n",
            "---  ------   -----  \n",
            " 0   index    object \n",
            " 1   지번코드     object \n",
            " 2   기관코드     object \n",
            " 3   일련번호     object \n",
            " 4   접수년도     int64  \n",
            " 5   자치구코드    int64  \n",
            " 6   자치구명     object \n",
            " 7   법정동코드    int64  \n",
            " 8   법정동명     object \n",
            " 9   본번       float64\n",
            " 10  부번       float64\n",
            " 11  건물명      object \n",
            " 12  층        float64\n",
            " 13  임대건물코드   float64\n",
            " 14  임대건물명    object \n",
            " 15  임대면적     float64\n",
            " 16  전월세구분코드  float64\n",
            " 17  전월세구분    object \n",
            " 18  보증금      int64  \n",
            " 19  임대료      int64  \n",
            " 20  계약년도     float64\n",
            " 21  계약일자     int64  \n",
            " 22  건축년도     float64\n",
            " 23  key      object \n",
            "dtypes: float64(8), int64(6), object(10)\n",
            "memory usage: 369.2+ MB\n"
          ],
          "name": "stdout"
        }
      ]
    },
    {
      "cell_type": "code",
      "metadata": {
        "id": "0m7NTCPp6gT3",
        "colab_type": "code",
        "colab": {
          "base_uri": "https://localhost:8080/",
          "height": 467
        },
        "outputId": "b97aeb4f-97c4-4f86-e661-f1ce593365a1"
      },
      "source": [
        "na = data.isnull()\n",
        "na_sum = na.sum()\n",
        "na_sum = na_sum.sort_values(ascending = False)\n",
        "na_sum"
      ],
      "execution_count": 27,
      "outputs": [
        {
          "output_type": "execute_result",
          "data": {
            "text/plain": [
              "층          540320\n",
              "건물명        528680\n",
              "본번         528652\n",
              "부번         528652\n",
              "건축년도        42309\n",
              "임대면적           25\n",
              "자치구명           15\n",
              "법정동명           15\n",
              "지번코드            0\n",
              "기관코드            0\n",
              "일련번호            0\n",
              "접수년도            0\n",
              "자치구코드           0\n",
              "법정동코드           0\n",
              "key             0\n",
              "임대건물코드          0\n",
              "임대건물명           0\n",
              "전월세구분코드         0\n",
              "전월세구분           0\n",
              "보증금             0\n",
              "임대료             0\n",
              "계약년도            0\n",
              "계약일자            0\n",
              "index           0\n",
              "dtype: int64"
            ]
          },
          "metadata": {
            "tags": []
          },
          "execution_count": 27
        }
      ]
    },
    {
      "cell_type": "code",
      "metadata": {
        "id": "IIC0odPt9gOE",
        "colab_type": "code",
        "colab": {
          "base_uri": "https://localhost:8080/",
          "height": 483
        },
        "outputId": "b5869876-4ed4-47cb-e5ad-6a56d444e2f0"
      },
      "source": [
        "data.corr()"
      ],
      "execution_count": 28,
      "outputs": [
        {
          "output_type": "execute_result",
          "data": {
            "text/html": [
              "<div>\n",
              "<style scoped>\n",
              "    .dataframe tbody tr th:only-of-type {\n",
              "        vertical-align: middle;\n",
              "    }\n",
              "\n",
              "    .dataframe tbody tr th {\n",
              "        vertical-align: top;\n",
              "    }\n",
              "\n",
              "    .dataframe thead th {\n",
              "        text-align: right;\n",
              "    }\n",
              "</style>\n",
              "<table border=\"1\" class=\"dataframe\">\n",
              "  <thead>\n",
              "    <tr style=\"text-align: right;\">\n",
              "      <th></th>\n",
              "      <th>접수년도</th>\n",
              "      <th>자치구코드</th>\n",
              "      <th>법정동코드</th>\n",
              "      <th>본번</th>\n",
              "      <th>부번</th>\n",
              "      <th>층</th>\n",
              "      <th>임대건물코드</th>\n",
              "      <th>임대면적</th>\n",
              "      <th>전월세구분코드</th>\n",
              "      <th>보증금</th>\n",
              "      <th>임대료</th>\n",
              "      <th>계약년도</th>\n",
              "      <th>계약일자</th>\n",
              "      <th>건축년도</th>\n",
              "    </tr>\n",
              "  </thead>\n",
              "  <tbody>\n",
              "    <tr>\n",
              "      <th>접수년도</th>\n",
              "      <td>1.000000</td>\n",
              "      <td>0.008234</td>\n",
              "      <td>-0.008358</td>\n",
              "      <td>0.007259</td>\n",
              "      <td>-0.005074</td>\n",
              "      <td>0.002427</td>\n",
              "      <td>0.074923</td>\n",
              "      <td>-0.097113</td>\n",
              "      <td>NaN</td>\n",
              "      <td>0.207444</td>\n",
              "      <td>-0.001296</td>\n",
              "      <td>0.983712</td>\n",
              "      <td>0.984189</td>\n",
              "      <td>0.106411</td>\n",
              "    </tr>\n",
              "    <tr>\n",
              "      <th>자치구코드</th>\n",
              "      <td>0.008234</td>\n",
              "      <td>1.000000</td>\n",
              "      <td>-0.288679</td>\n",
              "      <td>-0.001995</td>\n",
              "      <td>-0.084823</td>\n",
              "      <td>-0.010653</td>\n",
              "      <td>0.016292</td>\n",
              "      <td>0.057210</td>\n",
              "      <td>NaN</td>\n",
              "      <td>0.174271</td>\n",
              "      <td>0.000433</td>\n",
              "      <td>0.010030</td>\n",
              "      <td>0.010159</td>\n",
              "      <td>0.006960</td>\n",
              "    </tr>\n",
              "    <tr>\n",
              "      <th>법정동코드</th>\n",
              "      <td>-0.008358</td>\n",
              "      <td>-0.288679</td>\n",
              "      <td>1.000000</td>\n",
              "      <td>0.013872</td>\n",
              "      <td>0.057335</td>\n",
              "      <td>0.022488</td>\n",
              "      <td>0.011507</td>\n",
              "      <td>0.021030</td>\n",
              "      <td>NaN</td>\n",
              "      <td>0.004308</td>\n",
              "      <td>0.000025</td>\n",
              "      <td>-0.008394</td>\n",
              "      <td>-0.008412</td>\n",
              "      <td>0.005797</td>\n",
              "    </tr>\n",
              "    <tr>\n",
              "      <th>본번</th>\n",
              "      <td>0.007259</td>\n",
              "      <td>-0.001995</td>\n",
              "      <td>0.013872</td>\n",
              "      <td>1.000000</td>\n",
              "      <td>-0.060796</td>\n",
              "      <td>0.097824</td>\n",
              "      <td>-0.112017</td>\n",
              "      <td>0.058896</td>\n",
              "      <td>NaN</td>\n",
              "      <td>0.049587</td>\n",
              "      <td>-0.000689</td>\n",
              "      <td>0.006138</td>\n",
              "      <td>0.006141</td>\n",
              "      <td>0.088351</td>\n",
              "    </tr>\n",
              "    <tr>\n",
              "      <th>부번</th>\n",
              "      <td>-0.005074</td>\n",
              "      <td>-0.084823</td>\n",
              "      <td>0.057335</td>\n",
              "      <td>-0.060796</td>\n",
              "      <td>1.000000</td>\n",
              "      <td>-0.124935</td>\n",
              "      <td>0.141813</td>\n",
              "      <td>-0.100646</td>\n",
              "      <td>NaN</td>\n",
              "      <td>-0.119856</td>\n",
              "      <td>-0.000141</td>\n",
              "      <td>-0.004427</td>\n",
              "      <td>-0.004532</td>\n",
              "      <td>0.026472</td>\n",
              "    </tr>\n",
              "    <tr>\n",
              "      <th>층</th>\n",
              "      <td>0.002427</td>\n",
              "      <td>-0.010653</td>\n",
              "      <td>0.022488</td>\n",
              "      <td>0.097824</td>\n",
              "      <td>-0.124935</td>\n",
              "      <td>1.000000</td>\n",
              "      <td>-0.265512</td>\n",
              "      <td>0.256413</td>\n",
              "      <td>NaN</td>\n",
              "      <td>0.352474</td>\n",
              "      <td>-0.000548</td>\n",
              "      <td>0.001000</td>\n",
              "      <td>0.001167</td>\n",
              "      <td>0.082605</td>\n",
              "    </tr>\n",
              "    <tr>\n",
              "      <th>임대건물코드</th>\n",
              "      <td>0.074923</td>\n",
              "      <td>0.016292</td>\n",
              "      <td>0.011507</td>\n",
              "      <td>-0.112017</td>\n",
              "      <td>0.141813</td>\n",
              "      <td>-0.265512</td>\n",
              "      <td>1.000000</td>\n",
              "      <td>-0.387427</td>\n",
              "      <td>NaN</td>\n",
              "      <td>-0.301918</td>\n",
              "      <td>0.004111</td>\n",
              "      <td>0.080397</td>\n",
              "      <td>0.080277</td>\n",
              "      <td>0.177210</td>\n",
              "    </tr>\n",
              "    <tr>\n",
              "      <th>임대면적</th>\n",
              "      <td>-0.097113</td>\n",
              "      <td>0.057210</td>\n",
              "      <td>0.021030</td>\n",
              "      <td>0.058896</td>\n",
              "      <td>-0.100646</td>\n",
              "      <td>0.256413</td>\n",
              "      <td>-0.387427</td>\n",
              "      <td>1.000000</td>\n",
              "      <td>NaN</td>\n",
              "      <td>0.666621</td>\n",
              "      <td>-0.001245</td>\n",
              "      <td>-0.098599</td>\n",
              "      <td>-0.098409</td>\n",
              "      <td>-0.059012</td>\n",
              "    </tr>\n",
              "    <tr>\n",
              "      <th>전월세구분코드</th>\n",
              "      <td>NaN</td>\n",
              "      <td>NaN</td>\n",
              "      <td>NaN</td>\n",
              "      <td>NaN</td>\n",
              "      <td>NaN</td>\n",
              "      <td>NaN</td>\n",
              "      <td>NaN</td>\n",
              "      <td>NaN</td>\n",
              "      <td>NaN</td>\n",
              "      <td>NaN</td>\n",
              "      <td>NaN</td>\n",
              "      <td>NaN</td>\n",
              "      <td>NaN</td>\n",
              "      <td>NaN</td>\n",
              "    </tr>\n",
              "    <tr>\n",
              "      <th>보증금</th>\n",
              "      <td>0.207444</td>\n",
              "      <td>0.174271</td>\n",
              "      <td>0.004308</td>\n",
              "      <td>0.049587</td>\n",
              "      <td>-0.119856</td>\n",
              "      <td>0.352474</td>\n",
              "      <td>-0.301918</td>\n",
              "      <td>0.666621</td>\n",
              "      <td>NaN</td>\n",
              "      <td>1.000000</td>\n",
              "      <td>-0.000874</td>\n",
              "      <td>0.210271</td>\n",
              "      <td>0.211035</td>\n",
              "      <td>0.110640</td>\n",
              "    </tr>\n",
              "    <tr>\n",
              "      <th>임대료</th>\n",
              "      <td>-0.001296</td>\n",
              "      <td>0.000433</td>\n",
              "      <td>0.000025</td>\n",
              "      <td>-0.000689</td>\n",
              "      <td>-0.000141</td>\n",
              "      <td>-0.000548</td>\n",
              "      <td>0.004111</td>\n",
              "      <td>-0.001245</td>\n",
              "      <td>NaN</td>\n",
              "      <td>-0.000874</td>\n",
              "      <td>1.000000</td>\n",
              "      <td>-0.001242</td>\n",
              "      <td>-0.001255</td>\n",
              "      <td>0.000292</td>\n",
              "    </tr>\n",
              "    <tr>\n",
              "      <th>계약년도</th>\n",
              "      <td>0.983712</td>\n",
              "      <td>0.010030</td>\n",
              "      <td>-0.008394</td>\n",
              "      <td>0.006138</td>\n",
              "      <td>-0.004427</td>\n",
              "      <td>0.001000</td>\n",
              "      <td>0.080397</td>\n",
              "      <td>-0.098599</td>\n",
              "      <td>NaN</td>\n",
              "      <td>0.210271</td>\n",
              "      <td>-0.001242</td>\n",
              "      <td>1.000000</td>\n",
              "      <td>0.999902</td>\n",
              "      <td>0.111094</td>\n",
              "    </tr>\n",
              "    <tr>\n",
              "      <th>계약일자</th>\n",
              "      <td>0.984189</td>\n",
              "      <td>0.010159</td>\n",
              "      <td>-0.008412</td>\n",
              "      <td>0.006141</td>\n",
              "      <td>-0.004532</td>\n",
              "      <td>0.001167</td>\n",
              "      <td>0.080277</td>\n",
              "      <td>-0.098409</td>\n",
              "      <td>NaN</td>\n",
              "      <td>0.211035</td>\n",
              "      <td>-0.001255</td>\n",
              "      <td>0.999902</td>\n",
              "      <td>1.000000</td>\n",
              "      <td>0.111184</td>\n",
              "    </tr>\n",
              "    <tr>\n",
              "      <th>건축년도</th>\n",
              "      <td>0.106411</td>\n",
              "      <td>0.006960</td>\n",
              "      <td>0.005797</td>\n",
              "      <td>0.088351</td>\n",
              "      <td>0.026472</td>\n",
              "      <td>0.082605</td>\n",
              "      <td>0.177210</td>\n",
              "      <td>-0.059012</td>\n",
              "      <td>NaN</td>\n",
              "      <td>0.110640</td>\n",
              "      <td>0.000292</td>\n",
              "      <td>0.111094</td>\n",
              "      <td>0.111184</td>\n",
              "      <td>1.000000</td>\n",
              "    </tr>\n",
              "  </tbody>\n",
              "</table>\n",
              "</div>"
            ],
            "text/plain": [
              "             접수년도     자치구코드     법정동코드  ...      계약년도      계약일자      건축년도\n",
              "접수년도     1.000000  0.008234 -0.008358  ...  0.983712  0.984189  0.106411\n",
              "자치구코드    0.008234  1.000000 -0.288679  ...  0.010030  0.010159  0.006960\n",
              "법정동코드   -0.008358 -0.288679  1.000000  ... -0.008394 -0.008412  0.005797\n",
              "본번       0.007259 -0.001995  0.013872  ...  0.006138  0.006141  0.088351\n",
              "부번      -0.005074 -0.084823  0.057335  ... -0.004427 -0.004532  0.026472\n",
              "층        0.002427 -0.010653  0.022488  ...  0.001000  0.001167  0.082605\n",
              "임대건물코드   0.074923  0.016292  0.011507  ...  0.080397  0.080277  0.177210\n",
              "임대면적    -0.097113  0.057210  0.021030  ... -0.098599 -0.098409 -0.059012\n",
              "전월세구분코드       NaN       NaN       NaN  ...       NaN       NaN       NaN\n",
              "보증금      0.207444  0.174271  0.004308  ...  0.210271  0.211035  0.110640\n",
              "임대료     -0.001296  0.000433  0.000025  ... -0.001242 -0.001255  0.000292\n",
              "계약년도     0.983712  0.010030 -0.008394  ...  1.000000  0.999902  0.111094\n",
              "계약일자     0.984189  0.010159 -0.008412  ...  0.999902  1.000000  0.111184\n",
              "건축년도     0.106411  0.006960  0.005797  ...  0.111094  0.111184  1.000000\n",
              "\n",
              "[14 rows x 14 columns]"
            ]
          },
          "metadata": {
            "tags": []
          },
          "execution_count": 28
        }
      ]
    },
    {
      "cell_type": "code",
      "metadata": {
        "id": "NVA3fYbquJGi",
        "colab_type": "code",
        "colab": {}
      },
      "source": [
        "data.본번 = data.본번.fillna(0).astype(int)\n",
        "data.부번 = data.부번.fillna(0).astype(int)\n",
        "data.층 = data.층.fillna(0).astype(int)\n",
        "data.임대건물코드 = data.임대건물코드.fillna(0).astype(int)\n",
        "data.전월세구분코드 = data.전월세구분코드.fillna(0).astype(int)\n",
        "data.계약년도 = data.계약년도.fillna(0).astype(int)\n",
        "data.건축년도 = data.건축년도.fillna(0).astype(int)"
      ],
      "execution_count": 0,
      "outputs": []
    },
    {
      "cell_type": "code",
      "metadata": {
        "id": "88RjyqFyxygA",
        "colab_type": "code",
        "outputId": "aa199fcc-8688-43de-ff12-7e99af5951c3",
        "colab": {
          "base_uri": "https://localhost:8080/",
          "height": 562
        }
      },
      "source": [
        "data.info()"
      ],
      "execution_count": 0,
      "outputs": [
        {
          "output_type": "stream",
          "text": [
            "<class 'pandas.core.frame.DataFrame'>\n",
            "RangeIndex: 2016400 entries, 0 to 2016399\n",
            "Data columns (total 24 columns):\n",
            " #   Column   Dtype  \n",
            "---  ------   -----  \n",
            " 0   index    object \n",
            " 1   지번코드     object \n",
            " 2   기관코드     object \n",
            " 3   일련번호     object \n",
            " 4   접수년도     int64  \n",
            " 5   자치구코드    int64  \n",
            " 6   자치구명     object \n",
            " 7   법정동코드    int64  \n",
            " 8   법정동명     object \n",
            " 9   본번       int64  \n",
            " 10  부번       int64  \n",
            " 11  건물명      object \n",
            " 12  층        int64  \n",
            " 13  임대건물코드   int64  \n",
            " 14  임대건물명    object \n",
            " 15  임대면적     float64\n",
            " 16  전월세구분코드  int64  \n",
            " 17  전월세구분    object \n",
            " 18  보증금      int64  \n",
            " 19  임대료      int64  \n",
            " 20  계약년도     int64  \n",
            " 21  계약일자     int64  \n",
            " 22  건축년도     int64  \n",
            " 23  key      object \n",
            "dtypes: float64(1), int64(13), object(10)\n",
            "memory usage: 369.2+ MB\n"
          ],
          "name": "stdout"
        }
      ]
    },
    {
      "cell_type": "code",
      "metadata": {
        "id": "JXaxRrJAxz5A",
        "colab_type": "code",
        "outputId": "293cceaa-c0fa-46c7-9de7-a900145f6bc3",
        "colab": {
          "base_uri": "https://localhost:8080/",
          "height": 669
        }
      },
      "source": [
        "data.head()"
      ],
      "execution_count": 0,
      "outputs": [
        {
          "output_type": "execute_result",
          "data": {
            "text/html": [
              "<div>\n",
              "<style scoped>\n",
              "    .dataframe tbody tr th:only-of-type {\n",
              "        vertical-align: middle;\n",
              "    }\n",
              "\n",
              "    .dataframe tbody tr th {\n",
              "        vertical-align: top;\n",
              "    }\n",
              "\n",
              "    .dataframe thead th {\n",
              "        text-align: right;\n",
              "    }\n",
              "</style>\n",
              "<table border=\"1\" class=\"dataframe\">\n",
              "  <thead>\n",
              "    <tr style=\"text-align: right;\">\n",
              "      <th></th>\n",
              "      <th>index</th>\n",
              "      <th>지번코드</th>\n",
              "      <th>기관코드</th>\n",
              "      <th>일련번호</th>\n",
              "      <th>접수년도</th>\n",
              "      <th>자치구코드</th>\n",
              "      <th>자치구명</th>\n",
              "      <th>법정동코드</th>\n",
              "      <th>법정동명</th>\n",
              "      <th>본번</th>\n",
              "      <th>부번</th>\n",
              "      <th>건물명</th>\n",
              "      <th>층</th>\n",
              "      <th>임대건물코드</th>\n",
              "      <th>임대건물명</th>\n",
              "      <th>임대면적</th>\n",
              "      <th>전월세구분코드</th>\n",
              "      <th>전월세구분</th>\n",
              "      <th>보증금</th>\n",
              "      <th>임대료</th>\n",
              "      <th>계약년도</th>\n",
              "      <th>계약일자</th>\n",
              "      <th>건축년도</th>\n",
              "      <th>key</th>\n",
              "    </tr>\n",
              "  </thead>\n",
              "  <tbody>\n",
              "    <tr>\n",
              "      <th>0</th>\n",
              "      <td>0000000</td>\n",
              "      <td>1111010100100740001</td>\n",
              "      <td>3000136</td>\n",
              "      <td>0000457</td>\n",
              "      <td>2015</td>\n",
              "      <td>11110</td>\n",
              "      <td>종로구</td>\n",
              "      <td>10100</td>\n",
              "      <td>청운동</td>\n",
              "      <td>74</td>\n",
              "      <td>1</td>\n",
              "      <td>우진빌딩</td>\n",
              "      <td>2</td>\n",
              "      <td>4</td>\n",
              "      <td>다세대/연립</td>\n",
              "      <td>82.69</td>\n",
              "      <td>1</td>\n",
              "      <td>전세</td>\n",
              "      <td>34000</td>\n",
              "      <td>0</td>\n",
              "      <td>2015</td>\n",
              "      <td>20150623</td>\n",
              "      <td>1991</td>\n",
              "      <td>0000000111101010010074000130001360000457</td>\n",
              "    </tr>\n",
              "    <tr>\n",
              "      <th>1</th>\n",
              "      <td>0000001</td>\n",
              "      <td>1111010100100560041</td>\n",
              "      <td>3000136</td>\n",
              "      <td>0000005</td>\n",
              "      <td>2016</td>\n",
              "      <td>11110</td>\n",
              "      <td>종로구</td>\n",
              "      <td>10100</td>\n",
              "      <td>청운동</td>\n",
              "      <td>56</td>\n",
              "      <td>41</td>\n",
              "      <td>MJ하이빌</td>\n",
              "      <td>3</td>\n",
              "      <td>4</td>\n",
              "      <td>다세대/연립</td>\n",
              "      <td>75.00</td>\n",
              "      <td>1</td>\n",
              "      <td>전세</td>\n",
              "      <td>35000</td>\n",
              "      <td>0</td>\n",
              "      <td>2015</td>\n",
              "      <td>20150921</td>\n",
              "      <td>2007</td>\n",
              "      <td>0000001111101010010056004130001360000005</td>\n",
              "    </tr>\n",
              "    <tr>\n",
              "      <th>2</th>\n",
              "      <td>0000002</td>\n",
              "      <td>1111010100100500010</td>\n",
              "      <td>3000136</td>\n",
              "      <td>0000505</td>\n",
              "      <td>2015</td>\n",
              "      <td>11110</td>\n",
              "      <td>종로구</td>\n",
              "      <td>10100</td>\n",
              "      <td>청운동</td>\n",
              "      <td>50</td>\n",
              "      <td>10</td>\n",
              "      <td>글로리아파크</td>\n",
              "      <td>2</td>\n",
              "      <td>4</td>\n",
              "      <td>다세대/연립</td>\n",
              "      <td>79.14</td>\n",
              "      <td>1</td>\n",
              "      <td>전세</td>\n",
              "      <td>38000</td>\n",
              "      <td>0</td>\n",
              "      <td>2015</td>\n",
              "      <td>20150822</td>\n",
              "      <td>2002</td>\n",
              "      <td>0000002111101010010050001030001360000505</td>\n",
              "    </tr>\n",
              "    <tr>\n",
              "      <th>3</th>\n",
              "      <td>0000003</td>\n",
              "      <td>1111010100100520018</td>\n",
              "      <td>3000136</td>\n",
              "      <td>0000637</td>\n",
              "      <td>2015</td>\n",
              "      <td>11110</td>\n",
              "      <td>종로구</td>\n",
              "      <td>10100</td>\n",
              "      <td>청운동</td>\n",
              "      <td>52</td>\n",
              "      <td>18</td>\n",
              "      <td>귀빈하우스</td>\n",
              "      <td>2</td>\n",
              "      <td>4</td>\n",
              "      <td>다세대/연립</td>\n",
              "      <td>102.40</td>\n",
              "      <td>1</td>\n",
              "      <td>전세</td>\n",
              "      <td>43000</td>\n",
              "      <td>0</td>\n",
              "      <td>2015</td>\n",
              "      <td>20150902</td>\n",
              "      <td>2000</td>\n",
              "      <td>0000003111101010010052001830001360000637</td>\n",
              "    </tr>\n",
              "    <tr>\n",
              "      <th>4</th>\n",
              "      <td>0000004</td>\n",
              "      <td>1111010100100520018</td>\n",
              "      <td>3000136</td>\n",
              "      <td>0000129</td>\n",
              "      <td>2018</td>\n",
              "      <td>11110</td>\n",
              "      <td>종로구</td>\n",
              "      <td>10100</td>\n",
              "      <td>청운동</td>\n",
              "      <td>52</td>\n",
              "      <td>18</td>\n",
              "      <td>귀빈하우스</td>\n",
              "      <td>2</td>\n",
              "      <td>4</td>\n",
              "      <td>다세대/연립</td>\n",
              "      <td>102.40</td>\n",
              "      <td>1</td>\n",
              "      <td>전세</td>\n",
              "      <td>43000</td>\n",
              "      <td>0</td>\n",
              "      <td>2015</td>\n",
              "      <td>20150902</td>\n",
              "      <td>2000</td>\n",
              "      <td>0000004111101010010052001830001360000129</td>\n",
              "    </tr>\n",
              "  </tbody>\n",
              "</table>\n",
              "</div>"
            ],
            "text/plain": [
              "     index                 지번코드  ...  건축년도                                       key\n",
              "0  0000000  1111010100100740001  ...  1991  0000000111101010010074000130001360000457\n",
              "1  0000001  1111010100100560041  ...  2007  0000001111101010010056004130001360000005\n",
              "2  0000002  1111010100100500010  ...  2002  0000002111101010010050001030001360000505\n",
              "3  0000003  1111010100100520018  ...  2000  0000003111101010010052001830001360000637\n",
              "4  0000004  1111010100100520018  ...  2000  0000004111101010010052001830001360000129\n",
              "\n",
              "[5 rows x 24 columns]"
            ]
          },
          "metadata": {
            "tags": []
          },
          "execution_count": 21
        }
      ]
    },
    {
      "cell_type": "code",
      "metadata": {
        "id": "xoiiFCDiyMO_",
        "colab_type": "code",
        "colab": {}
      },
      "source": [
        "final = pd.concat([data['key'],data.iloc[:,4:-1]], axis = 1)"
      ],
      "execution_count": 0,
      "outputs": []
    },
    {
      "cell_type": "code",
      "metadata": {
        "id": "0wiuHUGvzMTp",
        "colab_type": "code",
        "outputId": "8b3681ec-503c-4d16-bcf4-b0437c5b454b",
        "colab": {
          "base_uri": "https://localhost:8080/",
          "height": 397
        }
      },
      "source": [
        "final.head()"
      ],
      "execution_count": 0,
      "outputs": [
        {
          "output_type": "execute_result",
          "data": {
            "text/html": [
              "<div>\n",
              "<style scoped>\n",
              "    .dataframe tbody tr th:only-of-type {\n",
              "        vertical-align: middle;\n",
              "    }\n",
              "\n",
              "    .dataframe tbody tr th {\n",
              "        vertical-align: top;\n",
              "    }\n",
              "\n",
              "    .dataframe thead th {\n",
              "        text-align: right;\n",
              "    }\n",
              "</style>\n",
              "<table border=\"1\" class=\"dataframe\">\n",
              "  <thead>\n",
              "    <tr style=\"text-align: right;\">\n",
              "      <th></th>\n",
              "      <th>key</th>\n",
              "      <th>접수년도</th>\n",
              "      <th>자치구코드</th>\n",
              "      <th>자치구명</th>\n",
              "      <th>법정동코드</th>\n",
              "      <th>법정동명</th>\n",
              "      <th>본번</th>\n",
              "      <th>부번</th>\n",
              "      <th>건물명</th>\n",
              "      <th>층</th>\n",
              "      <th>임대건물코드</th>\n",
              "      <th>임대건물명</th>\n",
              "      <th>임대면적</th>\n",
              "      <th>전월세구분코드</th>\n",
              "      <th>전월세구분</th>\n",
              "      <th>보증금</th>\n",
              "      <th>임대료</th>\n",
              "      <th>계약년도</th>\n",
              "      <th>계약일자</th>\n",
              "      <th>건축년도</th>\n",
              "    </tr>\n",
              "  </thead>\n",
              "  <tbody>\n",
              "    <tr>\n",
              "      <th>0</th>\n",
              "      <td>0000000111101010010074000130001360000457</td>\n",
              "      <td>2015</td>\n",
              "      <td>11110</td>\n",
              "      <td>종로구</td>\n",
              "      <td>10100</td>\n",
              "      <td>청운동</td>\n",
              "      <td>74</td>\n",
              "      <td>1</td>\n",
              "      <td>우진빌딩</td>\n",
              "      <td>2</td>\n",
              "      <td>4</td>\n",
              "      <td>다세대/연립</td>\n",
              "      <td>82.69</td>\n",
              "      <td>1</td>\n",
              "      <td>전세</td>\n",
              "      <td>34000</td>\n",
              "      <td>0</td>\n",
              "      <td>2015</td>\n",
              "      <td>20150623</td>\n",
              "      <td>1991</td>\n",
              "    </tr>\n",
              "    <tr>\n",
              "      <th>1</th>\n",
              "      <td>0000001111101010010056004130001360000005</td>\n",
              "      <td>2016</td>\n",
              "      <td>11110</td>\n",
              "      <td>종로구</td>\n",
              "      <td>10100</td>\n",
              "      <td>청운동</td>\n",
              "      <td>56</td>\n",
              "      <td>41</td>\n",
              "      <td>MJ하이빌</td>\n",
              "      <td>3</td>\n",
              "      <td>4</td>\n",
              "      <td>다세대/연립</td>\n",
              "      <td>75.00</td>\n",
              "      <td>1</td>\n",
              "      <td>전세</td>\n",
              "      <td>35000</td>\n",
              "      <td>0</td>\n",
              "      <td>2015</td>\n",
              "      <td>20150921</td>\n",
              "      <td>2007</td>\n",
              "    </tr>\n",
              "    <tr>\n",
              "      <th>2</th>\n",
              "      <td>0000002111101010010050001030001360000505</td>\n",
              "      <td>2015</td>\n",
              "      <td>11110</td>\n",
              "      <td>종로구</td>\n",
              "      <td>10100</td>\n",
              "      <td>청운동</td>\n",
              "      <td>50</td>\n",
              "      <td>10</td>\n",
              "      <td>글로리아파크</td>\n",
              "      <td>2</td>\n",
              "      <td>4</td>\n",
              "      <td>다세대/연립</td>\n",
              "      <td>79.14</td>\n",
              "      <td>1</td>\n",
              "      <td>전세</td>\n",
              "      <td>38000</td>\n",
              "      <td>0</td>\n",
              "      <td>2015</td>\n",
              "      <td>20150822</td>\n",
              "      <td>2002</td>\n",
              "    </tr>\n",
              "    <tr>\n",
              "      <th>3</th>\n",
              "      <td>0000003111101010010052001830001360000637</td>\n",
              "      <td>2015</td>\n",
              "      <td>11110</td>\n",
              "      <td>종로구</td>\n",
              "      <td>10100</td>\n",
              "      <td>청운동</td>\n",
              "      <td>52</td>\n",
              "      <td>18</td>\n",
              "      <td>귀빈하우스</td>\n",
              "      <td>2</td>\n",
              "      <td>4</td>\n",
              "      <td>다세대/연립</td>\n",
              "      <td>102.40</td>\n",
              "      <td>1</td>\n",
              "      <td>전세</td>\n",
              "      <td>43000</td>\n",
              "      <td>0</td>\n",
              "      <td>2015</td>\n",
              "      <td>20150902</td>\n",
              "      <td>2000</td>\n",
              "    </tr>\n",
              "    <tr>\n",
              "      <th>4</th>\n",
              "      <td>0000004111101010010052001830001360000129</td>\n",
              "      <td>2018</td>\n",
              "      <td>11110</td>\n",
              "      <td>종로구</td>\n",
              "      <td>10100</td>\n",
              "      <td>청운동</td>\n",
              "      <td>52</td>\n",
              "      <td>18</td>\n",
              "      <td>귀빈하우스</td>\n",
              "      <td>2</td>\n",
              "      <td>4</td>\n",
              "      <td>다세대/연립</td>\n",
              "      <td>102.40</td>\n",
              "      <td>1</td>\n",
              "      <td>전세</td>\n",
              "      <td>43000</td>\n",
              "      <td>0</td>\n",
              "      <td>2015</td>\n",
              "      <td>20150902</td>\n",
              "      <td>2000</td>\n",
              "    </tr>\n",
              "  </tbody>\n",
              "</table>\n",
              "</div>"
            ],
            "text/plain": [
              "                                        key  접수년도  자치구코드  ...  계약년도      계약일자  건축년도\n",
              "0  0000000111101010010074000130001360000457  2015  11110  ...  2015  20150623  1991\n",
              "1  0000001111101010010056004130001360000005  2016  11110  ...  2015  20150921  2007\n",
              "2  0000002111101010010050001030001360000505  2015  11110  ...  2015  20150822  2002\n",
              "3  0000003111101010010052001830001360000637  2015  11110  ...  2015  20150902  2000\n",
              "4  0000004111101010010052001830001360000129  2018  11110  ...  2015  20150902  2000\n",
              "\n",
              "[5 rows x 20 columns]"
            ]
          },
          "metadata": {
            "tags": []
          },
          "execution_count": 25
        }
      ]
    },
    {
      "cell_type": "code",
      "metadata": {
        "id": "JwmVVgKbzOIx",
        "colab_type": "code",
        "colab": {}
      },
      "source": [
        "final.to_csv(\"./gdrive/My Drive/Colab/final_set_seoul_house_200701_201906.csv\" , index=False, encoding = 'utf-8')"
      ],
      "execution_count": 0,
      "outputs": []
    },
    {
      "cell_type": "code",
      "metadata": {
        "id": "6abPoZjV1b-1",
        "colab_type": "code",
        "colab": {}
      },
      "source": [
        ""
      ],
      "execution_count": 0,
      "outputs": []
    },
    {
      "cell_type": "code",
      "metadata": {
        "id": "Hl7H1VLv1wYg",
        "colab_type": "code",
        "colab": {}
      },
      "source": [
        ""
      ],
      "execution_count": 0,
      "outputs": []
    },
    {
      "cell_type": "code",
      "metadata": {
        "id": "zNVb-9iJ1y3u",
        "colab_type": "code",
        "colab": {}
      },
      "source": [
        ""
      ],
      "execution_count": 0,
      "outputs": []
    }
  ]
}