{
  "nbformat": 4,
  "nbformat_minor": 0,
  "metadata": {
    "colab": {
      "name": "seoulhouse_preprocessing.ipynb",
      "provenance": [],
      "collapsed_sections": [],
      "mount_file_id": "1aa53JUZQM9v6rkqTYwrSsKNDQZ3HGy5y",
      "authorship_tag": "ABX9TyOQ5odmuaUlZmehn3tcPg1d",
      "include_colab_link": true
    },
    "kernelspec": {
      "name": "python3",
      "display_name": "Python 3"
    }
  },
  "cells": [
    {
      "cell_type": "markdown",
      "metadata": {
        "id": "view-in-github",
        "colab_type": "text"
      },
      "source": [
        "<a href=\"https://colab.research.google.com/github/oftto/seoul_house/blob/master/seoulhouse_preprocessing.ipynb\" target=\"_parent\"><img src=\"https://colab.research.google.com/assets/colab-badge.svg\" alt=\"Open In Colab\"/></a>"
      ]
    },
    {
      "cell_type": "code",
      "metadata": {
        "id": "xTLsVQEWJwxY",
        "colab_type": "code",
        "outputId": "a274128c-3e01-4771-f60f-35ebb8230a18",
        "colab": {
          "base_uri": "https://localhost:8080/",
          "height": 35
        }
      },
      "source": [
        "!cat /etc/issue.net"
      ],
      "execution_count": 0,
      "outputs": [
        {
          "output_type": "stream",
          "text": [
            "Ubuntu 18.04.3 LTS\n"
          ],
          "name": "stdout"
        }
      ]
    },
    {
      "cell_type": "code",
      "metadata": {
        "id": "aoYYyQ_4LG9_",
        "colab_type": "code",
        "colab": {}
      },
      "source": [
        "!cat /proc/cpuinfo"
      ],
      "execution_count": 0,
      "outputs": []
    },
    {
      "cell_type": "code",
      "metadata": {
        "id": "a3q6-gA3LP1B",
        "colab_type": "code",
        "colab": {}
      },
      "source": [
        "!cat /proc/meminfo"
      ],
      "execution_count": 0,
      "outputs": []
    },
    {
      "cell_type": "code",
      "metadata": {
        "id": "Jr1aXYfxLSgG",
        "colab_type": "code",
        "outputId": "bca069b3-8017-40c7-8fee-9a99513ad615",
        "colab": {
          "base_uri": "https://localhost:8080/",
          "height": 73
        }
      },
      "source": [
        "!nvidia-smi"
      ],
      "execution_count": 0,
      "outputs": [
        {
          "output_type": "stream",
          "text": [
            "NVIDIA-SMI has failed because it couldn't communicate with the NVIDIA driver. Make sure that the latest NVIDIA driver is installed and running.\n",
            "\n"
          ],
          "name": "stdout"
        }
      ]
    },
    {
      "cell_type": "code",
      "metadata": {
        "id": "5qzfdizlLb3n",
        "colab_type": "code",
        "outputId": "2c91de7b-77eb-43c3-ab9b-49c24fd68d27",
        "colab": {
          "base_uri": "https://localhost:8080/",
          "height": 35
        }
      },
      "source": [
        "from google.colab import auth\n",
        "auth.authenticate_user()\n",
        "\n",
        "from google.colab import drive\n",
        "drive.mount('/content/gdrive')"
      ],
      "execution_count": 26,
      "outputs": [
        {
          "output_type": "stream",
          "text": [
            "Mounted at /content/gdrive\n"
          ],
          "name": "stdout"
        }
      ]
    },
    {
      "cell_type": "code",
      "metadata": {
        "id": "Jylbos_yLt1w",
        "colab_type": "code",
        "outputId": "9df46e08-11e5-4539-8b91-0e638779c42e",
        "colab": {
          "base_uri": "https://localhost:8080/",
          "height": 53
        }
      },
      "source": [
        "!cd gdrive/'My Drive'/drive/; ls -al;"
      ],
      "execution_count": 27,
      "outputs": [
        {
          "output_type": "stream",
          "text": [
            "total 266662\n",
            "-rw------- 1 root root 273061465 May  7 12:36 seoul_house_200701_201906.csv\n"
          ],
          "name": "stdout"
        }
      ]
    },
    {
      "cell_type": "code",
      "metadata": {
        "id": "MCPdaIb1MOdd",
        "colab_type": "code",
        "outputId": "7e65aa41-1446-4915-ddb4-427f41904522",
        "colab": {
          "base_uri": "https://localhost:8080/",
          "height": 73
        }
      },
      "source": [
        "import pandas as pd\n",
        "df = pd.read_csv(\"./gdrive/My Drive/drive/seoul_house_200701_201906.csv\" , encoding = 'CP949')"
      ],
      "execution_count": 28,
      "outputs": [
        {
          "output_type": "stream",
          "text": [
            "/usr/local/lib/python3.6/dist-packages/IPython/core/interactiveshell.py:2718: DtypeWarning: Columns (0) have mixed types.Specify dtype option on import or set low_memory=False.\n",
            "  interactivity=interactivity, compiler=compiler, result=result)\n"
          ],
          "name": "stderr"
        }
      ]
    },
    {
      "cell_type": "code",
      "metadata": {
        "id": "IJOL8DjdSzJR",
        "colab_type": "code",
        "outputId": "11942c2b-5cf3-4c1a-ced3-f82410cb8cef",
        "colab": {
          "base_uri": "https://localhost:8080/",
          "height": 669
        }
      },
      "source": [
        "df.head()"
      ],
      "execution_count": 0,
      "outputs": [
        {
          "output_type": "execute_result",
          "data": {
            "text/html": [
              "<div>\n",
              "<style scoped>\n",
              "    .dataframe tbody tr th:only-of-type {\n",
              "        vertical-align: middle;\n",
              "    }\n",
              "\n",
              "    .dataframe tbody tr th {\n",
              "        vertical-align: top;\n",
              "    }\n",
              "\n",
              "    .dataframe thead th {\n",
              "        text-align: right;\n",
              "    }\n",
              "</style>\n",
              "<table border=\"1\" class=\"dataframe\">\n",
              "  <thead>\n",
              "    <tr style=\"text-align: right;\">\n",
              "      <th></th>\n",
              "      <th>지번코드</th>\n",
              "      <th>기관코드</th>\n",
              "      <th>일련번호</th>\n",
              "      <th>접수년도</th>\n",
              "      <th>자치구코드</th>\n",
              "      <th>자치구명</th>\n",
              "      <th>법정동코드</th>\n",
              "      <th>법정동명</th>\n",
              "      <th>본번</th>\n",
              "      <th>부번</th>\n",
              "      <th>건물명</th>\n",
              "      <th>층</th>\n",
              "      <th>임대건물코드</th>\n",
              "      <th>임대건물명</th>\n",
              "      <th>임대면적</th>\n",
              "      <th>전월세구분코드</th>\n",
              "      <th>전월세구분</th>\n",
              "      <th>보증금</th>\n",
              "      <th>임대료</th>\n",
              "      <th>계약년도</th>\n",
              "      <th>계약일자</th>\n",
              "      <th>건축년도</th>\n",
              "    </tr>\n",
              "  </thead>\n",
              "  <tbody>\n",
              "    <tr>\n",
              "      <th>0</th>\n",
              "      <td>1111010100100740001</td>\n",
              "      <td>3000136</td>\n",
              "      <td>457</td>\n",
              "      <td>2015</td>\n",
              "      <td>11110</td>\n",
              "      <td>종로구</td>\n",
              "      <td>10100</td>\n",
              "      <td>청운동</td>\n",
              "      <td>74.0</td>\n",
              "      <td>1.0</td>\n",
              "      <td>우진빌딩</td>\n",
              "      <td>2.0</td>\n",
              "      <td>4.0</td>\n",
              "      <td>다세대/연립</td>\n",
              "      <td>82.69</td>\n",
              "      <td>1.0</td>\n",
              "      <td>전세</td>\n",
              "      <td>34000</td>\n",
              "      <td>0</td>\n",
              "      <td>2015.0</td>\n",
              "      <td>20150623</td>\n",
              "      <td>1991.0</td>\n",
              "    </tr>\n",
              "    <tr>\n",
              "      <th>1</th>\n",
              "      <td>1111010100100560041</td>\n",
              "      <td>3000136</td>\n",
              "      <td>5</td>\n",
              "      <td>2016</td>\n",
              "      <td>11110</td>\n",
              "      <td>종로구</td>\n",
              "      <td>10100</td>\n",
              "      <td>청운동</td>\n",
              "      <td>56.0</td>\n",
              "      <td>41.0</td>\n",
              "      <td>MJ하이빌</td>\n",
              "      <td>3.0</td>\n",
              "      <td>4.0</td>\n",
              "      <td>다세대/연립</td>\n",
              "      <td>75.00</td>\n",
              "      <td>1.0</td>\n",
              "      <td>전세</td>\n",
              "      <td>35000</td>\n",
              "      <td>0</td>\n",
              "      <td>2015.0</td>\n",
              "      <td>20150921</td>\n",
              "      <td>2007.0</td>\n",
              "    </tr>\n",
              "    <tr>\n",
              "      <th>2</th>\n",
              "      <td>1111010100100500010</td>\n",
              "      <td>3000136</td>\n",
              "      <td>505</td>\n",
              "      <td>2015</td>\n",
              "      <td>11110</td>\n",
              "      <td>종로구</td>\n",
              "      <td>10100</td>\n",
              "      <td>청운동</td>\n",
              "      <td>50.0</td>\n",
              "      <td>10.0</td>\n",
              "      <td>글로리아파크</td>\n",
              "      <td>2.0</td>\n",
              "      <td>4.0</td>\n",
              "      <td>다세대/연립</td>\n",
              "      <td>79.14</td>\n",
              "      <td>1.0</td>\n",
              "      <td>전세</td>\n",
              "      <td>38000</td>\n",
              "      <td>0</td>\n",
              "      <td>2015.0</td>\n",
              "      <td>20150822</td>\n",
              "      <td>2002.0</td>\n",
              "    </tr>\n",
              "    <tr>\n",
              "      <th>3</th>\n",
              "      <td>1111010100100520018</td>\n",
              "      <td>3000136</td>\n",
              "      <td>637</td>\n",
              "      <td>2015</td>\n",
              "      <td>11110</td>\n",
              "      <td>종로구</td>\n",
              "      <td>10100</td>\n",
              "      <td>청운동</td>\n",
              "      <td>52.0</td>\n",
              "      <td>18.0</td>\n",
              "      <td>귀빈하우스</td>\n",
              "      <td>2.0</td>\n",
              "      <td>4.0</td>\n",
              "      <td>다세대/연립</td>\n",
              "      <td>102.40</td>\n",
              "      <td>1.0</td>\n",
              "      <td>전세</td>\n",
              "      <td>43000</td>\n",
              "      <td>0</td>\n",
              "      <td>2015.0</td>\n",
              "      <td>20150902</td>\n",
              "      <td>2000.0</td>\n",
              "    </tr>\n",
              "    <tr>\n",
              "      <th>4</th>\n",
              "      <td>1111010100100520018</td>\n",
              "      <td>3000136</td>\n",
              "      <td>129</td>\n",
              "      <td>2018</td>\n",
              "      <td>11110</td>\n",
              "      <td>종로구</td>\n",
              "      <td>10100</td>\n",
              "      <td>청운동</td>\n",
              "      <td>52.0</td>\n",
              "      <td>18.0</td>\n",
              "      <td>귀빈하우스</td>\n",
              "      <td>2.0</td>\n",
              "      <td>4.0</td>\n",
              "      <td>다세대/연립</td>\n",
              "      <td>102.40</td>\n",
              "      <td>1.0</td>\n",
              "      <td>전세</td>\n",
              "      <td>43000</td>\n",
              "      <td>0</td>\n",
              "      <td>2015.0</td>\n",
              "      <td>20150902</td>\n",
              "      <td>2000.0</td>\n",
              "    </tr>\n",
              "  </tbody>\n",
              "</table>\n",
              "</div>"
            ],
            "text/plain": [
              "                  지번코드     기관코드  일련번호  접수년도  ...  임대료    계약년도      계약일자    건축년도\n",
              "0  1111010100100740001  3000136   457  2015  ...    0  2015.0  20150623  1991.0\n",
              "1  1111010100100560041  3000136     5  2016  ...    0  2015.0  20150921  2007.0\n",
              "2  1111010100100500010  3000136   505  2015  ...    0  2015.0  20150822  2002.0\n",
              "3  1111010100100520018  3000136   637  2015  ...    0  2015.0  20150902  2000.0\n",
              "4  1111010100100520018  3000136   129  2018  ...    0  2015.0  20150902  2000.0\n",
              "\n",
              "[5 rows x 22 columns]"
            ]
          },
          "metadata": {
            "tags": []
          },
          "execution_count": 25
        }
      ]
    },
    {
      "cell_type": "code",
      "metadata": {
        "id": "MhV_sr0qTCjK",
        "colab_type": "code",
        "colab": {}
      },
      "source": [
        ""
      ],
      "execution_count": 0,
      "outputs": []
    }
  ]
}