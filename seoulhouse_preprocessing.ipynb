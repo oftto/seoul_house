{
  "nbformat": 4,
  "nbformat_minor": 0,
  "metadata": {
    "colab": {
      "name": "seoulhouse_preprocessing.ipynb",
      "provenance": [],
      "collapsed_sections": [],
      "mount_file_id": "1aa53JUZQM9v6rkqTYwrSsKNDQZ3HGy5y",
      "authorship_tag": "ABX9TyNAx9ofVqBBWe8vY98aLHkh",
      "include_colab_link": true
    },
    "kernelspec": {
      "name": "python3",
      "display_name": "Python 3"
    }
  },
  "cells": [
    {
      "cell_type": "markdown",
      "metadata": {
        "id": "view-in-github",
        "colab_type": "text"
      },
      "source": [
        "<a href=\"https://colab.research.google.com/github/oftto/seoul_house/blob/master/seoulhouse_preprocessing.ipynb\" target=\"_parent\"><img src=\"https://colab.research.google.com/assets/colab-badge.svg\" alt=\"Open In Colab\"/></a>"
      ]
    },
    {
      "cell_type": "code",
      "metadata": {
        "id": "xTLsVQEWJwxY",
        "colab_type": "code",
        "outputId": "a274128c-3e01-4771-f60f-35ebb8230a18",
        "colab": {
          "base_uri": "https://localhost:8080/",
          "height": 35
        }
      },
      "source": [
        "!cat /etc/issue.net"
      ],
      "execution_count": 0,
      "outputs": [
        {
          "output_type": "stream",
          "text": [
            "Ubuntu 18.04.3 LTS\n"
          ],
          "name": "stdout"
        }
      ]
    },
    {
      "cell_type": "code",
      "metadata": {
        "id": "aoYYyQ_4LG9_",
        "colab_type": "code",
        "colab": {}
      },
      "source": [
        "!cat /proc/cpuinfo"
      ],
      "execution_count": 0,
      "outputs": []
    },
    {
      "cell_type": "code",
      "metadata": {
        "id": "a3q6-gA3LP1B",
        "colab_type": "code",
        "colab": {}
      },
      "source": [
        "!cat /proc/meminfo"
      ],
      "execution_count": 0,
      "outputs": []
    },
    {
      "cell_type": "code",
      "metadata": {
        "id": "Jr1aXYfxLSgG",
        "colab_type": "code",
        "outputId": "bca069b3-8017-40c7-8fee-9a99513ad615",
        "colab": {
          "base_uri": "https://localhost:8080/",
          "height": 73
        }
      },
      "source": [
        "!nvidia-smi"
      ],
      "execution_count": 0,
      "outputs": [
        {
          "output_type": "stream",
          "text": [
            "NVIDIA-SMI has failed because it couldn't communicate with the NVIDIA driver. Make sure that the latest NVIDIA driver is installed and running.\n",
            "\n"
          ],
          "name": "stdout"
        }
      ]
    },
    {
      "cell_type": "code",
      "metadata": {
        "id": "5qzfdizlLb3n",
        "colab_type": "code",
        "outputId": "2b235a2c-08d8-4779-b446-14c1c92ed5c4",
        "colab": {
          "base_uri": "https://localhost:8080/",
          "height": 34
        }
      },
      "source": [
        "from google.colab import auth\n",
        "auth.authenticate_user()\n",
        "\n",
        "from google.colab import drive\n",
        "drive.mount('/content/gdrive')"
      ],
      "execution_count": 1,
      "outputs": [
        {
          "output_type": "stream",
          "text": [
            "Mounted at /content/gdrive\n"
          ],
          "name": "stdout"
        }
      ]
    },
    {
      "cell_type": "code",
      "metadata": {
        "id": "Jylbos_yLt1w",
        "colab_type": "code",
        "outputId": "19919a6e-8e18-4f76-fe46-00a516965034",
        "colab": {
          "base_uri": "https://localhost:8080/",
          "height": 87
        }
      },
      "source": [
        "!cd gdrive/'My Drive'/Colab/; ls -al;"
      ],
      "execution_count": 2,
      "outputs": [
        {
          "output_type": "stream",
          "text": [
            "total 266812\n",
            "-rw------- 1 root root    124484 May  7 10:57 digging1.ipynb\n",
            "-rw------- 1 root root     27778 May  7 12:37 digging2.ipynb\n",
            "-rw------- 1 root root 273061465 May  7 12:36 seoul_house_200701_201906.csv\n"
          ],
          "name": "stdout"
        }
      ]
    },
    {
      "cell_type": "code",
      "metadata": {
        "id": "MCPdaIb1MOdd",
        "colab_type": "code",
        "outputId": "3c3fe2dc-3182-4b8f-dd80-4cfc901441cf",
        "colab": {
          "base_uri": "https://localhost:8080/",
          "height": 52
        }
      },
      "source": [
        "import pandas as pd\n",
        "df = pd.read_csv(\"./gdrive/My Drive/Colab/seoul_house_200701_201906.csv\" , encoding = 'CP949')"
      ],
      "execution_count": 3,
      "outputs": [
        {
          "output_type": "stream",
          "text": [
            "/usr/local/lib/python3.6/dist-packages/IPython/core/interactiveshell.py:2718: DtypeWarning: Columns (0) have mixed types.Specify dtype option on import or set low_memory=False.\n",
            "  interactivity=interactivity, compiler=compiler, result=result)\n"
          ],
          "name": "stderr"
        }
      ]
    },
    {
      "cell_type": "code",
      "metadata": {
        "id": "IJOL8DjdSzJR",
        "colab_type": "code",
        "outputId": "333a4bf7-44be-4115-cc61-252980b0f237",
        "colab": {
          "base_uri": "https://localhost:8080/",
          "height": 397
        }
      },
      "source": [
        "df.head()"
      ],
      "execution_count": 4,
      "outputs": [
        {
          "output_type": "execute_result",
          "data": {
            "text/html": [
              "<div>\n",
              "<style scoped>\n",
              "    .dataframe tbody tr th:only-of-type {\n",
              "        vertical-align: middle;\n",
              "    }\n",
              "\n",
              "    .dataframe tbody tr th {\n",
              "        vertical-align: top;\n",
              "    }\n",
              "\n",
              "    .dataframe thead th {\n",
              "        text-align: right;\n",
              "    }\n",
              "</style>\n",
              "<table border=\"1\" class=\"dataframe\">\n",
              "  <thead>\n",
              "    <tr style=\"text-align: right;\">\n",
              "      <th></th>\n",
              "      <th>지번코드</th>\n",
              "      <th>기관코드</th>\n",
              "      <th>일련번호</th>\n",
              "      <th>접수년도</th>\n",
              "      <th>자치구코드</th>\n",
              "      <th>자치구명</th>\n",
              "      <th>법정동코드</th>\n",
              "      <th>법정동명</th>\n",
              "      <th>본번</th>\n",
              "      <th>부번</th>\n",
              "      <th>건물명</th>\n",
              "      <th>층</th>\n",
              "      <th>임대건물코드</th>\n",
              "      <th>임대건물명</th>\n",
              "      <th>임대면적</th>\n",
              "      <th>전월세구분코드</th>\n",
              "      <th>전월세구분</th>\n",
              "      <th>보증금</th>\n",
              "      <th>임대료</th>\n",
              "      <th>계약년도</th>\n",
              "      <th>계약일자</th>\n",
              "      <th>건축년도</th>\n",
              "    </tr>\n",
              "  </thead>\n",
              "  <tbody>\n",
              "    <tr>\n",
              "      <th>0</th>\n",
              "      <td>1111010100100740001</td>\n",
              "      <td>3000136</td>\n",
              "      <td>457</td>\n",
              "      <td>2015</td>\n",
              "      <td>11110</td>\n",
              "      <td>종로구</td>\n",
              "      <td>10100</td>\n",
              "      <td>청운동</td>\n",
              "      <td>74.0</td>\n",
              "      <td>1.0</td>\n",
              "      <td>우진빌딩</td>\n",
              "      <td>2.0</td>\n",
              "      <td>4.0</td>\n",
              "      <td>다세대/연립</td>\n",
              "      <td>82.69</td>\n",
              "      <td>1.0</td>\n",
              "      <td>전세</td>\n",
              "      <td>34000</td>\n",
              "      <td>0</td>\n",
              "      <td>2015.0</td>\n",
              "      <td>20150623</td>\n",
              "      <td>1991.0</td>\n",
              "    </tr>\n",
              "    <tr>\n",
              "      <th>1</th>\n",
              "      <td>1111010100100560041</td>\n",
              "      <td>3000136</td>\n",
              "      <td>5</td>\n",
              "      <td>2016</td>\n",
              "      <td>11110</td>\n",
              "      <td>종로구</td>\n",
              "      <td>10100</td>\n",
              "      <td>청운동</td>\n",
              "      <td>56.0</td>\n",
              "      <td>41.0</td>\n",
              "      <td>MJ하이빌</td>\n",
              "      <td>3.0</td>\n",
              "      <td>4.0</td>\n",
              "      <td>다세대/연립</td>\n",
              "      <td>75.00</td>\n",
              "      <td>1.0</td>\n",
              "      <td>전세</td>\n",
              "      <td>35000</td>\n",
              "      <td>0</td>\n",
              "      <td>2015.0</td>\n",
              "      <td>20150921</td>\n",
              "      <td>2007.0</td>\n",
              "    </tr>\n",
              "    <tr>\n",
              "      <th>2</th>\n",
              "      <td>1111010100100500010</td>\n",
              "      <td>3000136</td>\n",
              "      <td>505</td>\n",
              "      <td>2015</td>\n",
              "      <td>11110</td>\n",
              "      <td>종로구</td>\n",
              "      <td>10100</td>\n",
              "      <td>청운동</td>\n",
              "      <td>50.0</td>\n",
              "      <td>10.0</td>\n",
              "      <td>글로리아파크</td>\n",
              "      <td>2.0</td>\n",
              "      <td>4.0</td>\n",
              "      <td>다세대/연립</td>\n",
              "      <td>79.14</td>\n",
              "      <td>1.0</td>\n",
              "      <td>전세</td>\n",
              "      <td>38000</td>\n",
              "      <td>0</td>\n",
              "      <td>2015.0</td>\n",
              "      <td>20150822</td>\n",
              "      <td>2002.0</td>\n",
              "    </tr>\n",
              "    <tr>\n",
              "      <th>3</th>\n",
              "      <td>1111010100100520018</td>\n",
              "      <td>3000136</td>\n",
              "      <td>637</td>\n",
              "      <td>2015</td>\n",
              "      <td>11110</td>\n",
              "      <td>종로구</td>\n",
              "      <td>10100</td>\n",
              "      <td>청운동</td>\n",
              "      <td>52.0</td>\n",
              "      <td>18.0</td>\n",
              "      <td>귀빈하우스</td>\n",
              "      <td>2.0</td>\n",
              "      <td>4.0</td>\n",
              "      <td>다세대/연립</td>\n",
              "      <td>102.40</td>\n",
              "      <td>1.0</td>\n",
              "      <td>전세</td>\n",
              "      <td>43000</td>\n",
              "      <td>0</td>\n",
              "      <td>2015.0</td>\n",
              "      <td>20150902</td>\n",
              "      <td>2000.0</td>\n",
              "    </tr>\n",
              "    <tr>\n",
              "      <th>4</th>\n",
              "      <td>1111010100100520018</td>\n",
              "      <td>3000136</td>\n",
              "      <td>129</td>\n",
              "      <td>2018</td>\n",
              "      <td>11110</td>\n",
              "      <td>종로구</td>\n",
              "      <td>10100</td>\n",
              "      <td>청운동</td>\n",
              "      <td>52.0</td>\n",
              "      <td>18.0</td>\n",
              "      <td>귀빈하우스</td>\n",
              "      <td>2.0</td>\n",
              "      <td>4.0</td>\n",
              "      <td>다세대/연립</td>\n",
              "      <td>102.40</td>\n",
              "      <td>1.0</td>\n",
              "      <td>전세</td>\n",
              "      <td>43000</td>\n",
              "      <td>0</td>\n",
              "      <td>2015.0</td>\n",
              "      <td>20150902</td>\n",
              "      <td>2000.0</td>\n",
              "    </tr>\n",
              "  </tbody>\n",
              "</table>\n",
              "</div>"
            ],
            "text/plain": [
              "                  지번코드     기관코드  일련번호  접수년도  ...  임대료    계약년도      계약일자    건축년도\n",
              "0  1111010100100740001  3000136   457  2015  ...    0  2015.0  20150623  1991.0\n",
              "1  1111010100100560041  3000136     5  2016  ...    0  2015.0  20150921  2007.0\n",
              "2  1111010100100500010  3000136   505  2015  ...    0  2015.0  20150822  2002.0\n",
              "3  1111010100100520018  3000136   637  2015  ...    0  2015.0  20150902  2000.0\n",
              "4  1111010100100520018  3000136   129  2018  ...    0  2015.0  20150902  2000.0\n",
              "\n",
              "[5 rows x 22 columns]"
            ]
          },
          "metadata": {
            "tags": []
          },
          "execution_count": 4
        }
      ]
    },
    {
      "cell_type": "code",
      "metadata": {
        "id": "MhV_sr0qTCjK",
        "colab_type": "code",
        "outputId": "f3385255-4274-4e71-df2d-5e6255b03713",
        "colab": {
          "base_uri": "https://localhost:8080/",
          "height": 527
        }
      },
      "source": [
        "df.info()"
      ],
      "execution_count": 5,
      "outputs": [
        {
          "output_type": "stream",
          "text": [
            "<class 'pandas.core.frame.DataFrame'>\n",
            "RangeIndex: 2016400 entries, 0 to 2016399\n",
            "Data columns (total 22 columns):\n",
            " #   Column   Dtype  \n",
            "---  ------   -----  \n",
            " 0   지번코드     object \n",
            " 1   기관코드     int64  \n",
            " 2   일련번호     int64  \n",
            " 3   접수년도     int64  \n",
            " 4   자치구코드    int64  \n",
            " 5   자치구명     object \n",
            " 6   법정동코드    int64  \n",
            " 7   법정동명     object \n",
            " 8   본번       float64\n",
            " 9   부번       float64\n",
            " 10  건물명      object \n",
            " 11  층        float64\n",
            " 12  임대건물코드   float64\n",
            " 13  임대건물명    object \n",
            " 14  임대면적     float64\n",
            " 15  전월세구분코드  float64\n",
            " 16  전월세구분    object \n",
            " 17  보증금      int64  \n",
            " 18  임대료      int64  \n",
            " 19  계약년도     float64\n",
            " 20  계약일자     int64  \n",
            " 21  건축년도     float64\n",
            "dtypes: float64(8), int64(8), object(6)\n",
            "memory usage: 338.4+ MB\n"
          ],
          "name": "stdout"
        }
      ]
    },
    {
      "cell_type": "code",
      "metadata": {
        "id": "jM2D7Q3apP-G",
        "colab_type": "code",
        "colab": {
          "base_uri": "https://localhost:8080/",
          "height": 34
        },
        "outputId": "c3b9b87e-a3e5-4c25-99c0-2a05c4cecb32"
      },
      "source": [
        "df.일련번호.max()"
      ],
      "execution_count": 6,
      "outputs": [
        {
          "output_type": "execute_result",
          "data": {
            "text/plain": [
              "9000411"
            ]
          },
          "metadata": {
            "tags": []
          },
          "execution_count": 6
        }
      ]
    },
    {
      "cell_type": "code",
      "metadata": {
        "id": "ukHBuShtUA9o",
        "colab_type": "code",
        "colab": {
          "base_uri": "https://localhost:8080/",
          "height": 144
        },
        "outputId": "b8952f5f-58de-4459-970b-a6aecf54cc75"
      },
      "source": [
        "df[df.일련번호==9000411]"
      ],
      "execution_count": 7,
      "outputs": [
        {
          "output_type": "execute_result",
          "data": {
            "text/html": [
              "<div>\n",
              "<style scoped>\n",
              "    .dataframe tbody tr th:only-of-type {\n",
              "        vertical-align: middle;\n",
              "    }\n",
              "\n",
              "    .dataframe tbody tr th {\n",
              "        vertical-align: top;\n",
              "    }\n",
              "\n",
              "    .dataframe thead th {\n",
              "        text-align: right;\n",
              "    }\n",
              "</style>\n",
              "<table border=\"1\" class=\"dataframe\">\n",
              "  <thead>\n",
              "    <tr style=\"text-align: right;\">\n",
              "      <th></th>\n",
              "      <th>지번코드</th>\n",
              "      <th>기관코드</th>\n",
              "      <th>일련번호</th>\n",
              "      <th>접수년도</th>\n",
              "      <th>자치구코드</th>\n",
              "      <th>자치구명</th>\n",
              "      <th>법정동코드</th>\n",
              "      <th>법정동명</th>\n",
              "      <th>본번</th>\n",
              "      <th>부번</th>\n",
              "      <th>건물명</th>\n",
              "      <th>층</th>\n",
              "      <th>임대건물코드</th>\n",
              "      <th>임대건물명</th>\n",
              "      <th>임대면적</th>\n",
              "      <th>전월세구분코드</th>\n",
              "      <th>전월세구분</th>\n",
              "      <th>보증금</th>\n",
              "      <th>임대료</th>\n",
              "      <th>계약년도</th>\n",
              "      <th>계약일자</th>\n",
              "      <th>건축년도</th>\n",
              "    </tr>\n",
              "  </thead>\n",
              "  <tbody>\n",
              "    <tr>\n",
              "      <th>2008484</th>\n",
              "      <td>1174011000106990000</td>\n",
              "      <td>3240086</td>\n",
              "      <td>9000411</td>\n",
              "      <td>2019</td>\n",
              "      <td>11740</td>\n",
              "      <td>강동구</td>\n",
              "      <td>11000</td>\n",
              "      <td>강일동</td>\n",
              "      <td>699.0</td>\n",
              "      <td>0.0</td>\n",
              "      <td>강일리버파크9단지</td>\n",
              "      <td>15.0</td>\n",
              "      <td>1.0</td>\n",
              "      <td>아파트</td>\n",
              "      <td>49.86</td>\n",
              "      <td>1.0</td>\n",
              "      <td>전세</td>\n",
              "      <td>8336</td>\n",
              "      <td>0</td>\n",
              "      <td>2019.0</td>\n",
              "      <td>20190619</td>\n",
              "      <td>2009.0</td>\n",
              "    </tr>\n",
              "  </tbody>\n",
              "</table>\n",
              "</div>"
            ],
            "text/plain": [
              "                        지번코드     기관코드     일련번호  ...    계약년도      계약일자    건축년도\n",
              "2008484  1174011000106990000  3240086  9000411  ...  2019.0  20190619  2009.0\n",
              "\n",
              "[1 rows x 22 columns]"
            ]
          },
          "metadata": {
            "tags": []
          },
          "execution_count": 7
        }
      ]
    },
    {
      "cell_type": "code",
      "metadata": {
        "id": "4-SaIRP2oUS4",
        "colab_type": "code",
        "colab": {}
      },
      "source": [
        "df['일련번호'] = df.일련번호.astype(str).apply(lambda x: x.zfill(7))"
      ],
      "execution_count": 0,
      "outputs": []
    },
    {
      "cell_type": "code",
      "metadata": {
        "id": "iWZXSE9lovCX",
        "colab_type": "code",
        "colab": {
          "base_uri": "https://localhost:8080/",
          "height": 34
        },
        "outputId": "2d09920f-b733-4a0f-c312-c1dc94754ec9"
      },
      "source": [
        "df.기관코드.max()"
      ],
      "execution_count": 9,
      "outputs": [
        {
          "output_type": "execute_result",
          "data": {
            "text/plain": [
              "9999999"
            ]
          },
          "metadata": {
            "tags": []
          },
          "execution_count": 9
        }
      ]
    },
    {
      "cell_type": "code",
      "metadata": {
        "id": "YNd3ml0fpWKb",
        "colab_type": "code",
        "colab": {}
      },
      "source": [
        "df['기관코드'] = df.기관코드.astype(str).apply(lambda x: x.zfill(7))"
      ],
      "execution_count": 0,
      "outputs": []
    },
    {
      "cell_type": "code",
      "metadata": {
        "id": "4AYAdMeQpk4z",
        "colab_type": "code",
        "colab": {
          "base_uri": "https://localhost:8080/",
          "height": 52
        },
        "outputId": "854e6f3a-44a8-42d0-8d40-f91939498814"
      },
      "source": [
        "print(max(df.지번코드.map(str).apply(len)))\n",
        "print(min(df.지번코드.map(str).apply(len)))"
      ],
      "execution_count": 11,
      "outputs": [
        {
          "output_type": "stream",
          "text": [
            "19\n",
            "10\n"
          ],
          "name": "stdout"
        }
      ]
    },
    {
      "cell_type": "code",
      "metadata": {
        "id": "3tAjNSkmp9pt",
        "colab_type": "code",
        "colab": {}
      },
      "source": [
        "df['지번코드'] = df.지번코드.astype(str).apply(lambda x: x.zfill(19))"
      ],
      "execution_count": 0,
      "outputs": []
    },
    {
      "cell_type": "code",
      "metadata": {
        "id": "TIqhv-q6vMMT",
        "colab_type": "code",
        "colab": {}
      },
      "source": [
        "data = df.reset_index()"
      ],
      "execution_count": 0,
      "outputs": []
    },
    {
      "cell_type": "code",
      "metadata": {
        "id": "hH0aIroKvrko",
        "colab_type": "code",
        "colab": {}
      },
      "source": [
        "data['index']= data['index'].astype(str).apply(lambda x: x.zfill(7))"
      ],
      "execution_count": 0,
      "outputs": []
    },
    {
      "cell_type": "code",
      "metadata": {
        "id": "goZUQN5GwVsn",
        "colab_type": "code",
        "colab": {
          "base_uri": "https://localhost:8080/",
          "height": 414
        },
        "outputId": "65da03ea-6f98-4b8a-9032-55081f51df24"
      },
      "source": [
        "data.head()"
      ],
      "execution_count": 15,
      "outputs": [
        {
          "output_type": "execute_result",
          "data": {
            "text/html": [
              "<div>\n",
              "<style scoped>\n",
              "    .dataframe tbody tr th:only-of-type {\n",
              "        vertical-align: middle;\n",
              "    }\n",
              "\n",
              "    .dataframe tbody tr th {\n",
              "        vertical-align: top;\n",
              "    }\n",
              "\n",
              "    .dataframe thead th {\n",
              "        text-align: right;\n",
              "    }\n",
              "</style>\n",
              "<table border=\"1\" class=\"dataframe\">\n",
              "  <thead>\n",
              "    <tr style=\"text-align: right;\">\n",
              "      <th></th>\n",
              "      <th>index</th>\n",
              "      <th>지번코드</th>\n",
              "      <th>기관코드</th>\n",
              "      <th>일련번호</th>\n",
              "      <th>접수년도</th>\n",
              "      <th>자치구코드</th>\n",
              "      <th>자치구명</th>\n",
              "      <th>법정동코드</th>\n",
              "      <th>법정동명</th>\n",
              "      <th>본번</th>\n",
              "      <th>부번</th>\n",
              "      <th>건물명</th>\n",
              "      <th>층</th>\n",
              "      <th>임대건물코드</th>\n",
              "      <th>임대건물명</th>\n",
              "      <th>임대면적</th>\n",
              "      <th>전월세구분코드</th>\n",
              "      <th>전월세구분</th>\n",
              "      <th>보증금</th>\n",
              "      <th>임대료</th>\n",
              "      <th>계약년도</th>\n",
              "      <th>계약일자</th>\n",
              "      <th>건축년도</th>\n",
              "    </tr>\n",
              "  </thead>\n",
              "  <tbody>\n",
              "    <tr>\n",
              "      <th>0</th>\n",
              "      <td>0000000</td>\n",
              "      <td>1111010100100740001</td>\n",
              "      <td>3000136</td>\n",
              "      <td>0000457</td>\n",
              "      <td>2015</td>\n",
              "      <td>11110</td>\n",
              "      <td>종로구</td>\n",
              "      <td>10100</td>\n",
              "      <td>청운동</td>\n",
              "      <td>74.0</td>\n",
              "      <td>1.0</td>\n",
              "      <td>우진빌딩</td>\n",
              "      <td>2.0</td>\n",
              "      <td>4.0</td>\n",
              "      <td>다세대/연립</td>\n",
              "      <td>82.69</td>\n",
              "      <td>1.0</td>\n",
              "      <td>전세</td>\n",
              "      <td>34000</td>\n",
              "      <td>0</td>\n",
              "      <td>2015.0</td>\n",
              "      <td>20150623</td>\n",
              "      <td>1991.0</td>\n",
              "    </tr>\n",
              "    <tr>\n",
              "      <th>1</th>\n",
              "      <td>0000001</td>\n",
              "      <td>1111010100100560041</td>\n",
              "      <td>3000136</td>\n",
              "      <td>0000005</td>\n",
              "      <td>2016</td>\n",
              "      <td>11110</td>\n",
              "      <td>종로구</td>\n",
              "      <td>10100</td>\n",
              "      <td>청운동</td>\n",
              "      <td>56.0</td>\n",
              "      <td>41.0</td>\n",
              "      <td>MJ하이빌</td>\n",
              "      <td>3.0</td>\n",
              "      <td>4.0</td>\n",
              "      <td>다세대/연립</td>\n",
              "      <td>75.00</td>\n",
              "      <td>1.0</td>\n",
              "      <td>전세</td>\n",
              "      <td>35000</td>\n",
              "      <td>0</td>\n",
              "      <td>2015.0</td>\n",
              "      <td>20150921</td>\n",
              "      <td>2007.0</td>\n",
              "    </tr>\n",
              "    <tr>\n",
              "      <th>2</th>\n",
              "      <td>0000002</td>\n",
              "      <td>1111010100100500010</td>\n",
              "      <td>3000136</td>\n",
              "      <td>0000505</td>\n",
              "      <td>2015</td>\n",
              "      <td>11110</td>\n",
              "      <td>종로구</td>\n",
              "      <td>10100</td>\n",
              "      <td>청운동</td>\n",
              "      <td>50.0</td>\n",
              "      <td>10.0</td>\n",
              "      <td>글로리아파크</td>\n",
              "      <td>2.0</td>\n",
              "      <td>4.0</td>\n",
              "      <td>다세대/연립</td>\n",
              "      <td>79.14</td>\n",
              "      <td>1.0</td>\n",
              "      <td>전세</td>\n",
              "      <td>38000</td>\n",
              "      <td>0</td>\n",
              "      <td>2015.0</td>\n",
              "      <td>20150822</td>\n",
              "      <td>2002.0</td>\n",
              "    </tr>\n",
              "    <tr>\n",
              "      <th>3</th>\n",
              "      <td>0000003</td>\n",
              "      <td>1111010100100520018</td>\n",
              "      <td>3000136</td>\n",
              "      <td>0000637</td>\n",
              "      <td>2015</td>\n",
              "      <td>11110</td>\n",
              "      <td>종로구</td>\n",
              "      <td>10100</td>\n",
              "      <td>청운동</td>\n",
              "      <td>52.0</td>\n",
              "      <td>18.0</td>\n",
              "      <td>귀빈하우스</td>\n",
              "      <td>2.0</td>\n",
              "      <td>4.0</td>\n",
              "      <td>다세대/연립</td>\n",
              "      <td>102.40</td>\n",
              "      <td>1.0</td>\n",
              "      <td>전세</td>\n",
              "      <td>43000</td>\n",
              "      <td>0</td>\n",
              "      <td>2015.0</td>\n",
              "      <td>20150902</td>\n",
              "      <td>2000.0</td>\n",
              "    </tr>\n",
              "    <tr>\n",
              "      <th>4</th>\n",
              "      <td>0000004</td>\n",
              "      <td>1111010100100520018</td>\n",
              "      <td>3000136</td>\n",
              "      <td>0000129</td>\n",
              "      <td>2018</td>\n",
              "      <td>11110</td>\n",
              "      <td>종로구</td>\n",
              "      <td>10100</td>\n",
              "      <td>청운동</td>\n",
              "      <td>52.0</td>\n",
              "      <td>18.0</td>\n",
              "      <td>귀빈하우스</td>\n",
              "      <td>2.0</td>\n",
              "      <td>4.0</td>\n",
              "      <td>다세대/연립</td>\n",
              "      <td>102.40</td>\n",
              "      <td>1.0</td>\n",
              "      <td>전세</td>\n",
              "      <td>43000</td>\n",
              "      <td>0</td>\n",
              "      <td>2015.0</td>\n",
              "      <td>20150902</td>\n",
              "      <td>2000.0</td>\n",
              "    </tr>\n",
              "  </tbody>\n",
              "</table>\n",
              "</div>"
            ],
            "text/plain": [
              "     index                 지번코드     기관코드  ...    계약년도      계약일자    건축년도\n",
              "0  0000000  1111010100100740001  3000136  ...  2015.0  20150623  1991.0\n",
              "1  0000001  1111010100100560041  3000136  ...  2015.0  20150921  2007.0\n",
              "2  0000002  1111010100100500010  3000136  ...  2015.0  20150822  2002.0\n",
              "3  0000003  1111010100100520018  3000136  ...  2015.0  20150902  2000.0\n",
              "4  0000004  1111010100100520018  3000136  ...  2015.0  20150902  2000.0\n",
              "\n",
              "[5 rows x 23 columns]"
            ]
          },
          "metadata": {
            "tags": []
          },
          "execution_count": 15
        }
      ]
    },
    {
      "cell_type": "code",
      "metadata": {
        "id": "4gfSr2_bq_1g",
        "colab_type": "code",
        "colab": {}
      },
      "source": [
        "data['key'] =data['index'].map(str)+data.지번코드.map(str)+data.기관코드.map(str)+data.일련번호.map(str)"
      ],
      "execution_count": 0,
      "outputs": []
    },
    {
      "cell_type": "code",
      "metadata": {
        "id": "QcGG-SCHr748",
        "colab_type": "code",
        "colab": {
          "base_uri": "https://localhost:8080/",
          "height": 669
        },
        "outputId": "25ae731e-6629-4ee5-a657-af62bfffdca6"
      },
      "source": [
        "data.head()"
      ],
      "execution_count": 17,
      "outputs": [
        {
          "output_type": "execute_result",
          "data": {
            "text/html": [
              "<div>\n",
              "<style scoped>\n",
              "    .dataframe tbody tr th:only-of-type {\n",
              "        vertical-align: middle;\n",
              "    }\n",
              "\n",
              "    .dataframe tbody tr th {\n",
              "        vertical-align: top;\n",
              "    }\n",
              "\n",
              "    .dataframe thead th {\n",
              "        text-align: right;\n",
              "    }\n",
              "</style>\n",
              "<table border=\"1\" class=\"dataframe\">\n",
              "  <thead>\n",
              "    <tr style=\"text-align: right;\">\n",
              "      <th></th>\n",
              "      <th>index</th>\n",
              "      <th>지번코드</th>\n",
              "      <th>기관코드</th>\n",
              "      <th>일련번호</th>\n",
              "      <th>접수년도</th>\n",
              "      <th>자치구코드</th>\n",
              "      <th>자치구명</th>\n",
              "      <th>법정동코드</th>\n",
              "      <th>법정동명</th>\n",
              "      <th>본번</th>\n",
              "      <th>부번</th>\n",
              "      <th>건물명</th>\n",
              "      <th>층</th>\n",
              "      <th>임대건물코드</th>\n",
              "      <th>임대건물명</th>\n",
              "      <th>임대면적</th>\n",
              "      <th>전월세구분코드</th>\n",
              "      <th>전월세구분</th>\n",
              "      <th>보증금</th>\n",
              "      <th>임대료</th>\n",
              "      <th>계약년도</th>\n",
              "      <th>계약일자</th>\n",
              "      <th>건축년도</th>\n",
              "      <th>key</th>\n",
              "    </tr>\n",
              "  </thead>\n",
              "  <tbody>\n",
              "    <tr>\n",
              "      <th>0</th>\n",
              "      <td>0000000</td>\n",
              "      <td>1111010100100740001</td>\n",
              "      <td>3000136</td>\n",
              "      <td>0000457</td>\n",
              "      <td>2015</td>\n",
              "      <td>11110</td>\n",
              "      <td>종로구</td>\n",
              "      <td>10100</td>\n",
              "      <td>청운동</td>\n",
              "      <td>74.0</td>\n",
              "      <td>1.0</td>\n",
              "      <td>우진빌딩</td>\n",
              "      <td>2.0</td>\n",
              "      <td>4.0</td>\n",
              "      <td>다세대/연립</td>\n",
              "      <td>82.69</td>\n",
              "      <td>1.0</td>\n",
              "      <td>전세</td>\n",
              "      <td>34000</td>\n",
              "      <td>0</td>\n",
              "      <td>2015.0</td>\n",
              "      <td>20150623</td>\n",
              "      <td>1991.0</td>\n",
              "      <td>0000000111101010010074000130001360000457</td>\n",
              "    </tr>\n",
              "    <tr>\n",
              "      <th>1</th>\n",
              "      <td>0000001</td>\n",
              "      <td>1111010100100560041</td>\n",
              "      <td>3000136</td>\n",
              "      <td>0000005</td>\n",
              "      <td>2016</td>\n",
              "      <td>11110</td>\n",
              "      <td>종로구</td>\n",
              "      <td>10100</td>\n",
              "      <td>청운동</td>\n",
              "      <td>56.0</td>\n",
              "      <td>41.0</td>\n",
              "      <td>MJ하이빌</td>\n",
              "      <td>3.0</td>\n",
              "      <td>4.0</td>\n",
              "      <td>다세대/연립</td>\n",
              "      <td>75.00</td>\n",
              "      <td>1.0</td>\n",
              "      <td>전세</td>\n",
              "      <td>35000</td>\n",
              "      <td>0</td>\n",
              "      <td>2015.0</td>\n",
              "      <td>20150921</td>\n",
              "      <td>2007.0</td>\n",
              "      <td>0000001111101010010056004130001360000005</td>\n",
              "    </tr>\n",
              "    <tr>\n",
              "      <th>2</th>\n",
              "      <td>0000002</td>\n",
              "      <td>1111010100100500010</td>\n",
              "      <td>3000136</td>\n",
              "      <td>0000505</td>\n",
              "      <td>2015</td>\n",
              "      <td>11110</td>\n",
              "      <td>종로구</td>\n",
              "      <td>10100</td>\n",
              "      <td>청운동</td>\n",
              "      <td>50.0</td>\n",
              "      <td>10.0</td>\n",
              "      <td>글로리아파크</td>\n",
              "      <td>2.0</td>\n",
              "      <td>4.0</td>\n",
              "      <td>다세대/연립</td>\n",
              "      <td>79.14</td>\n",
              "      <td>1.0</td>\n",
              "      <td>전세</td>\n",
              "      <td>38000</td>\n",
              "      <td>0</td>\n",
              "      <td>2015.0</td>\n",
              "      <td>20150822</td>\n",
              "      <td>2002.0</td>\n",
              "      <td>0000002111101010010050001030001360000505</td>\n",
              "    </tr>\n",
              "    <tr>\n",
              "      <th>3</th>\n",
              "      <td>0000003</td>\n",
              "      <td>1111010100100520018</td>\n",
              "      <td>3000136</td>\n",
              "      <td>0000637</td>\n",
              "      <td>2015</td>\n",
              "      <td>11110</td>\n",
              "      <td>종로구</td>\n",
              "      <td>10100</td>\n",
              "      <td>청운동</td>\n",
              "      <td>52.0</td>\n",
              "      <td>18.0</td>\n",
              "      <td>귀빈하우스</td>\n",
              "      <td>2.0</td>\n",
              "      <td>4.0</td>\n",
              "      <td>다세대/연립</td>\n",
              "      <td>102.40</td>\n",
              "      <td>1.0</td>\n",
              "      <td>전세</td>\n",
              "      <td>43000</td>\n",
              "      <td>0</td>\n",
              "      <td>2015.0</td>\n",
              "      <td>20150902</td>\n",
              "      <td>2000.0</td>\n",
              "      <td>0000003111101010010052001830001360000637</td>\n",
              "    </tr>\n",
              "    <tr>\n",
              "      <th>4</th>\n",
              "      <td>0000004</td>\n",
              "      <td>1111010100100520018</td>\n",
              "      <td>3000136</td>\n",
              "      <td>0000129</td>\n",
              "      <td>2018</td>\n",
              "      <td>11110</td>\n",
              "      <td>종로구</td>\n",
              "      <td>10100</td>\n",
              "      <td>청운동</td>\n",
              "      <td>52.0</td>\n",
              "      <td>18.0</td>\n",
              "      <td>귀빈하우스</td>\n",
              "      <td>2.0</td>\n",
              "      <td>4.0</td>\n",
              "      <td>다세대/연립</td>\n",
              "      <td>102.40</td>\n",
              "      <td>1.0</td>\n",
              "      <td>전세</td>\n",
              "      <td>43000</td>\n",
              "      <td>0</td>\n",
              "      <td>2015.0</td>\n",
              "      <td>20150902</td>\n",
              "      <td>2000.0</td>\n",
              "      <td>0000004111101010010052001830001360000129</td>\n",
              "    </tr>\n",
              "  </tbody>\n",
              "</table>\n",
              "</div>"
            ],
            "text/plain": [
              "     index  ...                                       key\n",
              "0  0000000  ...  0000000111101010010074000130001360000457\n",
              "1  0000001  ...  0000001111101010010056004130001360000005\n",
              "2  0000002  ...  0000002111101010010050001030001360000505\n",
              "3  0000003  ...  0000003111101010010052001830001360000637\n",
              "4  0000004  ...  0000004111101010010052001830001360000129\n",
              "\n",
              "[5 rows x 24 columns]"
            ]
          },
          "metadata": {
            "tags": []
          },
          "execution_count": 17
        }
      ]
    },
    {
      "cell_type": "code",
      "metadata": {
        "id": "T0ufHOj2tFC6",
        "colab_type": "code",
        "colab": {
          "base_uri": "https://localhost:8080/",
          "height": 105
        },
        "outputId": "39cf9b61-3853-4179-a2a1-ee8dd51f4530"
      },
      "source": [
        "data.key.describe()"
      ],
      "execution_count": 18,
      "outputs": [
        {
          "output_type": "execute_result",
          "data": {
            "text/plain": [
              "count                                      2016400\n",
              "unique                                     2016400\n",
              "top       0551129000000000113501030031001890000051\n",
              "freq                                             1\n",
              "Name: key, dtype: object"
            ]
          },
          "metadata": {
            "tags": []
          },
          "execution_count": 18
        }
      ]
    },
    {
      "cell_type": "code",
      "metadata": {
        "id": "NVA3fYbquJGi",
        "colab_type": "code",
        "colab": {}
      },
      "source": [
        "data.본번 = data.본번.fillna(0).astype(int)\n",
        "data.부번 = data.부번.fillna(0).astype(int)\n",
        "data.층 = data.층.fillna(0).astype(int)\n",
        "data.임대건물코드 = data.임대건물코드.fillna(0).astype(int)\n",
        "data.전월세구분코드 = data.전월세구분코드.fillna(0).astype(int)\n",
        "data.계약년도 = data.계약년도.fillna(0).astype(int)\n",
        "data.건축년도 = data.건축년도.fillna(0).astype(int)"
      ],
      "execution_count": 0,
      "outputs": []
    },
    {
      "cell_type": "code",
      "metadata": {
        "id": "88RjyqFyxygA",
        "colab_type": "code",
        "colab": {
          "base_uri": "https://localhost:8080/",
          "height": 562
        },
        "outputId": "aa199fcc-8688-43de-ff12-7e99af5951c3"
      },
      "source": [
        "data.info()"
      ],
      "execution_count": 20,
      "outputs": [
        {
          "output_type": "stream",
          "text": [
            "<class 'pandas.core.frame.DataFrame'>\n",
            "RangeIndex: 2016400 entries, 0 to 2016399\n",
            "Data columns (total 24 columns):\n",
            " #   Column   Dtype  \n",
            "---  ------   -----  \n",
            " 0   index    object \n",
            " 1   지번코드     object \n",
            " 2   기관코드     object \n",
            " 3   일련번호     object \n",
            " 4   접수년도     int64  \n",
            " 5   자치구코드    int64  \n",
            " 6   자치구명     object \n",
            " 7   법정동코드    int64  \n",
            " 8   법정동명     object \n",
            " 9   본번       int64  \n",
            " 10  부번       int64  \n",
            " 11  건물명      object \n",
            " 12  층        int64  \n",
            " 13  임대건물코드   int64  \n",
            " 14  임대건물명    object \n",
            " 15  임대면적     float64\n",
            " 16  전월세구분코드  int64  \n",
            " 17  전월세구분    object \n",
            " 18  보증금      int64  \n",
            " 19  임대료      int64  \n",
            " 20  계약년도     int64  \n",
            " 21  계약일자     int64  \n",
            " 22  건축년도     int64  \n",
            " 23  key      object \n",
            "dtypes: float64(1), int64(13), object(10)\n",
            "memory usage: 369.2+ MB\n"
          ],
          "name": "stdout"
        }
      ]
    },
    {
      "cell_type": "code",
      "metadata": {
        "id": "JXaxRrJAxz5A",
        "colab_type": "code",
        "colab": {
          "base_uri": "https://localhost:8080/",
          "height": 669
        },
        "outputId": "293cceaa-c0fa-46c7-9de7-a900145f6bc3"
      },
      "source": [
        "data.head()"
      ],
      "execution_count": 21,
      "outputs": [
        {
          "output_type": "execute_result",
          "data": {
            "text/html": [
              "<div>\n",
              "<style scoped>\n",
              "    .dataframe tbody tr th:only-of-type {\n",
              "        vertical-align: middle;\n",
              "    }\n",
              "\n",
              "    .dataframe tbody tr th {\n",
              "        vertical-align: top;\n",
              "    }\n",
              "\n",
              "    .dataframe thead th {\n",
              "        text-align: right;\n",
              "    }\n",
              "</style>\n",
              "<table border=\"1\" class=\"dataframe\">\n",
              "  <thead>\n",
              "    <tr style=\"text-align: right;\">\n",
              "      <th></th>\n",
              "      <th>index</th>\n",
              "      <th>지번코드</th>\n",
              "      <th>기관코드</th>\n",
              "      <th>일련번호</th>\n",
              "      <th>접수년도</th>\n",
              "      <th>자치구코드</th>\n",
              "      <th>자치구명</th>\n",
              "      <th>법정동코드</th>\n",
              "      <th>법정동명</th>\n",
              "      <th>본번</th>\n",
              "      <th>부번</th>\n",
              "      <th>건물명</th>\n",
              "      <th>층</th>\n",
              "      <th>임대건물코드</th>\n",
              "      <th>임대건물명</th>\n",
              "      <th>임대면적</th>\n",
              "      <th>전월세구분코드</th>\n",
              "      <th>전월세구분</th>\n",
              "      <th>보증금</th>\n",
              "      <th>임대료</th>\n",
              "      <th>계약년도</th>\n",
              "      <th>계약일자</th>\n",
              "      <th>건축년도</th>\n",
              "      <th>key</th>\n",
              "    </tr>\n",
              "  </thead>\n",
              "  <tbody>\n",
              "    <tr>\n",
              "      <th>0</th>\n",
              "      <td>0000000</td>\n",
              "      <td>1111010100100740001</td>\n",
              "      <td>3000136</td>\n",
              "      <td>0000457</td>\n",
              "      <td>2015</td>\n",
              "      <td>11110</td>\n",
              "      <td>종로구</td>\n",
              "      <td>10100</td>\n",
              "      <td>청운동</td>\n",
              "      <td>74</td>\n",
              "      <td>1</td>\n",
              "      <td>우진빌딩</td>\n",
              "      <td>2</td>\n",
              "      <td>4</td>\n",
              "      <td>다세대/연립</td>\n",
              "      <td>82.69</td>\n",
              "      <td>1</td>\n",
              "      <td>전세</td>\n",
              "      <td>34000</td>\n",
              "      <td>0</td>\n",
              "      <td>2015</td>\n",
              "      <td>20150623</td>\n",
              "      <td>1991</td>\n",
              "      <td>0000000111101010010074000130001360000457</td>\n",
              "    </tr>\n",
              "    <tr>\n",
              "      <th>1</th>\n",
              "      <td>0000001</td>\n",
              "      <td>1111010100100560041</td>\n",
              "      <td>3000136</td>\n",
              "      <td>0000005</td>\n",
              "      <td>2016</td>\n",
              "      <td>11110</td>\n",
              "      <td>종로구</td>\n",
              "      <td>10100</td>\n",
              "      <td>청운동</td>\n",
              "      <td>56</td>\n",
              "      <td>41</td>\n",
              "      <td>MJ하이빌</td>\n",
              "      <td>3</td>\n",
              "      <td>4</td>\n",
              "      <td>다세대/연립</td>\n",
              "      <td>75.00</td>\n",
              "      <td>1</td>\n",
              "      <td>전세</td>\n",
              "      <td>35000</td>\n",
              "      <td>0</td>\n",
              "      <td>2015</td>\n",
              "      <td>20150921</td>\n",
              "      <td>2007</td>\n",
              "      <td>0000001111101010010056004130001360000005</td>\n",
              "    </tr>\n",
              "    <tr>\n",
              "      <th>2</th>\n",
              "      <td>0000002</td>\n",
              "      <td>1111010100100500010</td>\n",
              "      <td>3000136</td>\n",
              "      <td>0000505</td>\n",
              "      <td>2015</td>\n",
              "      <td>11110</td>\n",
              "      <td>종로구</td>\n",
              "      <td>10100</td>\n",
              "      <td>청운동</td>\n",
              "      <td>50</td>\n",
              "      <td>10</td>\n",
              "      <td>글로리아파크</td>\n",
              "      <td>2</td>\n",
              "      <td>4</td>\n",
              "      <td>다세대/연립</td>\n",
              "      <td>79.14</td>\n",
              "      <td>1</td>\n",
              "      <td>전세</td>\n",
              "      <td>38000</td>\n",
              "      <td>0</td>\n",
              "      <td>2015</td>\n",
              "      <td>20150822</td>\n",
              "      <td>2002</td>\n",
              "      <td>0000002111101010010050001030001360000505</td>\n",
              "    </tr>\n",
              "    <tr>\n",
              "      <th>3</th>\n",
              "      <td>0000003</td>\n",
              "      <td>1111010100100520018</td>\n",
              "      <td>3000136</td>\n",
              "      <td>0000637</td>\n",
              "      <td>2015</td>\n",
              "      <td>11110</td>\n",
              "      <td>종로구</td>\n",
              "      <td>10100</td>\n",
              "      <td>청운동</td>\n",
              "      <td>52</td>\n",
              "      <td>18</td>\n",
              "      <td>귀빈하우스</td>\n",
              "      <td>2</td>\n",
              "      <td>4</td>\n",
              "      <td>다세대/연립</td>\n",
              "      <td>102.40</td>\n",
              "      <td>1</td>\n",
              "      <td>전세</td>\n",
              "      <td>43000</td>\n",
              "      <td>0</td>\n",
              "      <td>2015</td>\n",
              "      <td>20150902</td>\n",
              "      <td>2000</td>\n",
              "      <td>0000003111101010010052001830001360000637</td>\n",
              "    </tr>\n",
              "    <tr>\n",
              "      <th>4</th>\n",
              "      <td>0000004</td>\n",
              "      <td>1111010100100520018</td>\n",
              "      <td>3000136</td>\n",
              "      <td>0000129</td>\n",
              "      <td>2018</td>\n",
              "      <td>11110</td>\n",
              "      <td>종로구</td>\n",
              "      <td>10100</td>\n",
              "      <td>청운동</td>\n",
              "      <td>52</td>\n",
              "      <td>18</td>\n",
              "      <td>귀빈하우스</td>\n",
              "      <td>2</td>\n",
              "      <td>4</td>\n",
              "      <td>다세대/연립</td>\n",
              "      <td>102.40</td>\n",
              "      <td>1</td>\n",
              "      <td>전세</td>\n",
              "      <td>43000</td>\n",
              "      <td>0</td>\n",
              "      <td>2015</td>\n",
              "      <td>20150902</td>\n",
              "      <td>2000</td>\n",
              "      <td>0000004111101010010052001830001360000129</td>\n",
              "    </tr>\n",
              "  </tbody>\n",
              "</table>\n",
              "</div>"
            ],
            "text/plain": [
              "     index                 지번코드  ...  건축년도                                       key\n",
              "0  0000000  1111010100100740001  ...  1991  0000000111101010010074000130001360000457\n",
              "1  0000001  1111010100100560041  ...  2007  0000001111101010010056004130001360000005\n",
              "2  0000002  1111010100100500010  ...  2002  0000002111101010010050001030001360000505\n",
              "3  0000003  1111010100100520018  ...  2000  0000003111101010010052001830001360000637\n",
              "4  0000004  1111010100100520018  ...  2000  0000004111101010010052001830001360000129\n",
              "\n",
              "[5 rows x 24 columns]"
            ]
          },
          "metadata": {
            "tags": []
          },
          "execution_count": 21
        }
      ]
    },
    {
      "cell_type": "code",
      "metadata": {
        "id": "xoiiFCDiyMO_",
        "colab_type": "code",
        "colab": {}
      },
      "source": [
        "final = pd.concat([data['key'],data.iloc[:,4:-1]], axis = 1)"
      ],
      "execution_count": 0,
      "outputs": []
    },
    {
      "cell_type": "code",
      "metadata": {
        "id": "0wiuHUGvzMTp",
        "colab_type": "code",
        "colab": {
          "base_uri": "https://localhost:8080/",
          "height": 397
        },
        "outputId": "8b3681ec-503c-4d16-bcf4-b0437c5b454b"
      },
      "source": [
        "final.head()"
      ],
      "execution_count": 25,
      "outputs": [
        {
          "output_type": "execute_result",
          "data": {
            "text/html": [
              "<div>\n",
              "<style scoped>\n",
              "    .dataframe tbody tr th:only-of-type {\n",
              "        vertical-align: middle;\n",
              "    }\n",
              "\n",
              "    .dataframe tbody tr th {\n",
              "        vertical-align: top;\n",
              "    }\n",
              "\n",
              "    .dataframe thead th {\n",
              "        text-align: right;\n",
              "    }\n",
              "</style>\n",
              "<table border=\"1\" class=\"dataframe\">\n",
              "  <thead>\n",
              "    <tr style=\"text-align: right;\">\n",
              "      <th></th>\n",
              "      <th>key</th>\n",
              "      <th>접수년도</th>\n",
              "      <th>자치구코드</th>\n",
              "      <th>자치구명</th>\n",
              "      <th>법정동코드</th>\n",
              "      <th>법정동명</th>\n",
              "      <th>본번</th>\n",
              "      <th>부번</th>\n",
              "      <th>건물명</th>\n",
              "      <th>층</th>\n",
              "      <th>임대건물코드</th>\n",
              "      <th>임대건물명</th>\n",
              "      <th>임대면적</th>\n",
              "      <th>전월세구분코드</th>\n",
              "      <th>전월세구분</th>\n",
              "      <th>보증금</th>\n",
              "      <th>임대료</th>\n",
              "      <th>계약년도</th>\n",
              "      <th>계약일자</th>\n",
              "      <th>건축년도</th>\n",
              "    </tr>\n",
              "  </thead>\n",
              "  <tbody>\n",
              "    <tr>\n",
              "      <th>0</th>\n",
              "      <td>0000000111101010010074000130001360000457</td>\n",
              "      <td>2015</td>\n",
              "      <td>11110</td>\n",
              "      <td>종로구</td>\n",
              "      <td>10100</td>\n",
              "      <td>청운동</td>\n",
              "      <td>74</td>\n",
              "      <td>1</td>\n",
              "      <td>우진빌딩</td>\n",
              "      <td>2</td>\n",
              "      <td>4</td>\n",
              "      <td>다세대/연립</td>\n",
              "      <td>82.69</td>\n",
              "      <td>1</td>\n",
              "      <td>전세</td>\n",
              "      <td>34000</td>\n",
              "      <td>0</td>\n",
              "      <td>2015</td>\n",
              "      <td>20150623</td>\n",
              "      <td>1991</td>\n",
              "    </tr>\n",
              "    <tr>\n",
              "      <th>1</th>\n",
              "      <td>0000001111101010010056004130001360000005</td>\n",
              "      <td>2016</td>\n",
              "      <td>11110</td>\n",
              "      <td>종로구</td>\n",
              "      <td>10100</td>\n",
              "      <td>청운동</td>\n",
              "      <td>56</td>\n",
              "      <td>41</td>\n",
              "      <td>MJ하이빌</td>\n",
              "      <td>3</td>\n",
              "      <td>4</td>\n",
              "      <td>다세대/연립</td>\n",
              "      <td>75.00</td>\n",
              "      <td>1</td>\n",
              "      <td>전세</td>\n",
              "      <td>35000</td>\n",
              "      <td>0</td>\n",
              "      <td>2015</td>\n",
              "      <td>20150921</td>\n",
              "      <td>2007</td>\n",
              "    </tr>\n",
              "    <tr>\n",
              "      <th>2</th>\n",
              "      <td>0000002111101010010050001030001360000505</td>\n",
              "      <td>2015</td>\n",
              "      <td>11110</td>\n",
              "      <td>종로구</td>\n",
              "      <td>10100</td>\n",
              "      <td>청운동</td>\n",
              "      <td>50</td>\n",
              "      <td>10</td>\n",
              "      <td>글로리아파크</td>\n",
              "      <td>2</td>\n",
              "      <td>4</td>\n",
              "      <td>다세대/연립</td>\n",
              "      <td>79.14</td>\n",
              "      <td>1</td>\n",
              "      <td>전세</td>\n",
              "      <td>38000</td>\n",
              "      <td>0</td>\n",
              "      <td>2015</td>\n",
              "      <td>20150822</td>\n",
              "      <td>2002</td>\n",
              "    </tr>\n",
              "    <tr>\n",
              "      <th>3</th>\n",
              "      <td>0000003111101010010052001830001360000637</td>\n",
              "      <td>2015</td>\n",
              "      <td>11110</td>\n",
              "      <td>종로구</td>\n",
              "      <td>10100</td>\n",
              "      <td>청운동</td>\n",
              "      <td>52</td>\n",
              "      <td>18</td>\n",
              "      <td>귀빈하우스</td>\n",
              "      <td>2</td>\n",
              "      <td>4</td>\n",
              "      <td>다세대/연립</td>\n",
              "      <td>102.40</td>\n",
              "      <td>1</td>\n",
              "      <td>전세</td>\n",
              "      <td>43000</td>\n",
              "      <td>0</td>\n",
              "      <td>2015</td>\n",
              "      <td>20150902</td>\n",
              "      <td>2000</td>\n",
              "    </tr>\n",
              "    <tr>\n",
              "      <th>4</th>\n",
              "      <td>0000004111101010010052001830001360000129</td>\n",
              "      <td>2018</td>\n",
              "      <td>11110</td>\n",
              "      <td>종로구</td>\n",
              "      <td>10100</td>\n",
              "      <td>청운동</td>\n",
              "      <td>52</td>\n",
              "      <td>18</td>\n",
              "      <td>귀빈하우스</td>\n",
              "      <td>2</td>\n",
              "      <td>4</td>\n",
              "      <td>다세대/연립</td>\n",
              "      <td>102.40</td>\n",
              "      <td>1</td>\n",
              "      <td>전세</td>\n",
              "      <td>43000</td>\n",
              "      <td>0</td>\n",
              "      <td>2015</td>\n",
              "      <td>20150902</td>\n",
              "      <td>2000</td>\n",
              "    </tr>\n",
              "  </tbody>\n",
              "</table>\n",
              "</div>"
            ],
            "text/plain": [
              "                                        key  접수년도  자치구코드  ...  계약년도      계약일자  건축년도\n",
              "0  0000000111101010010074000130001360000457  2015  11110  ...  2015  20150623  1991\n",
              "1  0000001111101010010056004130001360000005  2016  11110  ...  2015  20150921  2007\n",
              "2  0000002111101010010050001030001360000505  2015  11110  ...  2015  20150822  2002\n",
              "3  0000003111101010010052001830001360000637  2015  11110  ...  2015  20150902  2000\n",
              "4  0000004111101010010052001830001360000129  2018  11110  ...  2015  20150902  2000\n",
              "\n",
              "[5 rows x 20 columns]"
            ]
          },
          "metadata": {
            "tags": []
          },
          "execution_count": 25
        }
      ]
    },
    {
      "cell_type": "code",
      "metadata": {
        "id": "JwmVVgKbzOIx",
        "colab_type": "code",
        "colab": {}
      },
      "source": [
        "final.to_csv(\"./gdrive/My Drive/Colab/final_set_seoul_house_200701_201906.csv\" , index=False, encoding = 'utf-8')"
      ],
      "execution_count": 0,
      "outputs": []
    },
    {
      "cell_type": "code",
      "metadata": {
        "id": "6abPoZjV1b-1",
        "colab_type": "code",
        "colab": {}
      },
      "source": [
        ""
      ],
      "execution_count": 0,
      "outputs": []
    },
    {
      "cell_type": "code",
      "metadata": {
        "id": "Hl7H1VLv1wYg",
        "colab_type": "code",
        "colab": {}
      },
      "source": [
        ""
      ],
      "execution_count": 0,
      "outputs": []
    },
    {
      "cell_type": "code",
      "metadata": {
        "id": "zNVb-9iJ1y3u",
        "colab_type": "code",
        "colab": {}
      },
      "source": [
        ""
      ],
      "execution_count": 0,
      "outputs": []
    }
  ]
}