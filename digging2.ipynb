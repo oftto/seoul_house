{
 "cells": [
  {
   "cell_type": "code",
   "execution_count": 1,
   "metadata": {},
   "outputs": [],
   "source": [
    "import numpy as np\n",
    "import pandas as pd\n",
    "import os\n",
    "import matplotlib.pyplot as plt\n",
    "import seaborn as sns\n",
    "from sklearn.model_selection import train_test_split\n",
    "\n",
    "pd.set_option('display.notebook_repr_html', True)\n",
    "pd.set_option('display.max_columns', 23)\n",
    "pd.set_option('display.max_rows', False)\n",
    "pd.set_option('display.width', False)\n",
    "%matplotlib inline"
   ]
  },
  {
   "cell_type": "code",
   "execution_count": 69,
   "metadata": {},
   "outputs": [
    {
     "name": "stderr",
     "output_type": "stream",
     "text": [
      "C:\\Users\\Yeonjoo\\Anaconda3\\lib\\site-packages\\ipykernel_launcher.py:1: ParserWarning: Falling back to the 'python' engine because the 'c' engine does not support regex separators (separators > 1 char and different from '\\s+' are interpreted as regex); you can avoid this warning by specifying engine='python'.\n",
      "  \"\"\"Entry point for launching an IPython kernel.\n"
     ]
    }
   ],
   "source": [
    "df = pd.read_csv(\"서울특별시_전월세가_정보_20190916.csv\", delimiter = 'kk', encoding = 'CP949', header = None)"
   ]
  },
  {
   "cell_type": "code",
   "execution_count": 70,
   "metadata": {},
   "outputs": [
    {
     "data": {
      "text/html": [
       "<div>\n",
       "<style scoped>\n",
       "    .dataframe tbody tr th:only-of-type {\n",
       "        vertical-align: middle;\n",
       "    }\n",
       "\n",
       "    .dataframe tbody tr th {\n",
       "        vertical-align: top;\n",
       "    }\n",
       "\n",
       "    .dataframe thead th {\n",
       "        text-align: right;\n",
       "    }\n",
       "</style>\n",
       "<table border=\"1\" class=\"dataframe\">\n",
       "  <thead>\n",
       "    <tr style=\"text-align: right;\">\n",
       "      <th></th>\n",
       "      <th>0</th>\n",
       "    </tr>\n",
       "  </thead>\n",
       "  <tbody>\n",
       "    <tr>\n",
       "      <th>0</th>\n",
       "      <td>\"지번코드\",\"기관코드\",\"일련번호\",\"접수년도\",\"자치구코드\",\"자치구명\",\"법정...</td>\n",
       "    </tr>\n",
       "    <tr>\n",
       "      <th>1</th>\n",
       "      <td>\"1111010100100740001\",\"3000136\",\"0000457\",\"201...</td>\n",
       "    </tr>\n",
       "    <tr>\n",
       "      <th>2</th>\n",
       "      <td>\"1111010100100010000\",\"3000136\",\"0000485\",\"201...</td>\n",
       "    </tr>\n",
       "    <tr>\n",
       "      <th>3</th>\n",
       "      <td>\"1111010100100560041\",\"3000136\",\"0000005\",\"201...</td>\n",
       "    </tr>\n",
       "    <tr>\n",
       "      <th>4</th>\n",
       "      <td>\"1111010100100500010\",\"3000136\",\"0000505\",\"201...</td>\n",
       "    </tr>\n",
       "  </tbody>\n",
       "</table>\n",
       "</div>"
      ],
      "text/plain": [
       "                                                   0\n",
       "0  \"지번코드\",\"기관코드\",\"일련번호\",\"접수년도\",\"자치구코드\",\"자치구명\",\"법정...\n",
       "1  \"1111010100100740001\",\"3000136\",\"0000457\",\"201...\n",
       "2  \"1111010100100010000\",\"3000136\",\"0000485\",\"201...\n",
       "3  \"1111010100100560041\",\"3000136\",\"0000005\",\"201...\n",
       "4  \"1111010100100500010\",\"3000136\",\"0000505\",\"201..."
      ]
     },
     "execution_count": 70,
     "metadata": {},
     "output_type": "execute_result"
    }
   ],
   "source": [
    "df.head()"
   ]
  },
  {
   "cell_type": "code",
   "execution_count": 71,
   "metadata": {},
   "outputs": [],
   "source": [
    "df[0]=df[0].str.replace(';',',')"
   ]
  },
  {
   "cell_type": "code",
   "execution_count": 72,
   "metadata": {},
   "outputs": [],
   "source": [
    "df[0]=df[0].str.replace('\"','')"
   ]
  },
  {
   "cell_type": "code",
   "execution_count": 29,
   "metadata": {},
   "outputs": [],
   "source": [
    "#df[0]=df[0].str.replace('\"','')"
   ]
  },
  {
   "cell_type": "code",
   "execution_count": 75,
   "metadata": {},
   "outputs": [
    {
     "data": {
      "text/html": [
       "<div>\n",
       "<style scoped>\n",
       "    .dataframe tbody tr th:only-of-type {\n",
       "        vertical-align: middle;\n",
       "    }\n",
       "\n",
       "    .dataframe tbody tr th {\n",
       "        vertical-align: top;\n",
       "    }\n",
       "\n",
       "    .dataframe thead th {\n",
       "        text-align: right;\n",
       "    }\n",
       "</style>\n",
       "<table border=\"1\" class=\"dataframe\">\n",
       "  <thead>\n",
       "    <tr style=\"text-align: right;\">\n",
       "      <th></th>\n",
       "      <th>0</th>\n",
       "    </tr>\n",
       "  </thead>\n",
       "  <tbody>\n",
       "    <tr>\n",
       "      <th>0</th>\n",
       "      <td>지번코드,기관코드,일련번호,접수년도,자치구코드,자치구명,법정동코드,법정동명,본번,부...</td>\n",
       "    </tr>\n",
       "    <tr>\n",
       "      <th>1</th>\n",
       "      <td>1111010100100740001,3000136,0000457,2015,11110...</td>\n",
       "    </tr>\n",
       "    <tr>\n",
       "      <th>2</th>\n",
       "      <td>1111010100100010000,3000136,0000485,2015,11110...</td>\n",
       "    </tr>\n",
       "    <tr>\n",
       "      <th>3</th>\n",
       "      <td>1111010100100560041,3000136,0000005,2016,11110...</td>\n",
       "    </tr>\n",
       "    <tr>\n",
       "      <th>4</th>\n",
       "      <td>1111010100100500010,3000136,0000505,2015,11110...</td>\n",
       "    </tr>\n",
       "  </tbody>\n",
       "</table>\n",
       "</div>"
      ],
      "text/plain": [
       "                                                   0\n",
       "0  지번코드,기관코드,일련번호,접수년도,자치구코드,자치구명,법정동코드,법정동명,본번,부...\n",
       "1  1111010100100740001,3000136,0000457,2015,11110...\n",
       "2  1111010100100010000,3000136,0000485,2015,11110...\n",
       "3  1111010100100560041,3000136,0000005,2016,11110...\n",
       "4  1111010100100500010,3000136,0000505,2015,11110..."
      ]
     },
     "execution_count": 75,
     "metadata": {},
     "output_type": "execute_result"
    }
   ],
   "source": [
    "df.head()"
   ]
  },
  {
   "cell_type": "code",
   "execution_count": 77,
   "metadata": {},
   "outputs": [],
   "source": [
    "df1 = df[0].str.split(',',expand=True)"
   ]
  },
  {
   "cell_type": "code",
   "execution_count": 80,
   "metadata": {},
   "outputs": [],
   "source": [
    "df1 = df1.iloc[:,:22]"
   ]
  },
  {
   "cell_type": "code",
   "execution_count": 81,
   "metadata": {},
   "outputs": [
    {
     "data": {
      "text/html": [
       "<div>\n",
       "<style scoped>\n",
       "    .dataframe tbody tr th:only-of-type {\n",
       "        vertical-align: middle;\n",
       "    }\n",
       "\n",
       "    .dataframe tbody tr th {\n",
       "        vertical-align: top;\n",
       "    }\n",
       "\n",
       "    .dataframe thead th {\n",
       "        text-align: right;\n",
       "    }\n",
       "</style>\n",
       "<table border=\"1\" class=\"dataframe\">\n",
       "  <thead>\n",
       "    <tr style=\"text-align: right;\">\n",
       "      <th></th>\n",
       "      <th>0</th>\n",
       "      <th>1</th>\n",
       "      <th>2</th>\n",
       "      <th>3</th>\n",
       "      <th>4</th>\n",
       "      <th>5</th>\n",
       "      <th>6</th>\n",
       "      <th>7</th>\n",
       "      <th>8</th>\n",
       "      <th>9</th>\n",
       "      <th>10</th>\n",
       "      <th>11</th>\n",
       "      <th>12</th>\n",
       "      <th>13</th>\n",
       "      <th>14</th>\n",
       "      <th>15</th>\n",
       "      <th>16</th>\n",
       "      <th>17</th>\n",
       "      <th>18</th>\n",
       "      <th>19</th>\n",
       "      <th>20</th>\n",
       "      <th>21</th>\n",
       "    </tr>\n",
       "  </thead>\n",
       "  <tbody>\n",
       "    <tr>\n",
       "      <th>0</th>\n",
       "      <td>지번코드</td>\n",
       "      <td>기관코드</td>\n",
       "      <td>일련번호</td>\n",
       "      <td>접수년도</td>\n",
       "      <td>자치구코드</td>\n",
       "      <td>자치구명</td>\n",
       "      <td>법정동코드</td>\n",
       "      <td>법정동명</td>\n",
       "      <td>본번</td>\n",
       "      <td>부번</td>\n",
       "      <td>건물명</td>\n",
       "      <td>층</td>\n",
       "      <td>임대건물코드</td>\n",
       "      <td>임대건물명</td>\n",
       "      <td>임대면적</td>\n",
       "      <td>전월세구분코드</td>\n",
       "      <td>전월세구분</td>\n",
       "      <td>보증금</td>\n",
       "      <td>임대료</td>\n",
       "      <td>계약년도</td>\n",
       "      <td>계약일자</td>\n",
       "      <td>건축년도</td>\n",
       "    </tr>\n",
       "    <tr>\n",
       "      <th>1</th>\n",
       "      <td>1111010100100740001</td>\n",
       "      <td>3000136</td>\n",
       "      <td>0000457</td>\n",
       "      <td>2015</td>\n",
       "      <td>11110</td>\n",
       "      <td>종로구</td>\n",
       "      <td>10100</td>\n",
       "      <td>청운동</td>\n",
       "      <td>0074</td>\n",
       "      <td>0001</td>\n",
       "      <td>우진빌딩</td>\n",
       "      <td>2</td>\n",
       "      <td>4</td>\n",
       "      <td>다세대/연립</td>\n",
       "      <td>82.69</td>\n",
       "      <td>1</td>\n",
       "      <td>전세</td>\n",
       "      <td>34000</td>\n",
       "      <td>0</td>\n",
       "      <td>2015</td>\n",
       "      <td>20150623</td>\n",
       "      <td>1991</td>\n",
       "    </tr>\n",
       "    <tr>\n",
       "      <th>2</th>\n",
       "      <td>1111010100100010000</td>\n",
       "      <td>3000136</td>\n",
       "      <td>0000485</td>\n",
       "      <td>2015</td>\n",
       "      <td>11110</td>\n",
       "      <td>종로구</td>\n",
       "      <td>10100</td>\n",
       "      <td>청운동</td>\n",
       "      <td>0001</td>\n",
       "      <td>0000</td>\n",
       "      <td>청운벽산빌리지</td>\n",
       "      <td>2</td>\n",
       "      <td>4</td>\n",
       "      <td>다세대/연립</td>\n",
       "      <td>83.61</td>\n",
       "      <td>3</td>\n",
       "      <td>준월세</td>\n",
       "      <td>5000</td>\n",
       "      <td>120</td>\n",
       "      <td>2015</td>\n",
       "      <td>20150703</td>\n",
       "      <td>1988</td>\n",
       "    </tr>\n",
       "    <tr>\n",
       "      <th>3</th>\n",
       "      <td>1111010100100560041</td>\n",
       "      <td>3000136</td>\n",
       "      <td>0000005</td>\n",
       "      <td>2016</td>\n",
       "      <td>11110</td>\n",
       "      <td>종로구</td>\n",
       "      <td>10100</td>\n",
       "      <td>청운동</td>\n",
       "      <td>0056</td>\n",
       "      <td>0041</td>\n",
       "      <td>MJ하이빌</td>\n",
       "      <td>3</td>\n",
       "      <td>4</td>\n",
       "      <td>다세대/연립</td>\n",
       "      <td>75</td>\n",
       "      <td>1</td>\n",
       "      <td>전세</td>\n",
       "      <td>35000</td>\n",
       "      <td>0</td>\n",
       "      <td>2015</td>\n",
       "      <td>20150921</td>\n",
       "      <td>2007</td>\n",
       "    </tr>\n",
       "    <tr>\n",
       "      <th>4</th>\n",
       "      <td>1111010100100500010</td>\n",
       "      <td>3000136</td>\n",
       "      <td>0000505</td>\n",
       "      <td>2015</td>\n",
       "      <td>11110</td>\n",
       "      <td>종로구</td>\n",
       "      <td>10100</td>\n",
       "      <td>청운동</td>\n",
       "      <td>0050</td>\n",
       "      <td>0010</td>\n",
       "      <td>글로리아파크</td>\n",
       "      <td>2</td>\n",
       "      <td>4</td>\n",
       "      <td>다세대/연립</td>\n",
       "      <td>79.14</td>\n",
       "      <td>1</td>\n",
       "      <td>전세</td>\n",
       "      <td>38000</td>\n",
       "      <td>0</td>\n",
       "      <td>2015</td>\n",
       "      <td>20150822</td>\n",
       "      <td>2002</td>\n",
       "    </tr>\n",
       "  </tbody>\n",
       "</table>\n",
       "</div>"
      ],
      "text/plain": [
       "                     0        1        2     3      4     5      6     7  \\\n",
       "0                 지번코드     기관코드     일련번호  접수년도  자치구코드  자치구명  법정동코드  법정동명   \n",
       "1  1111010100100740001  3000136  0000457  2015  11110   종로구  10100   청운동   \n",
       "2  1111010100100010000  3000136  0000485  2015  11110   종로구  10100   청운동   \n",
       "3  1111010100100560041  3000136  0000005  2016  11110   종로구  10100   청운동   \n",
       "4  1111010100100500010  3000136  0000505  2015  11110   종로구  10100   청운동   \n",
       "\n",
       "      8     9       10 11      12      13     14       15     16     17   18  \\\n",
       "0    본번    부번      건물명  층  임대건물코드   임대건물명   임대면적  전월세구분코드  전월세구분    보증금  임대료   \n",
       "1  0074  0001     우진빌딩  2       4  다세대/연립  82.69        1     전세  34000    0   \n",
       "2  0001  0000  청운벽산빌리지  2       4  다세대/연립  83.61        3    준월세   5000  120   \n",
       "3  0056  0041    MJ하이빌  3       4  다세대/연립     75        1     전세  35000    0   \n",
       "4  0050  0010   글로리아파크  2       4  다세대/연립  79.14        1     전세  38000    0   \n",
       "\n",
       "     19        20    21  \n",
       "0  계약년도      계약일자  건축년도  \n",
       "1  2015  20150623  1991  \n",
       "2  2015  20150703  1988  \n",
       "3  2015  20150921  2007  \n",
       "4  2015  20150822  2002  "
      ]
     },
     "execution_count": 81,
     "metadata": {},
     "output_type": "execute_result"
    }
   ],
   "source": [
    "df1.head()"
   ]
  },
  {
   "cell_type": "code",
   "execution_count": 88,
   "metadata": {},
   "outputs": [],
   "source": [
    "df1.to_csv('전세.csv', encoding = 'euc-kr' ,index = False, header = False)"
   ]
  },
  {
   "cell_type": "code",
   "execution_count": 89,
   "metadata": {},
   "outputs": [
    {
     "name": "stderr",
     "output_type": "stream",
     "text": [
      "C:\\Users\\Yeonjoo\\Anaconda3\\lib\\site-packages\\IPython\\core\\interactiveshell.py:2785: DtypeWarning: Columns (0,11,12,14,15,17,18,19,20,21) have mixed types. Specify dtype option on import or set low_memory=False.\n",
      "  interactivity=interactivity, compiler=compiler, result=result)\n"
     ]
    }
   ],
   "source": [
    "test = pd.read_csv('전세.csv', encoding = 'CP949')"
   ]
  },
  {
   "cell_type": "code",
   "execution_count": 101,
   "metadata": {},
   "outputs": [
    {
     "data": {
      "text/html": [
       "<div>\n",
       "<style scoped>\n",
       "    .dataframe tbody tr th:only-of-type {\n",
       "        vertical-align: middle;\n",
       "    }\n",
       "\n",
       "    .dataframe tbody tr th {\n",
       "        vertical-align: top;\n",
       "    }\n",
       "\n",
       "    .dataframe thead th {\n",
       "        text-align: right;\n",
       "    }\n",
       "</style>\n",
       "<table border=\"1\" class=\"dataframe\">\n",
       "  <thead>\n",
       "    <tr style=\"text-align: right;\">\n",
       "      <th></th>\n",
       "      <th>지번코드</th>\n",
       "      <th>기관코드</th>\n",
       "      <th>일련번호</th>\n",
       "      <th>접수년도</th>\n",
       "      <th>자치구코드</th>\n",
       "      <th>자치구명</th>\n",
       "      <th>법정동코드</th>\n",
       "      <th>법정동명</th>\n",
       "      <th>본번</th>\n",
       "      <th>부번</th>\n",
       "      <th>건물명</th>\n",
       "      <th>층</th>\n",
       "      <th>임대건물코드</th>\n",
       "      <th>임대건물명</th>\n",
       "      <th>임대면적</th>\n",
       "      <th>전월세구분코드</th>\n",
       "      <th>전월세구분</th>\n",
       "      <th>보증금</th>\n",
       "      <th>임대료</th>\n",
       "      <th>계약년도</th>\n",
       "      <th>계약일자</th>\n",
       "      <th>건축년도</th>\n",
       "    </tr>\n",
       "  </thead>\n",
       "  <tbody>\n",
       "    <tr>\n",
       "      <th>0</th>\n",
       "      <td>1111010100100740001</td>\n",
       "      <td>3000136</td>\n",
       "      <td>457</td>\n",
       "      <td>2015</td>\n",
       "      <td>11110</td>\n",
       "      <td>종로구</td>\n",
       "      <td>10100</td>\n",
       "      <td>청운동</td>\n",
       "      <td>74.0</td>\n",
       "      <td>1.0</td>\n",
       "      <td>우진빌딩</td>\n",
       "      <td>2</td>\n",
       "      <td>4</td>\n",
       "      <td>다세대/연립</td>\n",
       "      <td>82.69</td>\n",
       "      <td>1</td>\n",
       "      <td>전세</td>\n",
       "      <td>34000</td>\n",
       "      <td>0</td>\n",
       "      <td>2015</td>\n",
       "      <td>20150623</td>\n",
       "      <td>1991</td>\n",
       "    </tr>\n",
       "    <tr>\n",
       "      <th>1</th>\n",
       "      <td>1111010100100010000</td>\n",
       "      <td>3000136</td>\n",
       "      <td>485</td>\n",
       "      <td>2015</td>\n",
       "      <td>11110</td>\n",
       "      <td>종로구</td>\n",
       "      <td>10100</td>\n",
       "      <td>청운동</td>\n",
       "      <td>1.0</td>\n",
       "      <td>0.0</td>\n",
       "      <td>청운벽산빌리지</td>\n",
       "      <td>2</td>\n",
       "      <td>4</td>\n",
       "      <td>다세대/연립</td>\n",
       "      <td>83.61</td>\n",
       "      <td>3</td>\n",
       "      <td>준월세</td>\n",
       "      <td>5000</td>\n",
       "      <td>120</td>\n",
       "      <td>2015</td>\n",
       "      <td>20150703</td>\n",
       "      <td>1988</td>\n",
       "    </tr>\n",
       "    <tr>\n",
       "      <th>2</th>\n",
       "      <td>1111010100100560041</td>\n",
       "      <td>3000136</td>\n",
       "      <td>5</td>\n",
       "      <td>2016</td>\n",
       "      <td>11110</td>\n",
       "      <td>종로구</td>\n",
       "      <td>10100</td>\n",
       "      <td>청운동</td>\n",
       "      <td>56.0</td>\n",
       "      <td>41.0</td>\n",
       "      <td>MJ하이빌</td>\n",
       "      <td>3</td>\n",
       "      <td>4</td>\n",
       "      <td>다세대/연립</td>\n",
       "      <td>75</td>\n",
       "      <td>1</td>\n",
       "      <td>전세</td>\n",
       "      <td>35000</td>\n",
       "      <td>0</td>\n",
       "      <td>2015</td>\n",
       "      <td>20150921</td>\n",
       "      <td>2007</td>\n",
       "    </tr>\n",
       "    <tr>\n",
       "      <th>3</th>\n",
       "      <td>1111010100100500010</td>\n",
       "      <td>3000136</td>\n",
       "      <td>505</td>\n",
       "      <td>2015</td>\n",
       "      <td>11110</td>\n",
       "      <td>종로구</td>\n",
       "      <td>10100</td>\n",
       "      <td>청운동</td>\n",
       "      <td>50.0</td>\n",
       "      <td>10.0</td>\n",
       "      <td>글로리아파크</td>\n",
       "      <td>2</td>\n",
       "      <td>4</td>\n",
       "      <td>다세대/연립</td>\n",
       "      <td>79.14</td>\n",
       "      <td>1</td>\n",
       "      <td>전세</td>\n",
       "      <td>38000</td>\n",
       "      <td>0</td>\n",
       "      <td>2015</td>\n",
       "      <td>20150822</td>\n",
       "      <td>2002</td>\n",
       "    </tr>\n",
       "    <tr>\n",
       "      <th>4</th>\n",
       "      <td>1111010100100520018</td>\n",
       "      <td>3000136</td>\n",
       "      <td>637</td>\n",
       "      <td>2015</td>\n",
       "      <td>11110</td>\n",
       "      <td>종로구</td>\n",
       "      <td>10100</td>\n",
       "      <td>청운동</td>\n",
       "      <td>52.0</td>\n",
       "      <td>18.0</td>\n",
       "      <td>귀빈하우스</td>\n",
       "      <td>2</td>\n",
       "      <td>4</td>\n",
       "      <td>다세대/연립</td>\n",
       "      <td>102.4</td>\n",
       "      <td>1</td>\n",
       "      <td>전세</td>\n",
       "      <td>43000</td>\n",
       "      <td>0</td>\n",
       "      <td>2015</td>\n",
       "      <td>20150902</td>\n",
       "      <td>2000</td>\n",
       "    </tr>\n",
       "  </tbody>\n",
       "</table>\n",
       "</div>"
      ],
      "text/plain": [
       "                  지번코드     기관코드  일련번호  접수년도  자치구코드 자치구명  법정동코드 법정동명    본번  \\\n",
       "0  1111010100100740001  3000136   457  2015  11110  종로구  10100  청운동  74.0   \n",
       "1  1111010100100010000  3000136   485  2015  11110  종로구  10100  청운동   1.0   \n",
       "2  1111010100100560041  3000136     5  2016  11110  종로구  10100  청운동  56.0   \n",
       "3  1111010100100500010  3000136   505  2015  11110  종로구  10100  청운동  50.0   \n",
       "4  1111010100100520018  3000136   637  2015  11110  종로구  10100  청운동  52.0   \n",
       "\n",
       "     부번      건물명  층 임대건물코드   임대건물명   임대면적 전월세구분코드 전월세구분    보증금  임대료  계약년도  \\\n",
       "0   1.0     우진빌딩  2      4  다세대/연립  82.69       1    전세  34000    0  2015   \n",
       "1   0.0  청운벽산빌리지  2      4  다세대/연립  83.61       3   준월세   5000  120  2015   \n",
       "2  41.0    MJ하이빌  3      4  다세대/연립     75       1    전세  35000    0  2015   \n",
       "3  10.0   글로리아파크  2      4  다세대/연립  79.14       1    전세  38000    0  2015   \n",
       "4  18.0    귀빈하우스  2      4  다세대/연립  102.4       1    전세  43000    0  2015   \n",
       "\n",
       "       계약일자  건축년도  \n",
       "0  20150623  1991  \n",
       "1  20150703  1988  \n",
       "2  20150921  2007  \n",
       "3  20150822  2002  \n",
       "4  20150902  2000  "
      ]
     },
     "execution_count": 101,
     "metadata": {},
     "output_type": "execute_result"
    }
   ],
   "source": [
    "test.head()"
   ]
  },
  {
   "cell_type": "code",
   "execution_count": 102,
   "metadata": {
    "scrolled": true
   },
   "outputs": [
    {
     "data": {
      "text/plain": [
       "전세        2016400\n",
       "준월세        873150\n",
       "준전세        264088\n",
       "월세         111002\n",
       "1           10209\n",
       "3            2039\n",
       "4            1399\n",
       "아파트           440\n",
       "33동)          397\n",
       "2             168\n",
       "다세대/연립        168\n",
       "144.2         129\n",
       "157.36        125\n",
       "5              70\n",
       "57.12          67\n",
       "           ...   \n",
       "36.19           1\n",
       "26.1            1\n",
       "26.7            1\n",
       "49.01           1\n",
       "33              1\n",
       "16.52           1\n",
       "28.05           1\n",
       "70.74           1\n",
       "46              1\n",
       "26.4            1\n",
       "50              1\n",
       "82.6            1\n",
       "41.34           1\n",
       "38.83           1\n",
       "57.19           1\n",
       "Name: 전월세구분, Length: 141, dtype: int64"
      ]
     },
     "execution_count": 102,
     "metadata": {},
     "output_type": "execute_result"
    }
   ],
   "source": [
    "test['전월세구분'].value_counts()"
   ]
  },
  {
   "cell_type": "code",
   "execution_count": 108,
   "metadata": {},
   "outputs": [
    {
     "data": {
      "text/plain": [
       "2007.0"
      ]
     },
     "execution_count": 108,
     "metadata": {},
     "output_type": "execute_result"
    }
   ],
   "source": [
    "test[test['전월세구분']=='전세']['계약년도'].str.slice(start=0, stop=4).astype('float').min()"
   ]
  },
  {
   "cell_type": "code",
   "execution_count": 106,
   "metadata": {},
   "outputs": [
    {
     "data": {
      "text/plain": [
       "2019.0"
      ]
     },
     "execution_count": 106,
     "metadata": {},
     "output_type": "execute_result"
    }
   ],
   "source": [
    "test[test['전월세구분']=='전세']['계약일자'].str.slice(start=0, stop=4).astype('float').max()"
   ]
  },
  {
   "cell_type": "code",
   "execution_count": 113,
   "metadata": {},
   "outputs": [],
   "source": [
    "test1 = test[test['전월세구분']=='전세']"
   ]
  },
  {
   "cell_type": "code",
   "execution_count": 119,
   "metadata": {},
   "outputs": [
    {
     "name": "stdout",
     "output_type": "stream",
     "text": [
      "<class 'pandas.core.frame.DataFrame'>\n",
      "Int64Index: 2016400 entries, 0 to 3280918\n",
      "Data columns (total 22 columns):\n",
      "지번코드       object\n",
      "기관코드       int64\n",
      "일련번호       int64\n",
      "접수년도       int64\n",
      "자치구코드      int64\n",
      "자치구명       object\n",
      "법정동코드      int64\n",
      "법정동명       object\n",
      "본번         float64\n",
      "부번         float64\n",
      "건물명        object\n",
      "층          object\n",
      "임대건물코드     object\n",
      "임대건물명      object\n",
      "임대면적       object\n",
      "전월세구분코드    object\n",
      "전월세구분      object\n",
      "보증금        object\n",
      "임대료        object\n",
      "계약년도       object\n",
      "계약일자       object\n",
      "건축년도       object\n",
      "dtypes: float64(2), int64(5), object(15)\n",
      "memory usage: 353.8+ MB\n"
     ]
    }
   ],
   "source": [
    "test1.info()"
   ]
  },
  {
   "cell_type": "code",
   "execution_count": 117,
   "metadata": {},
   "outputs": [
    {
     "data": {
      "text/plain": [
       "20070130"
      ]
     },
     "execution_count": 117,
     "metadata": {},
     "output_type": "execute_result"
    }
   ],
   "source": [
    "test1['계약일자'].astype('int64').min()"
   ]
  },
  {
   "cell_type": "code",
   "execution_count": 118,
   "metadata": {},
   "outputs": [
    {
     "data": {
      "text/plain": [
       "20190620"
      ]
     },
     "execution_count": 118,
     "metadata": {},
     "output_type": "execute_result"
    }
   ],
   "source": [
    "test1['계약일자'].astype('int64').max()"
   ]
  },
  {
   "cell_type": "code",
   "execution_count": 120,
   "metadata": {},
   "outputs": [],
   "source": [
    "test1.to_csv('서울시_전세계약_200701_201906.csv', encoding = 'euc-kr' ,index = False, header = True)"
   ]
  },
  {
   "cell_type": "code",
   "execution_count": null,
   "metadata": {},
   "outputs": [],
   "source": []
  }
 ],
 "metadata": {
  "kernelspec": {
   "display_name": "Python 3",
   "language": "python",
   "name": "python3"
  },
  "language_info": {
   "codemirror_mode": {
    "name": "ipython",
    "version": 3
   },
   "file_extension": ".py",
   "mimetype": "text/x-python",
   "name": "python",
   "nbconvert_exporter": "python",
   "pygments_lexer": "ipython3",
   "version": "3.6.5"
  }
 },
 "nbformat": 4,
 "nbformat_minor": 2
}
