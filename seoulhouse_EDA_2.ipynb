{
  "nbformat": 4,
  "nbformat_minor": 0,
  "metadata": {
    "colab": {
      "name": "seoulhouse_EDA_2.ipynb",
      "provenance": [],
      "include_colab_link": true
    },
    "kernelspec": {
      "display_name": "Python 3",
      "language": "python",
      "name": "python3"
    },
    "language_info": {
      "codemirror_mode": {
        "name": "ipython",
        "version": 3
      },
      "file_extension": ".py",
      "mimetype": "text/x-python",
      "name": "python",
      "nbconvert_exporter": "python",
      "pygments_lexer": "ipython3",
      "version": "3.6.5"
    }
  },
  "cells": [
    {
      "cell_type": "markdown",
      "metadata": {
        "id": "view-in-github",
        "colab_type": "text"
      },
      "source": [
        "<a href=\"https://colab.research.google.com/github/oftto/seoul_house/blob/master/seoulhouse_EDA_2.ipynb\" target=\"_parent\"><img src=\"https://colab.research.google.com/assets/colab-badge.svg\" alt=\"Open In Colab\"/></a>"
      ]
    },
    {
      "cell_type": "code",
      "metadata": {
        "colab_type": "code",
        "id": "w_SfQ2ZU25To",
        "outputId": "8528c80b-512a-4ce7-8d9e-413f1da54fe2",
        "colab": {
          "base_uri": "https://localhost:8080/",
          "height": 127
        }
      },
      "source": [
        "from google.colab import auth\n",
        "auth.authenticate_user()\n",
        "\n",
        "from google.colab import drive\n",
        "drive.mount('/content/gdrive')"
      ],
      "execution_count": 2,
      "outputs": [
        {
          "output_type": "stream",
          "text": [
            "Go to this URL in a browser: https://accounts.google.com/o/oauth2/auth?client_id=947318989803-6bn6qk8qdgf4n4g3pfee6491hc0brc4i.apps.googleusercontent.com&redirect_uri=urn%3aietf%3awg%3aoauth%3a2.0%3aoob&response_type=code&scope=email%20https%3a%2f%2fwww.googleapis.com%2fauth%2fdocs.test%20https%3a%2f%2fwww.googleapis.com%2fauth%2fdrive%20https%3a%2f%2fwww.googleapis.com%2fauth%2fdrive.photos.readonly%20https%3a%2f%2fwww.googleapis.com%2fauth%2fpeopleapi.readonly\n",
            "\n",
            "Enter your authorization code:\n",
            "··········\n",
            "Mounted at /content/gdrive\n"
          ],
          "name": "stdout"
        }
      ]
    },
    {
      "cell_type": "code",
      "metadata": {
        "colab_type": "code",
        "id": "BQyBXn6_3JGM",
        "colab": {}
      },
      "source": [
        "import pandas as pd\n",
        "data = pd.read_csv(\"./gdrive/My Drive/Colab/final_set_seoul_house_200701_201906.csv\" , encoding = 'utf-8')"
      ],
      "execution_count": 0,
      "outputs": []
    },
    {
      "cell_type": "code",
      "metadata": {
        "id": "k1YftfR0vfrN",
        "colab_type": "code",
        "colab": {
          "base_uri": "https://localhost:8080/",
          "height": 35
        },
        "outputId": "3ce28f6b-7d69-404e-ab1d-2f564146e2a2"
      },
      "source": [
        "!pwd"
      ],
      "execution_count": 5,
      "outputs": [
        {
          "output_type": "stream",
          "text": [
            "/content\n"
          ],
          "name": "stdout"
        }
      ]
    },
    {
      "cell_type": "code",
      "metadata": {
        "id": "POzxvUHgvNqn",
        "colab_type": "code",
        "colab": {}
      },
      "source": [
        "from google.colab import drive\n",
        "drive.mount('/content/drive')"
      ],
      "execution_count": 0,
      "outputs": []
    },
    {
      "cell_type": "code",
      "metadata": {
        "colab_type": "code",
        "id": "e9we2Xvy3qj7",
        "colab": {},
        "outputId": "93da24af-53de-4ef5-85be-fcc69b2adb87"
      },
      "source": [
        "data.head()"
      ],
      "execution_count": 0,
      "outputs": [
        {
          "output_type": "execute_result",
          "data": {
            "text/html": [
              "<div>\n",
              "<style scoped>\n",
              "    .dataframe tbody tr th:only-of-type {\n",
              "        vertical-align: middle;\n",
              "    }\n",
              "\n",
              "    .dataframe tbody tr th {\n",
              "        vertical-align: top;\n",
              "    }\n",
              "\n",
              "    .dataframe thead th {\n",
              "        text-align: right;\n",
              "    }\n",
              "</style>\n",
              "<table border=\"1\" class=\"dataframe\">\n",
              "  <thead>\n",
              "    <tr style=\"text-align: right;\">\n",
              "      <th></th>\n",
              "      <th>key</th>\n",
              "      <th>접수년도</th>\n",
              "      <th>자치구코드</th>\n",
              "      <th>자치구명</th>\n",
              "      <th>법정동코드</th>\n",
              "      <th>법정동명</th>\n",
              "      <th>본번</th>\n",
              "      <th>부번</th>\n",
              "      <th>건물명</th>\n",
              "      <th>층</th>\n",
              "      <th>임대건물코드</th>\n",
              "      <th>임대건물명</th>\n",
              "      <th>임대면적</th>\n",
              "      <th>전월세구분코드</th>\n",
              "      <th>전월세구분</th>\n",
              "      <th>보증금</th>\n",
              "      <th>임대료</th>\n",
              "      <th>계약년도</th>\n",
              "      <th>계약일자</th>\n",
              "      <th>건축년도</th>\n",
              "    </tr>\n",
              "  </thead>\n",
              "  <tbody>\n",
              "    <tr>\n",
              "      <th>0</th>\n",
              "      <td>0000000111101010010074000130001360000457</td>\n",
              "      <td>2015</td>\n",
              "      <td>11110</td>\n",
              "      <td>종로구</td>\n",
              "      <td>10100</td>\n",
              "      <td>청운동</td>\n",
              "      <td>74</td>\n",
              "      <td>1</td>\n",
              "      <td>우진빌딩</td>\n",
              "      <td>2</td>\n",
              "      <td>4</td>\n",
              "      <td>다세대/연립</td>\n",
              "      <td>82.69</td>\n",
              "      <td>1</td>\n",
              "      <td>전세</td>\n",
              "      <td>34000</td>\n",
              "      <td>0</td>\n",
              "      <td>2015</td>\n",
              "      <td>20150623</td>\n",
              "      <td>1991</td>\n",
              "    </tr>\n",
              "    <tr>\n",
              "      <th>1</th>\n",
              "      <td>0000001111101010010056004130001360000005</td>\n",
              "      <td>2016</td>\n",
              "      <td>11110</td>\n",
              "      <td>종로구</td>\n",
              "      <td>10100</td>\n",
              "      <td>청운동</td>\n",
              "      <td>56</td>\n",
              "      <td>41</td>\n",
              "      <td>MJ하이빌</td>\n",
              "      <td>3</td>\n",
              "      <td>4</td>\n",
              "      <td>다세대/연립</td>\n",
              "      <td>75.00</td>\n",
              "      <td>1</td>\n",
              "      <td>전세</td>\n",
              "      <td>35000</td>\n",
              "      <td>0</td>\n",
              "      <td>2015</td>\n",
              "      <td>20150921</td>\n",
              "      <td>2007</td>\n",
              "    </tr>\n",
              "    <tr>\n",
              "      <th>2</th>\n",
              "      <td>0000002111101010010050001030001360000505</td>\n",
              "      <td>2015</td>\n",
              "      <td>11110</td>\n",
              "      <td>종로구</td>\n",
              "      <td>10100</td>\n",
              "      <td>청운동</td>\n",
              "      <td>50</td>\n",
              "      <td>10</td>\n",
              "      <td>글로리아파크</td>\n",
              "      <td>2</td>\n",
              "      <td>4</td>\n",
              "      <td>다세대/연립</td>\n",
              "      <td>79.14</td>\n",
              "      <td>1</td>\n",
              "      <td>전세</td>\n",
              "      <td>38000</td>\n",
              "      <td>0</td>\n",
              "      <td>2015</td>\n",
              "      <td>20150822</td>\n",
              "      <td>2002</td>\n",
              "    </tr>\n",
              "    <tr>\n",
              "      <th>3</th>\n",
              "      <td>0000003111101010010052001830001360000637</td>\n",
              "      <td>2015</td>\n",
              "      <td>11110</td>\n",
              "      <td>종로구</td>\n",
              "      <td>10100</td>\n",
              "      <td>청운동</td>\n",
              "      <td>52</td>\n",
              "      <td>18</td>\n",
              "      <td>귀빈하우스</td>\n",
              "      <td>2</td>\n",
              "      <td>4</td>\n",
              "      <td>다세대/연립</td>\n",
              "      <td>102.40</td>\n",
              "      <td>1</td>\n",
              "      <td>전세</td>\n",
              "      <td>43000</td>\n",
              "      <td>0</td>\n",
              "      <td>2015</td>\n",
              "      <td>20150902</td>\n",
              "      <td>2000</td>\n",
              "    </tr>\n",
              "    <tr>\n",
              "      <th>4</th>\n",
              "      <td>0000004111101010010052001830001360000129</td>\n",
              "      <td>2018</td>\n",
              "      <td>11110</td>\n",
              "      <td>종로구</td>\n",
              "      <td>10100</td>\n",
              "      <td>청운동</td>\n",
              "      <td>52</td>\n",
              "      <td>18</td>\n",
              "      <td>귀빈하우스</td>\n",
              "      <td>2</td>\n",
              "      <td>4</td>\n",
              "      <td>다세대/연립</td>\n",
              "      <td>102.40</td>\n",
              "      <td>1</td>\n",
              "      <td>전세</td>\n",
              "      <td>43000</td>\n",
              "      <td>0</td>\n",
              "      <td>2015</td>\n",
              "      <td>20150902</td>\n",
              "      <td>2000</td>\n",
              "    </tr>\n",
              "  </tbody>\n",
              "</table>\n",
              "</div>"
            ],
            "text/plain": [
              "                                        key  접수년도  자치구코드 자치구명  법정동코드 법정동명  본번  \\\n",
              "0  0000000111101010010074000130001360000457  2015  11110  종로구  10100  청운동  74   \n",
              "1  0000001111101010010056004130001360000005  2016  11110  종로구  10100  청운동  56   \n",
              "2  0000002111101010010050001030001360000505  2015  11110  종로구  10100  청운동  50   \n",
              "3  0000003111101010010052001830001360000637  2015  11110  종로구  10100  청운동  52   \n",
              "4  0000004111101010010052001830001360000129  2018  11110  종로구  10100  청운동  52   \n",
              "\n",
              "   부번     건물명  층  임대건물코드   임대건물명    임대면적  전월세구분코드 전월세구분    보증금  임대료  계약년도  \\\n",
              "0   1    우진빌딩  2       4  다세대/연립   82.69        1    전세  34000    0  2015   \n",
              "1  41   MJ하이빌  3       4  다세대/연립   75.00        1    전세  35000    0  2015   \n",
              "2  10  글로리아파크  2       4  다세대/연립   79.14        1    전세  38000    0  2015   \n",
              "3  18   귀빈하우스  2       4  다세대/연립  102.40        1    전세  43000    0  2015   \n",
              "4  18   귀빈하우스  2       4  다세대/연립  102.40        1    전세  43000    0  2015   \n",
              "\n",
              "       계약일자  건축년도  \n",
              "0  20150623  1991  \n",
              "1  20150921  2007  \n",
              "2  20150822  2002  \n",
              "3  20150902  2000  \n",
              "4  20150902  2000  "
            ]
          },
          "metadata": {
            "tags": []
          },
          "execution_count": 2
        }
      ]
    },
    {
      "cell_type": "code",
      "metadata": {
        "colab_type": "code",
        "id": "XkcqB2Dr33YP",
        "outputId": "879bc4f2-b6f1-4821-925c-f2bee1ead8d6",
        "colab": {
          "base_uri": "https://localhost:8080/",
          "height": 377
        }
      },
      "source": [
        "for col in data:\n",
        "    print(col , ':' ,  data[col].unique().size , '/' , data[col].size)"
      ],
      "execution_count": 0,
      "outputs": [
        {
          "output_type": "stream",
          "text": [
            "key : 2016400 / 2016400\n",
            "접수년도 : 10 / 2016400\n",
            "자치구코드 : 35 / 2016400\n",
            "자치구명 : 26 / 2016400\n",
            "법정동코드 : 84 / 2016400\n",
            "법정동명 : 407 / 2016400\n",
            "본번 : 1822 / 2016400\n",
            "부번 : 1330 / 2016400\n",
            "건물명 : 66330 / 2016400\n",
            "층 : 73 / 2016400\n",
            "임대건물코드 : 4 / 2016400\n",
            "임대건물명 : 4 / 2016400\n",
            "임대면적 : 17284 / 2016400\n",
            "전월세구분코드 : 1 / 2016400\n",
            "전월세구분 : 1 / 2016400\n",
            "보증금 : 5110 / 2016400\n",
            "임대료 : 4 / 2016400\n",
            "계약년도 : 13 / 2016400\n",
            "계약일자 : 3108 / 2016400\n",
            "건축년도 : 114 / 2016400\n"
          ],
          "name": "stdout"
        }
      ]
    },
    {
      "cell_type": "code",
      "metadata": {
        "colab_type": "code",
        "id": "kC1_nJVg8PH5",
        "colab": {}
      },
      "source": [
        "data ['key'] =data['key'].str.slice(0,26)"
      ],
      "execution_count": 0,
      "outputs": []
    },
    {
      "cell_type": "code",
      "metadata": {
        "colab_type": "code",
        "id": "vYFj9WRS8bwe",
        "outputId": "bceed742-2360-4b39-9510-90ab79ed38c4",
        "colab": {
          "base_uri": "https://localhost:8080/",
          "height": 683
        }
      },
      "source": [
        "data.head()"
      ],
      "execution_count": 0,
      "outputs": [
        {
          "output_type": "execute_result",
          "data": {
            "text/html": [
              "<div>\n",
              "<style scoped>\n",
              "    .dataframe tbody tr th:only-of-type {\n",
              "        vertical-align: middle;\n",
              "    }\n",
              "\n",
              "    .dataframe tbody tr th {\n",
              "        vertical-align: top;\n",
              "    }\n",
              "\n",
              "    .dataframe thead th {\n",
              "        text-align: right;\n",
              "    }\n",
              "</style>\n",
              "<table border=\"1\" class=\"dataframe\">\n",
              "  <thead>\n",
              "    <tr style=\"text-align: right;\">\n",
              "      <th></th>\n",
              "      <th>key</th>\n",
              "      <th>접수년도</th>\n",
              "      <th>자치구코드</th>\n",
              "      <th>자치구명</th>\n",
              "      <th>법정동코드</th>\n",
              "      <th>법정동명</th>\n",
              "      <th>본번</th>\n",
              "      <th>부번</th>\n",
              "      <th>건물명</th>\n",
              "      <th>층</th>\n",
              "      <th>임대건물코드</th>\n",
              "      <th>임대건물명</th>\n",
              "      <th>임대면적</th>\n",
              "      <th>전월세구분코드</th>\n",
              "      <th>전월세구분</th>\n",
              "      <th>보증금</th>\n",
              "      <th>임대료</th>\n",
              "      <th>계약년도</th>\n",
              "      <th>계약일자</th>\n",
              "      <th>건축년도</th>\n",
              "    </tr>\n",
              "  </thead>\n",
              "  <tbody>\n",
              "    <tr>\n",
              "      <th>0</th>\n",
              "      <td>00000001111010100100740001</td>\n",
              "      <td>2015</td>\n",
              "      <td>11110</td>\n",
              "      <td>종로구</td>\n",
              "      <td>10100</td>\n",
              "      <td>청운동</td>\n",
              "      <td>74</td>\n",
              "      <td>1</td>\n",
              "      <td>우진빌딩</td>\n",
              "      <td>2</td>\n",
              "      <td>4</td>\n",
              "      <td>다세대/연립</td>\n",
              "      <td>82.69</td>\n",
              "      <td>1</td>\n",
              "      <td>전세</td>\n",
              "      <td>34000</td>\n",
              "      <td>0</td>\n",
              "      <td>2015</td>\n",
              "      <td>20150623</td>\n",
              "      <td>1991</td>\n",
              "    </tr>\n",
              "    <tr>\n",
              "      <th>1</th>\n",
              "      <td>00000011111010100100560041</td>\n",
              "      <td>2016</td>\n",
              "      <td>11110</td>\n",
              "      <td>종로구</td>\n",
              "      <td>10100</td>\n",
              "      <td>청운동</td>\n",
              "      <td>56</td>\n",
              "      <td>41</td>\n",
              "      <td>MJ하이빌</td>\n",
              "      <td>3</td>\n",
              "      <td>4</td>\n",
              "      <td>다세대/연립</td>\n",
              "      <td>75.00</td>\n",
              "      <td>1</td>\n",
              "      <td>전세</td>\n",
              "      <td>35000</td>\n",
              "      <td>0</td>\n",
              "      <td>2015</td>\n",
              "      <td>20150921</td>\n",
              "      <td>2007</td>\n",
              "    </tr>\n",
              "    <tr>\n",
              "      <th>2</th>\n",
              "      <td>00000021111010100100500010</td>\n",
              "      <td>2015</td>\n",
              "      <td>11110</td>\n",
              "      <td>종로구</td>\n",
              "      <td>10100</td>\n",
              "      <td>청운동</td>\n",
              "      <td>50</td>\n",
              "      <td>10</td>\n",
              "      <td>글로리아파크</td>\n",
              "      <td>2</td>\n",
              "      <td>4</td>\n",
              "      <td>다세대/연립</td>\n",
              "      <td>79.14</td>\n",
              "      <td>1</td>\n",
              "      <td>전세</td>\n",
              "      <td>38000</td>\n",
              "      <td>0</td>\n",
              "      <td>2015</td>\n",
              "      <td>20150822</td>\n",
              "      <td>2002</td>\n",
              "    </tr>\n",
              "    <tr>\n",
              "      <th>3</th>\n",
              "      <td>00000031111010100100520018</td>\n",
              "      <td>2015</td>\n",
              "      <td>11110</td>\n",
              "      <td>종로구</td>\n",
              "      <td>10100</td>\n",
              "      <td>청운동</td>\n",
              "      <td>52</td>\n",
              "      <td>18</td>\n",
              "      <td>귀빈하우스</td>\n",
              "      <td>2</td>\n",
              "      <td>4</td>\n",
              "      <td>다세대/연립</td>\n",
              "      <td>102.40</td>\n",
              "      <td>1</td>\n",
              "      <td>전세</td>\n",
              "      <td>43000</td>\n",
              "      <td>0</td>\n",
              "      <td>2015</td>\n",
              "      <td>20150902</td>\n",
              "      <td>2000</td>\n",
              "    </tr>\n",
              "    <tr>\n",
              "      <th>4</th>\n",
              "      <td>00000041111010100100520018</td>\n",
              "      <td>2018</td>\n",
              "      <td>11110</td>\n",
              "      <td>종로구</td>\n",
              "      <td>10100</td>\n",
              "      <td>청운동</td>\n",
              "      <td>52</td>\n",
              "      <td>18</td>\n",
              "      <td>귀빈하우스</td>\n",
              "      <td>2</td>\n",
              "      <td>4</td>\n",
              "      <td>다세대/연립</td>\n",
              "      <td>102.40</td>\n",
              "      <td>1</td>\n",
              "      <td>전세</td>\n",
              "      <td>43000</td>\n",
              "      <td>0</td>\n",
              "      <td>2015</td>\n",
              "      <td>20150902</td>\n",
              "      <td>2000</td>\n",
              "    </tr>\n",
              "  </tbody>\n",
              "</table>\n",
              "</div>"
            ],
            "text/plain": [
              "                          key  접수년도  자치구코드 자치구명  법정동코드 법정동명  본번  부번     건물명  \\\n",
              "0  00000001111010100100740001  2015  11110  종로구  10100  청운동  74   1    우진빌딩   \n",
              "1  00000011111010100100560041  2016  11110  종로구  10100  청운동  56  41   MJ하이빌   \n",
              "2  00000021111010100100500010  2015  11110  종로구  10100  청운동  50  10  글로리아파크   \n",
              "3  00000031111010100100520018  2015  11110  종로구  10100  청운동  52  18   귀빈하우스   \n",
              "4  00000041111010100100520018  2018  11110  종로구  10100  청운동  52  18   귀빈하우스   \n",
              "\n",
              "   층  임대건물코드   임대건물명    임대면적  전월세구분코드 전월세구분    보증금  임대료  계약년도      계약일자  건축년도  \n",
              "0  2       4  다세대/연립   82.69        1    전세  34000    0  2015  20150623  1991  \n",
              "1  3       4  다세대/연립   75.00        1    전세  35000    0  2015  20150921  2007  \n",
              "2  2       4  다세대/연립   79.14        1    전세  38000    0  2015  20150822  2002  \n",
              "3  2       4  다세대/연립  102.40        1    전세  43000    0  2015  20150902  2000  \n",
              "4  2       4  다세대/연립  102.40        1    전세  43000    0  2015  20150902  2000  "
            ]
          },
          "metadata": {
            "tags": []
          },
          "execution_count": 5
        }
      ]
    },
    {
      "cell_type": "code",
      "metadata": {
        "colab_type": "code",
        "id": "lPV7FmozxcqA",
        "colab": {}
      },
      "source": [
        "new_data = data[['key','접수년도','자치구코드','법정동코드','본번','부번','층','임대면적','계약년도','계약일자','건축년도','보증금']]"
      ],
      "execution_count": 0,
      "outputs": []
    },
    {
      "cell_type": "code",
      "metadata": {
        "colab_type": "code",
        "id": "4IH5Iek58hoF",
        "colab": {},
        "outputId": "1f52c241-1f48-4f26-95c7-4874571d9ed9"
      },
      "source": [
        "new_data.info()"
      ],
      "execution_count": 0,
      "outputs": [
        {
          "output_type": "stream",
          "text": [
            "<class 'pandas.core.frame.DataFrame'>\n",
            "RangeIndex: 2016400 entries, 0 to 2016399\n",
            "Data columns (total 12 columns):\n",
            "key      object\n",
            "접수년도     int64\n",
            "자치구코드    int64\n",
            "법정동코드    int64\n",
            "본번       int64\n",
            "부번       int64\n",
            "층        int64\n",
            "임대면적     float64\n",
            "계약년도     int64\n",
            "계약일자     int64\n",
            "건축년도     int64\n",
            "보증금      int64\n",
            "dtypes: float64(1), int64(10), object(1)\n",
            "memory usage: 184.6+ MB\n"
          ],
          "name": "stdout"
        }
      ]
    },
    {
      "cell_type": "code",
      "metadata": {
        "id": "973wbiguu2Gk",
        "colab_type": "code",
        "colab": {},
        "outputId": "3d81d64d-cb01-44ef-8687-b970a83d886a"
      },
      "source": [
        "new_data['임대면적'].fillna(0.0, inplace = True)"
      ],
      "execution_count": 0,
      "outputs": [
        {
          "output_type": "stream",
          "text": [
            "C:\\Users\\Yeonjoo\\Anaconda3\\lib\\site-packages\\pandas\\core\\generic.py:6287: SettingWithCopyWarning: \n",
            "A value is trying to be set on a copy of a slice from a DataFrame\n",
            "\n",
            "See the caveats in the documentation: http://pandas.pydata.org/pandas-docs/stable/user_guide/indexing.html#returning-a-view-versus-a-copy\n",
            "  self._update_inplace(new_data)\n"
          ],
          "name": "stderr"
        }
      ]
    },
    {
      "cell_type": "code",
      "metadata": {
        "id": "lqmhaDtOu2Go",
        "colab_type": "code",
        "colab": {},
        "outputId": "f84e355a-eaae-43d2-b1f0-dbf086fb8923"
      },
      "source": [
        "new_data.corr()"
      ],
      "execution_count": 0,
      "outputs": [
        {
          "output_type": "execute_result",
          "data": {
            "text/html": [
              "<div>\n",
              "<style scoped>\n",
              "    .dataframe tbody tr th:only-of-type {\n",
              "        vertical-align: middle;\n",
              "    }\n",
              "\n",
              "    .dataframe tbody tr th {\n",
              "        vertical-align: top;\n",
              "    }\n",
              "\n",
              "    .dataframe thead th {\n",
              "        text-align: right;\n",
              "    }\n",
              "</style>\n",
              "<table border=\"1\" class=\"dataframe\">\n",
              "  <thead>\n",
              "    <tr style=\"text-align: right;\">\n",
              "      <th></th>\n",
              "      <th>접수년도</th>\n",
              "      <th>자치구코드</th>\n",
              "      <th>법정동코드</th>\n",
              "      <th>본번</th>\n",
              "      <th>부번</th>\n",
              "      <th>층</th>\n",
              "      <th>임대면적</th>\n",
              "      <th>계약년도</th>\n",
              "      <th>계약일자</th>\n",
              "      <th>건축년도</th>\n",
              "      <th>보증금</th>\n",
              "    </tr>\n",
              "  </thead>\n",
              "  <tbody>\n",
              "    <tr>\n",
              "      <th>접수년도</th>\n",
              "      <td>1.000000</td>\n",
              "      <td>0.008234</td>\n",
              "      <td>-0.008358</td>\n",
              "      <td>0.007448</td>\n",
              "      <td>-0.003899</td>\n",
              "      <td>0.010309</td>\n",
              "      <td>-0.097084</td>\n",
              "      <td>0.983712</td>\n",
              "      <td>0.984189</td>\n",
              "      <td>0.042789</td>\n",
              "      <td>0.207444</td>\n",
              "    </tr>\n",
              "    <tr>\n",
              "      <th>자치구코드</th>\n",
              "      <td>0.008234</td>\n",
              "      <td>1.000000</td>\n",
              "      <td>-0.288679</td>\n",
              "      <td>0.051905</td>\n",
              "      <td>-0.061624</td>\n",
              "      <td>0.054705</td>\n",
              "      <td>0.057210</td>\n",
              "      <td>0.010030</td>\n",
              "      <td>0.010159</td>\n",
              "      <td>0.021912</td>\n",
              "      <td>0.174271</td>\n",
              "    </tr>\n",
              "    <tr>\n",
              "      <th>법정동코드</th>\n",
              "      <td>-0.008358</td>\n",
              "      <td>-0.288679</td>\n",
              "      <td>1.000000</td>\n",
              "      <td>-0.002203</td>\n",
              "      <td>0.044466</td>\n",
              "      <td>0.000954</td>\n",
              "      <td>0.021021</td>\n",
              "      <td>-0.008394</td>\n",
              "      <td>-0.008412</td>\n",
              "      <td>-0.025975</td>\n",
              "      <td>0.004308</td>\n",
              "    </tr>\n",
              "    <tr>\n",
              "      <th>본번</th>\n",
              "      <td>0.007448</td>\n",
              "      <td>0.051905</td>\n",
              "      <td>-0.002203</td>\n",
              "      <td>1.000000</td>\n",
              "      <td>-0.004772</td>\n",
              "      <td>0.321061</td>\n",
              "      <td>0.174228</td>\n",
              "      <td>0.012052</td>\n",
              "      <td>0.012166</td>\n",
              "      <td>0.113566</td>\n",
              "      <td>0.236000</td>\n",
              "    </tr>\n",
              "    <tr>\n",
              "      <th>부번</th>\n",
              "      <td>-0.003899</td>\n",
              "      <td>-0.061624</td>\n",
              "      <td>0.044466</td>\n",
              "      <td>-0.004772</td>\n",
              "      <td>1.000000</td>\n",
              "      <td>-0.052086</td>\n",
              "      <td>-0.055911</td>\n",
              "      <td>-0.002120</td>\n",
              "      <td>-0.002184</td>\n",
              "      <td>0.025551</td>\n",
              "      <td>-0.061915</td>\n",
              "    </tr>\n",
              "    <tr>\n",
              "      <th>층</th>\n",
              "      <td>0.010309</td>\n",
              "      <td>0.054705</td>\n",
              "      <td>0.000954</td>\n",
              "      <td>0.321061</td>\n",
              "      <td>-0.052086</td>\n",
              "      <td>1.000000</td>\n",
              "      <td>0.335672</td>\n",
              "      <td>0.015295</td>\n",
              "      <td>0.015558</td>\n",
              "      <td>0.126775</td>\n",
              "      <td>0.494951</td>\n",
              "    </tr>\n",
              "    <tr>\n",
              "      <th>임대면적</th>\n",
              "      <td>-0.097084</td>\n",
              "      <td>0.057210</td>\n",
              "      <td>0.021021</td>\n",
              "      <td>0.174228</td>\n",
              "      <td>-0.055911</td>\n",
              "      <td>0.335672</td>\n",
              "      <td>1.000000</td>\n",
              "      <td>-0.098572</td>\n",
              "      <td>-0.098382</td>\n",
              "      <td>0.066422</td>\n",
              "      <td>0.666600</td>\n",
              "    </tr>\n",
              "    <tr>\n",
              "      <th>계약년도</th>\n",
              "      <td>0.983712</td>\n",
              "      <td>0.010030</td>\n",
              "      <td>-0.008394</td>\n",
              "      <td>0.012052</td>\n",
              "      <td>-0.002120</td>\n",
              "      <td>0.015295</td>\n",
              "      <td>-0.098572</td>\n",
              "      <td>1.000000</td>\n",
              "      <td>0.999902</td>\n",
              "      <td>0.044472</td>\n",
              "      <td>0.210271</td>\n",
              "    </tr>\n",
              "    <tr>\n",
              "      <th>계약일자</th>\n",
              "      <td>0.984189</td>\n",
              "      <td>0.010159</td>\n",
              "      <td>-0.008412</td>\n",
              "      <td>0.012166</td>\n",
              "      <td>-0.002184</td>\n",
              "      <td>0.015558</td>\n",
              "      <td>-0.098382</td>\n",
              "      <td>0.999902</td>\n",
              "      <td>1.000000</td>\n",
              "      <td>0.044540</td>\n",
              "      <td>0.211035</td>\n",
              "    </tr>\n",
              "    <tr>\n",
              "      <th>건축년도</th>\n",
              "      <td>0.042789</td>\n",
              "      <td>0.021912</td>\n",
              "      <td>-0.025975</td>\n",
              "      <td>0.113566</td>\n",
              "      <td>0.025551</td>\n",
              "      <td>0.126775</td>\n",
              "      <td>0.066422</td>\n",
              "      <td>0.044472</td>\n",
              "      <td>0.044540</td>\n",
              "      <td>1.000000</td>\n",
              "      <td>0.108537</td>\n",
              "    </tr>\n",
              "    <tr>\n",
              "      <th>보증금</th>\n",
              "      <td>0.207444</td>\n",
              "      <td>0.174271</td>\n",
              "      <td>0.004308</td>\n",
              "      <td>0.236000</td>\n",
              "      <td>-0.061915</td>\n",
              "      <td>0.494951</td>\n",
              "      <td>0.666600</td>\n",
              "      <td>0.210271</td>\n",
              "      <td>0.211035</td>\n",
              "      <td>0.108537</td>\n",
              "      <td>1.000000</td>\n",
              "    </tr>\n",
              "  </tbody>\n",
              "</table>\n",
              "</div>"
            ],
            "text/plain": [
              "           접수년도     자치구코드     법정동코드        본번        부번         층      임대면적  \\\n",
              "접수년도   1.000000  0.008234 -0.008358  0.007448 -0.003899  0.010309 -0.097084   \n",
              "자치구코드  0.008234  1.000000 -0.288679  0.051905 -0.061624  0.054705  0.057210   \n",
              "법정동코드 -0.008358 -0.288679  1.000000 -0.002203  0.044466  0.000954  0.021021   \n",
              "본번     0.007448  0.051905 -0.002203  1.000000 -0.004772  0.321061  0.174228   \n",
              "부번    -0.003899 -0.061624  0.044466 -0.004772  1.000000 -0.052086 -0.055911   \n",
              "층      0.010309  0.054705  0.000954  0.321061 -0.052086  1.000000  0.335672   \n",
              "임대면적  -0.097084  0.057210  0.021021  0.174228 -0.055911  0.335672  1.000000   \n",
              "계약년도   0.983712  0.010030 -0.008394  0.012052 -0.002120  0.015295 -0.098572   \n",
              "계약일자   0.984189  0.010159 -0.008412  0.012166 -0.002184  0.015558 -0.098382   \n",
              "건축년도   0.042789  0.021912 -0.025975  0.113566  0.025551  0.126775  0.066422   \n",
              "보증금    0.207444  0.174271  0.004308  0.236000 -0.061915  0.494951  0.666600   \n",
              "\n",
              "           계약년도      계약일자      건축년도       보증금  \n",
              "접수년도   0.983712  0.984189  0.042789  0.207444  \n",
              "자치구코드  0.010030  0.010159  0.021912  0.174271  \n",
              "법정동코드 -0.008394 -0.008412 -0.025975  0.004308  \n",
              "본번     0.012052  0.012166  0.113566  0.236000  \n",
              "부번    -0.002120 -0.002184  0.025551 -0.061915  \n",
              "층      0.015295  0.015558  0.126775  0.494951  \n",
              "임대면적  -0.098572 -0.098382  0.066422  0.666600  \n",
              "계약년도   1.000000  0.999902  0.044472  0.210271  \n",
              "계약일자   0.999902  1.000000  0.044540  0.211035  \n",
              "건축년도   0.044472  0.044540  1.000000  0.108537  \n",
              "보증금    0.210271  0.211035  0.108537  1.000000  "
            ]
          },
          "metadata": {
            "tags": []
          },
          "execution_count": 47
        }
      ]
    },
    {
      "cell_type": "code",
      "metadata": {
        "id": "yKn_r-2Iu2Gs",
        "colab_type": "code",
        "colab": {}
      },
      "source": [
        "import numpy as np\n",
        "import seaborn as sns\n",
        "from mpl_toolkits import mplot3d\n",
        "from scipy import stats\n",
        "%matplotlib inline\n",
        "plt.style.use('classic')\n",
        "\n",
        "import matplotlib.font_manager as fm\n",
        "fontpath = '/usr/share/fonts/truetype/nanum/NanumBarunGothic.ttf'\n",
        "font = fm.FontProperties(fname=fontpath, size=9)\n",
        "plt.rc('font', family='NanumBarunGothic') \n"
      ],
      "execution_count": 0,
      "outputs": []
    },
    {
      "cell_type": "code",
      "metadata": {
        "id": "ZFGJbfiCu2Gw",
        "colab_type": "code",
        "colab": {},
        "outputId": "f246acc5-cc7d-44ca-eeaf-11eaa17b9a31"
      },
      "source": [
        "plt.scatter(new_data['임대면적'], new_data['보증금'], alpha=0.4)\n",
        "plt.show()"
      ],
      "execution_count": 0,
      "outputs": [
        {
          "output_type": "display_data",
          "data": {
            "image/png": "[encoded data removed]",
            "text/plain": [
              "<Figure size 640x480 with 1 Axes>"
            ]
          },
          "metadata": {
            "tags": []
          }
        }
      ]
    },
    {
      "cell_type": "code",
      "metadata": {
        "id": "UOEUCQE9u2G0",
        "colab_type": "code",
        "colab": {}
      },
      "source": [
        ""
      ],
      "execution_count": 0,
      "outputs": []
    },
    {
      "cell_type": "code",
      "metadata": {
        "colab_type": "code",
        "id": "9gl8hZs5-u4r",
        "colab": {}
      },
      "source": [
        "# 다중선형회귀모델\n",
        "http://hleecaster.com/ml-multiple-linear-regression-example/\n"
      ],
      "execution_count": 0,
      "outputs": []
    },
    {
      "cell_type": "code",
      "metadata": {
        "id": "TbXi7Sviu2G7",
        "colab_type": "code",
        "colab": {}
      },
      "source": [
        "from sklearn.model_selection import train_test_splity_predicted = mlr.predict(x_test)\n",
        "x = new_data.iloc[:,1:-1]\n",
        "y = new_data['보증금']\n",
        "x_train, x_test, y_train, y_test = train_test_split(x, y, train_size=0.8, test_size=0.2)"
      ],
      "execution_count": 0,
      "outputs": []
    },
    {
      "cell_type": "code",
      "metadata": {
        "id": "qZ33SJ1eu2G_",
        "colab_type": "code",
        "colab": {},
        "outputId": "3138d361-0567-4973-b934-4827d0730d2c"
      },
      "source": [
        "from sklearn.linear_model import LinearRegression\n",
        "mlr = LinearRegression()\n",
        "mlr.fit(x_train, y_train) "
      ],
      "execution_count": 0,
      "outputs": [
        {
          "output_type": "execute_result",
          "data": {
            "text/plain": [
              "LinearRegression(copy_X=True, fit_intercept=True, n_jobs=None, normalize=False)"
            ]
          },
          "metadata": {
            "tags": []
          },
          "execution_count": 23
        }
      ]
    },
    {
      "cell_type": "code",
      "metadata": {
        "id": "fp2YFaxpu2HC",
        "colab_type": "code",
        "colab": {}
      },
      "source": [
        "y_predicted = mlr.predict(x_test)"
      ],
      "execution_count": 0,
      "outputs": []
    },
    {
      "cell_type": "code",
      "metadata": {
        "id": "fFHljSmPu2HI",
        "colab_type": "code",
        "colab": {},
        "outputId": "47e76066-5323-4bae-90d0-1e759a1c5a2e"
      },
      "source": [
        "import matplotlib.pyplot as plt\n",
        "plt.scatter(y_test, y_predicted, alpha=0.4)\n",
        "plt.xlabel(\"Actual Rent\")\n",
        "plt.ylabel(\"Predicted Rent\")\n",
        "plt.title(\"MULTIPLE LINEAR REGRESSION\")\n",
        "plt.show()"
      ],
      "execution_count": 0,
      "outputs": [
        {
          "output_type": "stream",
          "text": [
            "findfont: Font family ['NanumBarunGothic'] not found. Falling back to DejaVu Sans.\n"
          ],
          "name": "stderr"
        },
        {
          "output_type": "display_data",
          "data": {
            "image/png": "[encoded data removed]",
            "text/plain": [
              "<Figure size 640x480 with 1 Axes>"
            ]
          },
          "metadata": {
            "tags": []
          }
        }
      ]
    },
    {
      "cell_type": "code",
      "metadata": {
        "id": "BFH_0K-ku2HL",
        "colab_type": "code",
        "colab": {},
        "outputId": "a32d430d-4383-45ac-a855-c0c4b453ff78"
      },
      "source": [
        "((y_test - y_predicted) ** 2).sum()\n"
      ],
      "execution_count": 0,
      "outputs": [
        {
          "output_type": "execute_result",
          "data": {
            "text/plain": [
              "52607300831987.34"
            ]
          },
          "metadata": {
            "tags": []
          },
          "execution_count": 32
        }
      ]
    },
    {
      "cell_type": "code",
      "metadata": {
        "id": "wwb3a6O7u2HP",
        "colab_type": "code",
        "colab": {},
        "outputId": "5b32f239-8234-4a08-bce4-7d7ba6b0d321"
      },
      "source": [
        "((y_test - y.mean()) ** 2).sum()"
      ],
      "execution_count": 0,
      "outputs": [
        {
          "output_type": "execute_result",
          "data": {
            "text/plain": [
              "136816820047610.4"
            ]
          },
          "metadata": {
            "tags": []
          },
          "execution_count": 33
        }
      ]
    },
    {
      "cell_type": "code",
      "metadata": {
        "id": "nQvnPC19u2HS",
        "colab_type": "code",
        "colab": {},
        "outputId": "cc62b82e-bfee-43e6-d26f-005509feccf5"
      },
      "source": [
        "print(mlr.score(x_train, y_train))"
      ],
      "execution_count": 0,
      "outputs": [
        {
          "output_type": "stream",
          "text": [
            "0.615324025467195\n"
          ],
          "name": "stdout"
        }
      ]
    },
    {
      "cell_type": "code",
      "metadata": {
        "id": "fR1sTtmuu2HV",
        "colab_type": "code",
        "colab": {}
      },
      "source": [
        ""
      ],
      "execution_count": 0,
      "outputs": []
    }
  ]
}