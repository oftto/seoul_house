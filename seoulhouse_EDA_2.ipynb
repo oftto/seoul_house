{
  "nbformat": 4,
  "nbformat_minor": 0,
  "metadata": {
    "colab": {
      "name": "seoulhouse_EDA_2.ipynb",
      "provenance": [],
      "include_colab_link": true
    },
    "kernelspec": {
      "display_name": "Python 3",
      "language": "python",
      "name": "python3"
    },
    "language_info": {
      "codemirror_mode": {
        "name": "ipython",
        "version": 3
      },
      "file_extension": ".py",
      "mimetype": "text/x-python",
      "name": "python",
      "nbconvert_exporter": "python",
      "pygments_lexer": "ipython3",
      "version": "3.6.5"
    }
  },
  "cells": [
    {
      "cell_type": "markdown",
      "metadata": {
        "id": "view-in-github",
        "colab_type": "text"
      },
      "source": [
        "<a href=\"https://colab.research.google.com/github/oftto/seoul_house/blob/master/seoulhouse_EDA_2.ipynb\" target=\"_parent\"><img src=\"https://colab.research.google.com/assets/colab-badge.svg\" alt=\"Open In Colab\"/></a>"
      ]
    },
    {
      "cell_type": "code",
      "metadata": {
        "colab_type": "code",
        "id": "w_SfQ2ZU25To",
        "outputId": "d45ecda3-36a9-45d6-91a5-09c7071f00bf",
        "colab": {
          "base_uri": "https://localhost:8080/",
          "height": 127
        }
      },
      "source": [
        "from google.colab import auth\n",
        "auth.authenticate_user()\n",
        "\n",
        "from google.colab import drive\n",
        "drive.mount('/content/gdrive')"
      ],
      "execution_count": 2,
      "outputs": [
        {
          "output_type": "stream",
          "text": [
            "Go to this URL in a browser: https://accounts.google.com/o/oauth2/auth?client_id=947318989803-6bn6qk8qdgf4n4g3pfee6491hc0brc4i.apps.googleusercontent.com&redirect_uri=urn%3aietf%3awg%3aoauth%3a2.0%3aoob&response_type=code&scope=email%20https%3a%2f%2fwww.googleapis.com%2fauth%2fdocs.test%20https%3a%2f%2fwww.googleapis.com%2fauth%2fdrive%20https%3a%2f%2fwww.googleapis.com%2fauth%2fdrive.photos.readonly%20https%3a%2f%2fwww.googleapis.com%2fauth%2fpeopleapi.readonly\n",
            "\n",
            "Enter your authorization code:\n",
            "··········\n",
            "Mounted at /content/gdrive\n"
          ],
          "name": "stdout"
        }
      ]
    },
    {
      "cell_type": "code",
      "metadata": {
        "colab_type": "code",
        "id": "BQyBXn6_3JGM",
        "colab": {}
      },
      "source": [
        "import pandas as pd\n",
        "data = pd.read_csv(\"./gdrive/My Drive/Colab/final_set_seoul_house_200701_201906.csv\" , encoding = 'utf-8')"
      ],
      "execution_count": 0,
      "outputs": []
    },
    {
      "cell_type": "code",
      "metadata": {
        "id": "k1YftfR0vfrN",
        "colab_type": "code",
        "colab": {}
      },
      "source": [
        ""
      ],
      "execution_count": 0,
      "outputs": []
    },
    {
      "cell_type": "code",
      "metadata": {
        "id": "POzxvUHgvNqn",
        "colab_type": "code",
        "colab": {}
      },
      "source": [
        ""
      ],
      "execution_count": 0,
      "outputs": []
    },
    {
      "cell_type": "code",
      "metadata": {
        "colab_type": "code",
        "id": "e9we2Xvy3qj7",
        "outputId": "42a024ee-ea5a-4449-a750-353c028d4a0c",
        "colab": {
          "base_uri": "https://localhost:8080/",
          "height": 204
        }
      },
      "source": [
        "data.head()"
      ],
      "execution_count": 4,
      "outputs": [
        {
          "output_type": "execute_result",
          "data": {
            "text/html": [
              "<div>\n",
              "<style scoped>\n",
              "    .dataframe tbody tr th:only-of-type {\n",
              "        vertical-align: middle;\n",
              "    }\n",
              "\n",
              "    .dataframe tbody tr th {\n",
              "        vertical-align: top;\n",
              "    }\n",
              "\n",
              "    .dataframe thead th {\n",
              "        text-align: right;\n",
              "    }\n",
              "</style>\n",
              "<table border=\"1\" class=\"dataframe\">\n",
              "  <thead>\n",
              "    <tr style=\"text-align: right;\">\n",
              "      <th></th>\n",
              "      <th>key</th>\n",
              "      <th>접수년도</th>\n",
              "      <th>자치구코드</th>\n",
              "      <th>자치구명</th>\n",
              "      <th>법정동코드</th>\n",
              "      <th>법정동명</th>\n",
              "      <th>본번</th>\n",
              "      <th>부번</th>\n",
              "      <th>건물명</th>\n",
              "      <th>층</th>\n",
              "      <th>임대건물코드</th>\n",
              "      <th>임대건물명</th>\n",
              "      <th>임대면적</th>\n",
              "      <th>전월세구분코드</th>\n",
              "      <th>전월세구분</th>\n",
              "      <th>보증금</th>\n",
              "      <th>임대료</th>\n",
              "      <th>계약년도</th>\n",
              "      <th>계약일자</th>\n",
              "      <th>건축년도</th>\n",
              "    </tr>\n",
              "  </thead>\n",
              "  <tbody>\n",
              "    <tr>\n",
              "      <th>0</th>\n",
              "      <td>0000000111101010010074000130001360000457</td>\n",
              "      <td>2015</td>\n",
              "      <td>11110</td>\n",
              "      <td>종로구</td>\n",
              "      <td>10100</td>\n",
              "      <td>청운동</td>\n",
              "      <td>74</td>\n",
              "      <td>1</td>\n",
              "      <td>우진빌딩</td>\n",
              "      <td>2</td>\n",
              "      <td>4</td>\n",
              "      <td>다세대/연립</td>\n",
              "      <td>82.69</td>\n",
              "      <td>1</td>\n",
              "      <td>전세</td>\n",
              "      <td>34000</td>\n",
              "      <td>0</td>\n",
              "      <td>2015</td>\n",
              "      <td>20150623</td>\n",
              "      <td>1991</td>\n",
              "    </tr>\n",
              "    <tr>\n",
              "      <th>1</th>\n",
              "      <td>0000001111101010010056004130001360000005</td>\n",
              "      <td>2016</td>\n",
              "      <td>11110</td>\n",
              "      <td>종로구</td>\n",
              "      <td>10100</td>\n",
              "      <td>청운동</td>\n",
              "      <td>56</td>\n",
              "      <td>41</td>\n",
              "      <td>MJ하이빌</td>\n",
              "      <td>3</td>\n",
              "      <td>4</td>\n",
              "      <td>다세대/연립</td>\n",
              "      <td>75.00</td>\n",
              "      <td>1</td>\n",
              "      <td>전세</td>\n",
              "      <td>35000</td>\n",
              "      <td>0</td>\n",
              "      <td>2015</td>\n",
              "      <td>20150921</td>\n",
              "      <td>2007</td>\n",
              "    </tr>\n",
              "    <tr>\n",
              "      <th>2</th>\n",
              "      <td>0000002111101010010050001030001360000505</td>\n",
              "      <td>2015</td>\n",
              "      <td>11110</td>\n",
              "      <td>종로구</td>\n",
              "      <td>10100</td>\n",
              "      <td>청운동</td>\n",
              "      <td>50</td>\n",
              "      <td>10</td>\n",
              "      <td>글로리아파크</td>\n",
              "      <td>2</td>\n",
              "      <td>4</td>\n",
              "      <td>다세대/연립</td>\n",
              "      <td>79.14</td>\n",
              "      <td>1</td>\n",
              "      <td>전세</td>\n",
              "      <td>38000</td>\n",
              "      <td>0</td>\n",
              "      <td>2015</td>\n",
              "      <td>20150822</td>\n",
              "      <td>2002</td>\n",
              "    </tr>\n",
              "    <tr>\n",
              "      <th>3</th>\n",
              "      <td>0000003111101010010052001830001360000637</td>\n",
              "      <td>2015</td>\n",
              "      <td>11110</td>\n",
              "      <td>종로구</td>\n",
              "      <td>10100</td>\n",
              "      <td>청운동</td>\n",
              "      <td>52</td>\n",
              "      <td>18</td>\n",
              "      <td>귀빈하우스</td>\n",
              "      <td>2</td>\n",
              "      <td>4</td>\n",
              "      <td>다세대/연립</td>\n",
              "      <td>102.40</td>\n",
              "      <td>1</td>\n",
              "      <td>전세</td>\n",
              "      <td>43000</td>\n",
              "      <td>0</td>\n",
              "      <td>2015</td>\n",
              "      <td>20150902</td>\n",
              "      <td>2000</td>\n",
              "    </tr>\n",
              "    <tr>\n",
              "      <th>4</th>\n",
              "      <td>0000004111101010010052001830001360000129</td>\n",
              "      <td>2018</td>\n",
              "      <td>11110</td>\n",
              "      <td>종로구</td>\n",
              "      <td>10100</td>\n",
              "      <td>청운동</td>\n",
              "      <td>52</td>\n",
              "      <td>18</td>\n",
              "      <td>귀빈하우스</td>\n",
              "      <td>2</td>\n",
              "      <td>4</td>\n",
              "      <td>다세대/연립</td>\n",
              "      <td>102.40</td>\n",
              "      <td>1</td>\n",
              "      <td>전세</td>\n",
              "      <td>43000</td>\n",
              "      <td>0</td>\n",
              "      <td>2015</td>\n",
              "      <td>20150902</td>\n",
              "      <td>2000</td>\n",
              "    </tr>\n",
              "  </tbody>\n",
              "</table>\n",
              "</div>"
            ],
            "text/plain": [
              "                                        key  접수년도  자치구코드  ...  계약년도      계약일자  건축년도\n",
              "0  0000000111101010010074000130001360000457  2015  11110  ...  2015  20150623  1991\n",
              "1  0000001111101010010056004130001360000005  2016  11110  ...  2015  20150921  2007\n",
              "2  0000002111101010010050001030001360000505  2015  11110  ...  2015  20150822  2002\n",
              "3  0000003111101010010052001830001360000637  2015  11110  ...  2015  20150902  2000\n",
              "4  0000004111101010010052001830001360000129  2018  11110  ...  2015  20150902  2000\n",
              "\n",
              "[5 rows x 20 columns]"
            ]
          },
          "metadata": {
            "tags": []
          },
          "execution_count": 4
        }
      ]
    },
    {
      "cell_type": "code",
      "metadata": {
        "colab_type": "code",
        "id": "XkcqB2Dr33YP",
        "outputId": "2c625121-2791-4c5f-9251-022a8817ebe1",
        "colab": {
          "base_uri": "https://localhost:8080/",
          "height": 377
        }
      },
      "source": [
        "for col in data:\n",
        "    print(col , ':' ,  data[col].unique().size , '/' , data[col].size)"
      ],
      "execution_count": 8,
      "outputs": [
        {
          "output_type": "stream",
          "text": [
            "key : 2016400 / 2016400\n",
            "접수년도 : 10 / 2016400\n",
            "자치구코드 : 35 / 2016400\n",
            "자치구명 : 26 / 2016400\n",
            "법정동코드 : 84 / 2016400\n",
            "법정동명 : 407 / 2016400\n",
            "본번 : 1822 / 2016400\n",
            "부번 : 1330 / 2016400\n",
            "건물명 : 66330 / 2016400\n",
            "층 : 73 / 2016400\n",
            "임대건물코드 : 4 / 2016400\n",
            "임대건물명 : 4 / 2016400\n",
            "임대면적 : 17284 / 2016400\n",
            "전월세구분코드 : 1 / 2016400\n",
            "전월세구분 : 1 / 2016400\n",
            "보증금 : 5110 / 2016400\n",
            "임대료 : 4 / 2016400\n",
            "계약년도 : 13 / 2016400\n",
            "계약일자 : 3108 / 2016400\n",
            "건축년도 : 114 / 2016400\n"
          ],
          "name": "stdout"
        }
      ]
    },
    {
      "cell_type": "code",
      "metadata": {
        "colab_type": "code",
        "id": "kC1_nJVg8PH5",
        "colab": {}
      },
      "source": [
        "data ['key'] =data['key'].str.slice(0,26)"
      ],
      "execution_count": 0,
      "outputs": []
    },
    {
      "cell_type": "code",
      "metadata": {
        "colab_type": "code",
        "id": "vYFj9WRS8bwe",
        "outputId": "d98bddf4-f174-42c5-fbce-2498b4e3c1f7",
        "colab": {
          "base_uri": "https://localhost:8080/",
          "height": 204
        }
      },
      "source": [
        "data.head()"
      ],
      "execution_count": 6,
      "outputs": [
        {
          "output_type": "execute_result",
          "data": {
            "text/html": [
              "<div>\n",
              "<style scoped>\n",
              "    .dataframe tbody tr th:only-of-type {\n",
              "        vertical-align: middle;\n",
              "    }\n",
              "\n",
              "    .dataframe tbody tr th {\n",
              "        vertical-align: top;\n",
              "    }\n",
              "\n",
              "    .dataframe thead th {\n",
              "        text-align: right;\n",
              "    }\n",
              "</style>\n",
              "<table border=\"1\" class=\"dataframe\">\n",
              "  <thead>\n",
              "    <tr style=\"text-align: right;\">\n",
              "      <th></th>\n",
              "      <th>key</th>\n",
              "      <th>접수년도</th>\n",
              "      <th>자치구코드</th>\n",
              "      <th>자치구명</th>\n",
              "      <th>법정동코드</th>\n",
              "      <th>법정동명</th>\n",
              "      <th>본번</th>\n",
              "      <th>부번</th>\n",
              "      <th>건물명</th>\n",
              "      <th>층</th>\n",
              "      <th>임대건물코드</th>\n",
              "      <th>임대건물명</th>\n",
              "      <th>임대면적</th>\n",
              "      <th>전월세구분코드</th>\n",
              "      <th>전월세구분</th>\n",
              "      <th>보증금</th>\n",
              "      <th>임대료</th>\n",
              "      <th>계약년도</th>\n",
              "      <th>계약일자</th>\n",
              "      <th>건축년도</th>\n",
              "    </tr>\n",
              "  </thead>\n",
              "  <tbody>\n",
              "    <tr>\n",
              "      <th>0</th>\n",
              "      <td>00000001111010100100740001</td>\n",
              "      <td>2015</td>\n",
              "      <td>11110</td>\n",
              "      <td>종로구</td>\n",
              "      <td>10100</td>\n",
              "      <td>청운동</td>\n",
              "      <td>74</td>\n",
              "      <td>1</td>\n",
              "      <td>우진빌딩</td>\n",
              "      <td>2</td>\n",
              "      <td>4</td>\n",
              "      <td>다세대/연립</td>\n",
              "      <td>82.69</td>\n",
              "      <td>1</td>\n",
              "      <td>전세</td>\n",
              "      <td>34000</td>\n",
              "      <td>0</td>\n",
              "      <td>2015</td>\n",
              "      <td>20150623</td>\n",
              "      <td>1991</td>\n",
              "    </tr>\n",
              "    <tr>\n",
              "      <th>1</th>\n",
              "      <td>00000011111010100100560041</td>\n",
              "      <td>2016</td>\n",
              "      <td>11110</td>\n",
              "      <td>종로구</td>\n",
              "      <td>10100</td>\n",
              "      <td>청운동</td>\n",
              "      <td>56</td>\n",
              "      <td>41</td>\n",
              "      <td>MJ하이빌</td>\n",
              "      <td>3</td>\n",
              "      <td>4</td>\n",
              "      <td>다세대/연립</td>\n",
              "      <td>75.00</td>\n",
              "      <td>1</td>\n",
              "      <td>전세</td>\n",
              "      <td>35000</td>\n",
              "      <td>0</td>\n",
              "      <td>2015</td>\n",
              "      <td>20150921</td>\n",
              "      <td>2007</td>\n",
              "    </tr>\n",
              "    <tr>\n",
              "      <th>2</th>\n",
              "      <td>00000021111010100100500010</td>\n",
              "      <td>2015</td>\n",
              "      <td>11110</td>\n",
              "      <td>종로구</td>\n",
              "      <td>10100</td>\n",
              "      <td>청운동</td>\n",
              "      <td>50</td>\n",
              "      <td>10</td>\n",
              "      <td>글로리아파크</td>\n",
              "      <td>2</td>\n",
              "      <td>4</td>\n",
              "      <td>다세대/연립</td>\n",
              "      <td>79.14</td>\n",
              "      <td>1</td>\n",
              "      <td>전세</td>\n",
              "      <td>38000</td>\n",
              "      <td>0</td>\n",
              "      <td>2015</td>\n",
              "      <td>20150822</td>\n",
              "      <td>2002</td>\n",
              "    </tr>\n",
              "    <tr>\n",
              "      <th>3</th>\n",
              "      <td>00000031111010100100520018</td>\n",
              "      <td>2015</td>\n",
              "      <td>11110</td>\n",
              "      <td>종로구</td>\n",
              "      <td>10100</td>\n",
              "      <td>청운동</td>\n",
              "      <td>52</td>\n",
              "      <td>18</td>\n",
              "      <td>귀빈하우스</td>\n",
              "      <td>2</td>\n",
              "      <td>4</td>\n",
              "      <td>다세대/연립</td>\n",
              "      <td>102.40</td>\n",
              "      <td>1</td>\n",
              "      <td>전세</td>\n",
              "      <td>43000</td>\n",
              "      <td>0</td>\n",
              "      <td>2015</td>\n",
              "      <td>20150902</td>\n",
              "      <td>2000</td>\n",
              "    </tr>\n",
              "    <tr>\n",
              "      <th>4</th>\n",
              "      <td>00000041111010100100520018</td>\n",
              "      <td>2018</td>\n",
              "      <td>11110</td>\n",
              "      <td>종로구</td>\n",
              "      <td>10100</td>\n",
              "      <td>청운동</td>\n",
              "      <td>52</td>\n",
              "      <td>18</td>\n",
              "      <td>귀빈하우스</td>\n",
              "      <td>2</td>\n",
              "      <td>4</td>\n",
              "      <td>다세대/연립</td>\n",
              "      <td>102.40</td>\n",
              "      <td>1</td>\n",
              "      <td>전세</td>\n",
              "      <td>43000</td>\n",
              "      <td>0</td>\n",
              "      <td>2015</td>\n",
              "      <td>20150902</td>\n",
              "      <td>2000</td>\n",
              "    </tr>\n",
              "  </tbody>\n",
              "</table>\n",
              "</div>"
            ],
            "text/plain": [
              "                          key  접수년도  자치구코드 자치구명  ...  임대료  계약년도      계약일자  건축년도\n",
              "0  00000001111010100100740001  2015  11110  종로구  ...    0  2015  20150623  1991\n",
              "1  00000011111010100100560041  2016  11110  종로구  ...    0  2015  20150921  2007\n",
              "2  00000021111010100100500010  2015  11110  종로구  ...    0  2015  20150822  2002\n",
              "3  00000031111010100100520018  2015  11110  종로구  ...    0  2015  20150902  2000\n",
              "4  00000041111010100100520018  2018  11110  종로구  ...    0  2015  20150902  2000\n",
              "\n",
              "[5 rows x 20 columns]"
            ]
          },
          "metadata": {
            "tags": []
          },
          "execution_count": 6
        }
      ]
    },
    {
      "cell_type": "code",
      "metadata": {
        "colab_type": "code",
        "id": "lPV7FmozxcqA",
        "colab": {}
      },
      "source": [
        "new_data = data[['key','접수년도','자치구코드','법정동코드','본번','부번','층','임대건물코드','임대면적','계약년도','계약일자','건축년도','보증금']]"
      ],
      "execution_count": 0,
      "outputs": []
    },
    {
      "cell_type": "code",
      "metadata": {
        "colab_type": "code",
        "id": "4IH5Iek58hoF",
        "outputId": "ea17bae0-603a-4486-84ad-e585975a6851",
        "colab": {
          "base_uri": "https://localhost:8080/",
          "height": 377
        }
      },
      "source": [
        "new_data.info()"
      ],
      "execution_count": 46,
      "outputs": [
        {
          "output_type": "stream",
          "text": [
            "<class 'pandas.core.frame.DataFrame'>\n",
            "RangeIndex: 2016400 entries, 0 to 2016399\n",
            "Data columns (total 13 columns):\n",
            " #   Column  Dtype  \n",
            "---  ------  -----  \n",
            " 0   key     object \n",
            " 1   접수년도    int64  \n",
            " 2   자치구코드   int64  \n",
            " 3   법정동코드   int64  \n",
            " 4   본번      int64  \n",
            " 5   부번      int64  \n",
            " 6   층       int64  \n",
            " 7   임대건물코드  int64  \n",
            " 8   임대면적    float64\n",
            " 9   계약년도    int64  \n",
            " 10  계약일자    int64  \n",
            " 11  건축년도    int64  \n",
            " 12  보증금     int64  \n",
            "dtypes: float64(1), int64(11), object(1)\n",
            "memory usage: 200.0+ MB\n"
          ],
          "name": "stdout"
        }
      ]
    },
    {
      "cell_type": "code",
      "metadata": {
        "id": "kp0eF1NUz_21",
        "colab_type": "code",
        "outputId": "7e9f88d5-694e-4f12-c441-9c0e1ccab469",
        "colab": {
          "base_uri": "https://localhost:8080/",
          "height": 269
        }
      },
      "source": [
        "na = new_data.isnull()\n",
        "na_sum = na.sum()\n",
        "na_sum = na_sum.sort_values(ascending = False)\n",
        "na_sum"
      ],
      "execution_count": 47,
      "outputs": [
        {
          "output_type": "execute_result",
          "data": {
            "text/plain": [
              "임대면적      25\n",
              "보증금        0\n",
              "건축년도       0\n",
              "계약일자       0\n",
              "계약년도       0\n",
              "임대건물코드     0\n",
              "층          0\n",
              "부번         0\n",
              "본번         0\n",
              "법정동코드      0\n",
              "자치구코드      0\n",
              "접수년도       0\n",
              "key        0\n",
              "dtype: int64"
            ]
          },
          "metadata": {
            "tags": []
          },
          "execution_count": 47
        }
      ]
    },
    {
      "cell_type": "code",
      "metadata": {
        "id": "973wbiguu2Gk",
        "colab_type": "code",
        "outputId": "e9dc8bb8-ce7b-47e8-e2e9-dd1b5ab76d10",
        "colab": {
          "base_uri": "https://localhost:8080/",
          "height": 107
        }
      },
      "source": [
        "new_data['임대면적'].fillna(0.0, inplace = True)"
      ],
      "execution_count": 48,
      "outputs": [
        {
          "output_type": "stream",
          "text": [
            "/usr/local/lib/python3.6/dist-packages/pandas/core/generic.py:6245: SettingWithCopyWarning: \n",
            "A value is trying to be set on a copy of a slice from a DataFrame\n",
            "\n",
            "See the caveats in the documentation: https://pandas.pydata.org/pandas-docs/stable/user_guide/indexing.html#returning-a-view-versus-a-copy\n",
            "  self._update_inplace(new_data)\n"
          ],
          "name": "stderr"
        }
      ]
    },
    {
      "cell_type": "code",
      "metadata": {
        "id": "GzFvT5KfxohZ",
        "colab_type": "code",
        "outputId": "323fa60e-4f96-4180-957d-1d573be86487",
        "colab": {
          "base_uri": "https://localhost:8080/",
          "height": 297
        }
      },
      "source": [
        "new_data.describe()"
      ],
      "execution_count": 49,
      "outputs": [
        {
          "output_type": "execute_result",
          "data": {
            "text/html": [
              "<div>\n",
              "<style scoped>\n",
              "    .dataframe tbody tr th:only-of-type {\n",
              "        vertical-align: middle;\n",
              "    }\n",
              "\n",
              "    .dataframe tbody tr th {\n",
              "        vertical-align: top;\n",
              "    }\n",
              "\n",
              "    .dataframe thead th {\n",
              "        text-align: right;\n",
              "    }\n",
              "</style>\n",
              "<table border=\"1\" class=\"dataframe\">\n",
              "  <thead>\n",
              "    <tr style=\"text-align: right;\">\n",
              "      <th></th>\n",
              "      <th>접수년도</th>\n",
              "      <th>자치구코드</th>\n",
              "      <th>법정동코드</th>\n",
              "      <th>본번</th>\n",
              "      <th>부번</th>\n",
              "      <th>층</th>\n",
              "      <th>임대건물코드</th>\n",
              "      <th>임대면적</th>\n",
              "      <th>계약년도</th>\n",
              "      <th>계약일자</th>\n",
              "      <th>건축년도</th>\n",
              "      <th>보증금</th>\n",
              "    </tr>\n",
              "  </thead>\n",
              "  <tbody>\n",
              "    <tr>\n",
              "      <th>count</th>\n",
              "      <td>2.016400e+06</td>\n",
              "      <td>2.016400e+06</td>\n",
              "      <td>2.016400e+06</td>\n",
              "      <td>2.016400e+06</td>\n",
              "      <td>2.016400e+06</td>\n",
              "      <td>2.016400e+06</td>\n",
              "      <td>2.016400e+06</td>\n",
              "      <td>2.016400e+06</td>\n",
              "      <td>2.016400e+06</td>\n",
              "      <td>2.016400e+06</td>\n",
              "      <td>2.016400e+06</td>\n",
              "      <td>2.016400e+06</td>\n",
              "    </tr>\n",
              "    <tr>\n",
              "      <th>mean</th>\n",
              "      <td>2.014834e+03</td>\n",
              "      <td>1.147186e+04</td>\n",
              "      <td>1.091037e+04</td>\n",
              "      <td>3.663618e+02</td>\n",
              "      <td>1.541225e+01</td>\n",
              "      <td>5.099540e+00</td>\n",
              "      <td>2.244319e+00</td>\n",
              "      <td>6.220868e+01</td>\n",
              "      <td>2.014710e+03</td>\n",
              "      <td>2.014773e+07</td>\n",
              "      <td>1.956499e+03</td>\n",
              "      <td>2.269298e+04</td>\n",
              "    </tr>\n",
              "    <tr>\n",
              "      <th>std</th>\n",
              "      <td>2.474897e+00</td>\n",
              "      <td>1.977927e+02</td>\n",
              "      <td>1.186482e+03</td>\n",
              "      <td>4.693712e+02</td>\n",
              "      <td>8.769256e+01</td>\n",
              "      <td>5.743234e+00</td>\n",
              "      <td>1.825809e+00</td>\n",
              "      <td>3.023840e+01</td>\n",
              "      <td>2.470742e+00</td>\n",
              "      <td>2.468818e+04</td>\n",
              "      <td>2.868609e+02</td>\n",
              "      <td>1.853658e+04</td>\n",
              "    </tr>\n",
              "    <tr>\n",
              "      <th>min</th>\n",
              "      <td>2.000000e+03</td>\n",
              "      <td>1.111000e+04</td>\n",
              "      <td>1.010000e+04</td>\n",
              "      <td>0.000000e+00</td>\n",
              "      <td>0.000000e+00</td>\n",
              "      <td>-6.000000e+00</td>\n",
              "      <td>1.000000e+00</td>\n",
              "      <td>0.000000e+00</td>\n",
              "      <td>2.007000e+03</td>\n",
              "      <td>2.007013e+07</td>\n",
              "      <td>0.000000e+00</td>\n",
              "      <td>0.000000e+00</td>\n",
              "    </tr>\n",
              "    <tr>\n",
              "      <th>25%</th>\n",
              "      <td>2.013000e+03</td>\n",
              "      <td>1.130500e+04</td>\n",
              "      <td>1.020000e+04</td>\n",
              "      <td>0.000000e+00</td>\n",
              "      <td>0.000000e+00</td>\n",
              "      <td>0.000000e+00</td>\n",
              "      <td>1.000000e+00</td>\n",
              "      <td>4.000000e+01</td>\n",
              "      <td>2.013000e+03</td>\n",
              "      <td>2.013011e+07</td>\n",
              "      <td>1.990000e+03</td>\n",
              "      <td>1.000000e+04</td>\n",
              "    </tr>\n",
              "    <tr>\n",
              "      <th>50%</th>\n",
              "      <td>2.015000e+03</td>\n",
              "      <td>1.150000e+04</td>\n",
              "      <td>1.050000e+04</td>\n",
              "      <td>2.010000e+02</td>\n",
              "      <td>0.000000e+00</td>\n",
              "      <td>3.000000e+00</td>\n",
              "      <td>2.000000e+00</td>\n",
              "      <td>5.959000e+01</td>\n",
              "      <td>2.015000e+03</td>\n",
              "      <td>2.015021e+07</td>\n",
              "      <td>1.998000e+03</td>\n",
              "      <td>1.800000e+04</td>\n",
              "    </tr>\n",
              "    <tr>\n",
              "      <th>75%</th>\n",
              "      <td>2.017000e+03</td>\n",
              "      <td>1.165000e+04</td>\n",
              "      <td>1.090000e+04</td>\n",
              "      <td>6.090000e+02</td>\n",
              "      <td>4.000000e+00</td>\n",
              "      <td>8.000000e+00</td>\n",
              "      <td>4.000000e+00</td>\n",
              "      <td>8.456000e+01</td>\n",
              "      <td>2.017000e+03</td>\n",
              "      <td>2.017051e+07</td>\n",
              "      <td>2.006000e+03</td>\n",
              "      <td>3.000000e+04</td>\n",
              "    </tr>\n",
              "    <tr>\n",
              "      <th>max</th>\n",
              "      <td>2.019000e+03</td>\n",
              "      <td>4.719000e+04</td>\n",
              "      <td>1.870000e+04</td>\n",
              "      <td>6.053000e+03</td>\n",
              "      <td>4.161000e+03</td>\n",
              "      <td>6.800000e+01</td>\n",
              "      <td>9.000000e+00</td>\n",
              "      <td>1.049490e+03</td>\n",
              "      <td>2.019000e+03</td>\n",
              "      <td>2.019062e+07</td>\n",
              "      <td>7.811000e+03</td>\n",
              "      <td>5.541000e+05</td>\n",
              "    </tr>\n",
              "  </tbody>\n",
              "</table>\n",
              "</div>"
            ],
            "text/plain": [
              "               접수년도         자치구코드  ...          건축년도           보증금\n",
              "count  2.016400e+06  2.016400e+06  ...  2.016400e+06  2.016400e+06\n",
              "mean   2.014834e+03  1.147186e+04  ...  1.956499e+03  2.269298e+04\n",
              "std    2.474897e+00  1.977927e+02  ...  2.868609e+02  1.853658e+04\n",
              "min    2.000000e+03  1.111000e+04  ...  0.000000e+00  0.000000e+00\n",
              "25%    2.013000e+03  1.130500e+04  ...  1.990000e+03  1.000000e+04\n",
              "50%    2.015000e+03  1.150000e+04  ...  1.998000e+03  1.800000e+04\n",
              "75%    2.017000e+03  1.165000e+04  ...  2.006000e+03  3.000000e+04\n",
              "max    2.019000e+03  4.719000e+04  ...  7.811000e+03  5.541000e+05\n",
              "\n",
              "[8 rows x 12 columns]"
            ]
          },
          "metadata": {
            "tags": []
          },
          "execution_count": 49
        }
      ]
    },
    {
      "cell_type": "code",
      "metadata": {
        "id": "I9RxyT1AzVO3",
        "colab_type": "code",
        "colab": {}
      },
      "source": [
        ""
      ],
      "execution_count": 0,
      "outputs": []
    },
    {
      "cell_type": "code",
      "metadata": {
        "id": "lqmhaDtOu2Go",
        "colab_type": "code",
        "outputId": "28fe1949-07b7-4f9a-eae9-624d72851d2e",
        "colab": {
          "base_uri": "https://localhost:8080/",
          "height": 421
        }
      },
      "source": [
        "new_data.corr()"
      ],
      "execution_count": 50,
      "outputs": [
        {
          "output_type": "execute_result",
          "data": {
            "text/html": [
              "<div>\n",
              "<style scoped>\n",
              "    .dataframe tbody tr th:only-of-type {\n",
              "        vertical-align: middle;\n",
              "    }\n",
              "\n",
              "    .dataframe tbody tr th {\n",
              "        vertical-align: top;\n",
              "    }\n",
              "\n",
              "    .dataframe thead th {\n",
              "        text-align: right;\n",
              "    }\n",
              "</style>\n",
              "<table border=\"1\" class=\"dataframe\">\n",
              "  <thead>\n",
              "    <tr style=\"text-align: right;\">\n",
              "      <th></th>\n",
              "      <th>접수년도</th>\n",
              "      <th>자치구코드</th>\n",
              "      <th>법정동코드</th>\n",
              "      <th>본번</th>\n",
              "      <th>부번</th>\n",
              "      <th>층</th>\n",
              "      <th>임대건물코드</th>\n",
              "      <th>임대면적</th>\n",
              "      <th>계약년도</th>\n",
              "      <th>계약일자</th>\n",
              "      <th>건축년도</th>\n",
              "      <th>보증금</th>\n",
              "    </tr>\n",
              "  </thead>\n",
              "  <tbody>\n",
              "    <tr>\n",
              "      <th>접수년도</th>\n",
              "      <td>1.000000</td>\n",
              "      <td>0.008234</td>\n",
              "      <td>-0.008358</td>\n",
              "      <td>0.007448</td>\n",
              "      <td>-0.003899</td>\n",
              "      <td>0.010309</td>\n",
              "      <td>0.074923</td>\n",
              "      <td>-0.097084</td>\n",
              "      <td>0.983712</td>\n",
              "      <td>0.984189</td>\n",
              "      <td>0.042789</td>\n",
              "      <td>0.207444</td>\n",
              "    </tr>\n",
              "    <tr>\n",
              "      <th>자치구코드</th>\n",
              "      <td>0.008234</td>\n",
              "      <td>1.000000</td>\n",
              "      <td>-0.288679</td>\n",
              "      <td>0.051905</td>\n",
              "      <td>-0.061624</td>\n",
              "      <td>0.054705</td>\n",
              "      <td>0.016292</td>\n",
              "      <td>0.057210</td>\n",
              "      <td>0.010030</td>\n",
              "      <td>0.010159</td>\n",
              "      <td>0.021912</td>\n",
              "      <td>0.174271</td>\n",
              "    </tr>\n",
              "    <tr>\n",
              "      <th>법정동코드</th>\n",
              "      <td>-0.008358</td>\n",
              "      <td>-0.288679</td>\n",
              "      <td>1.000000</td>\n",
              "      <td>-0.002203</td>\n",
              "      <td>0.044466</td>\n",
              "      <td>0.000954</td>\n",
              "      <td>0.011507</td>\n",
              "      <td>0.021021</td>\n",
              "      <td>-0.008394</td>\n",
              "      <td>-0.008412</td>\n",
              "      <td>-0.025975</td>\n",
              "      <td>0.004308</td>\n",
              "    </tr>\n",
              "    <tr>\n",
              "      <th>본번</th>\n",
              "      <td>0.007448</td>\n",
              "      <td>0.051905</td>\n",
              "      <td>-0.002203</td>\n",
              "      <td>1.000000</td>\n",
              "      <td>-0.004772</td>\n",
              "      <td>0.321061</td>\n",
              "      <td>-0.061723</td>\n",
              "      <td>0.174228</td>\n",
              "      <td>0.012052</td>\n",
              "      <td>0.012166</td>\n",
              "      <td>0.113566</td>\n",
              "      <td>0.236000</td>\n",
              "    </tr>\n",
              "    <tr>\n",
              "      <th>부번</th>\n",
              "      <td>-0.003899</td>\n",
              "      <td>-0.061624</td>\n",
              "      <td>0.044466</td>\n",
              "      <td>-0.004772</td>\n",
              "      <td>1.000000</td>\n",
              "      <td>-0.052086</td>\n",
              "      <td>0.148940</td>\n",
              "      <td>-0.055911</td>\n",
              "      <td>-0.002120</td>\n",
              "      <td>-0.002184</td>\n",
              "      <td>0.025551</td>\n",
              "      <td>-0.061915</td>\n",
              "    </tr>\n",
              "    <tr>\n",
              "      <th>층</th>\n",
              "      <td>0.010309</td>\n",
              "      <td>0.054705</td>\n",
              "      <td>0.000954</td>\n",
              "      <td>0.321061</td>\n",
              "      <td>-0.052086</td>\n",
              "      <td>1.000000</td>\n",
              "      <td>-0.186796</td>\n",
              "      <td>0.335672</td>\n",
              "      <td>0.015295</td>\n",
              "      <td>0.015558</td>\n",
              "      <td>0.126775</td>\n",
              "      <td>0.494951</td>\n",
              "    </tr>\n",
              "    <tr>\n",
              "      <th>임대건물코드</th>\n",
              "      <td>0.074923</td>\n",
              "      <td>0.016292</td>\n",
              "      <td>0.011507</td>\n",
              "      <td>-0.061723</td>\n",
              "      <td>0.148940</td>\n",
              "      <td>-0.186796</td>\n",
              "      <td>1.000000</td>\n",
              "      <td>-0.387398</td>\n",
              "      <td>0.080397</td>\n",
              "      <td>0.080277</td>\n",
              "      <td>0.002054</td>\n",
              "      <td>-0.301918</td>\n",
              "    </tr>\n",
              "    <tr>\n",
              "      <th>임대면적</th>\n",
              "      <td>-0.097084</td>\n",
              "      <td>0.057210</td>\n",
              "      <td>0.021021</td>\n",
              "      <td>0.174228</td>\n",
              "      <td>-0.055911</td>\n",
              "      <td>0.335672</td>\n",
              "      <td>-0.387398</td>\n",
              "      <td>1.000000</td>\n",
              "      <td>-0.098572</td>\n",
              "      <td>-0.098382</td>\n",
              "      <td>0.066422</td>\n",
              "      <td>0.666600</td>\n",
              "    </tr>\n",
              "    <tr>\n",
              "      <th>계약년도</th>\n",
              "      <td>0.983712</td>\n",
              "      <td>0.010030</td>\n",
              "      <td>-0.008394</td>\n",
              "      <td>0.012052</td>\n",
              "      <td>-0.002120</td>\n",
              "      <td>0.015295</td>\n",
              "      <td>0.080397</td>\n",
              "      <td>-0.098572</td>\n",
              "      <td>1.000000</td>\n",
              "      <td>0.999902</td>\n",
              "      <td>0.044472</td>\n",
              "      <td>0.210271</td>\n",
              "    </tr>\n",
              "    <tr>\n",
              "      <th>계약일자</th>\n",
              "      <td>0.984189</td>\n",
              "      <td>0.010159</td>\n",
              "      <td>-0.008412</td>\n",
              "      <td>0.012166</td>\n",
              "      <td>-0.002184</td>\n",
              "      <td>0.015558</td>\n",
              "      <td>0.080277</td>\n",
              "      <td>-0.098382</td>\n",
              "      <td>0.999902</td>\n",
              "      <td>1.000000</td>\n",
              "      <td>0.044540</td>\n",
              "      <td>0.211035</td>\n",
              "    </tr>\n",
              "    <tr>\n",
              "      <th>건축년도</th>\n",
              "      <td>0.042789</td>\n",
              "      <td>0.021912</td>\n",
              "      <td>-0.025975</td>\n",
              "      <td>0.113566</td>\n",
              "      <td>0.025551</td>\n",
              "      <td>0.126775</td>\n",
              "      <td>0.002054</td>\n",
              "      <td>0.066422</td>\n",
              "      <td>0.044472</td>\n",
              "      <td>0.044540</td>\n",
              "      <td>1.000000</td>\n",
              "      <td>0.108537</td>\n",
              "    </tr>\n",
              "    <tr>\n",
              "      <th>보증금</th>\n",
              "      <td>0.207444</td>\n",
              "      <td>0.174271</td>\n",
              "      <td>0.004308</td>\n",
              "      <td>0.236000</td>\n",
              "      <td>-0.061915</td>\n",
              "      <td>0.494951</td>\n",
              "      <td>-0.301918</td>\n",
              "      <td>0.666600</td>\n",
              "      <td>0.210271</td>\n",
              "      <td>0.211035</td>\n",
              "      <td>0.108537</td>\n",
              "      <td>1.000000</td>\n",
              "    </tr>\n",
              "  </tbody>\n",
              "</table>\n",
              "</div>"
            ],
            "text/plain": [
              "            접수년도     자치구코드     법정동코드  ...      계약일자      건축년도       보증금\n",
              "접수년도    1.000000  0.008234 -0.008358  ...  0.984189  0.042789  0.207444\n",
              "자치구코드   0.008234  1.000000 -0.288679  ...  0.010159  0.021912  0.174271\n",
              "법정동코드  -0.008358 -0.288679  1.000000  ... -0.008412 -0.025975  0.004308\n",
              "본번      0.007448  0.051905 -0.002203  ...  0.012166  0.113566  0.236000\n",
              "부번     -0.003899 -0.061624  0.044466  ... -0.002184  0.025551 -0.061915\n",
              "층       0.010309  0.054705  0.000954  ...  0.015558  0.126775  0.494951\n",
              "임대건물코드  0.074923  0.016292  0.011507  ...  0.080277  0.002054 -0.301918\n",
              "임대면적   -0.097084  0.057210  0.021021  ... -0.098382  0.066422  0.666600\n",
              "계약년도    0.983712  0.010030 -0.008394  ...  0.999902  0.044472  0.210271\n",
              "계약일자    0.984189  0.010159 -0.008412  ...  1.000000  0.044540  0.211035\n",
              "건축년도    0.042789  0.021912 -0.025975  ...  0.044540  1.000000  0.108537\n",
              "보증금     0.207444  0.174271  0.004308  ...  0.211035  0.108537  1.000000\n",
              "\n",
              "[12 rows x 12 columns]"
            ]
          },
          "metadata": {
            "tags": []
          },
          "execution_count": 50
        }
      ]
    },
    {
      "cell_type": "code",
      "metadata": {
        "id": "yKn_r-2Iu2Gs",
        "colab_type": "code",
        "colab": {
          "base_uri": "https://localhost:8080/",
          "height": 53
        },
        "outputId": "2e52c2d0-c058-4d2d-c566-ca18cde70c73"
      },
      "source": [
        "import numpy as np\n",
        "import seaborn as sns\n",
        "from mpl_toolkits import mplot3d\n",
        "from scipy import stats\n",
        "import matplotlib.pyplot as plt\n",
        "%matplotlib inline\n",
        "plt.style.use('classic')\n",
        "\n",
        "import matplotlib.font_manager as fm\n",
        "fontpath = '/usr/share/fonts/truetype/nanum/NanumBarunGothic.ttf'\n",
        "font = fm.FontProperties(fname=fontpath, size=9)\n",
        "plt.rc('font', family='NanumBarunGothic') \n"
      ],
      "execution_count": 13,
      "outputs": [
        {
          "output_type": "stream",
          "text": [
            "/usr/local/lib/python3.6/dist-packages/statsmodels/tools/_testing.py:19: FutureWarning: pandas.util.testing is deprecated. Use the functions in the public API at pandas.testing instead.\n",
            "  import pandas.util.testing as tm\n"
          ],
          "name": "stderr"
        }
      ]
    },
    {
      "cell_type": "code",
      "metadata": {
        "id": "ZFGJbfiCu2Gw",
        "colab_type": "code",
        "outputId": "acc96cf3-b089-477d-b40d-23c3210526cc",
        "colab": {
          "base_uri": "https://localhost:8080/",
          "height": 440
        }
      },
      "source": [
        "plt.scatter(new_data['임대면적'], new_data['보증금'], alpha=0.4)\n",
        "plt.show()"
      ],
      "execution_count": 51,
      "outputs": [
        {
          "output_type": "display_data",
          "data": {
            "image/png": "[encoded data removed]",
            "text/plain": [
              "<Figure size 640x480 with 1 Axes>"
            ]
          },
          "metadata": {
            "tags": []
          }
        }
      ]
    },
    {
      "cell_type": "code",
      "metadata": {
        "id": "UOEUCQE9u2G0",
        "colab_type": "code",
        "colab": {
          "base_uri": "https://localhost:8080/",
          "height": 440
        },
        "outputId": "0d9bf65a-ad94-4bdd-958e-77479b719c8c"
      },
      "source": [
        "plt.scatter(new_data['임대건물코드'], new_data['보증금'], alpha=0.4)\n",
        "plt.show()"
      ],
      "execution_count": 52,
      "outputs": [
        {
          "output_type": "display_data",
          "data": {
            "image/png": "[encoded data removed]",
            "text/plain": [
              "<Figure size 640x480 with 1 Axes>"
            ]
          },
          "metadata": {
            "tags": []
          }
        }
      ]
    },
    {
      "cell_type": "code",
      "metadata": {
        "colab_type": "code",
        "id": "9gl8hZs5-u4r",
        "colab": {}
      },
      "source": [
        "# 다중선형회귀모델\n",
        "#http://hleecaster.com/ml-multiple-linear-regression-example/\n"
      ],
      "execution_count": 0,
      "outputs": []
    },
    {
      "cell_type": "code",
      "metadata": {
        "id": "Jpw8xK3FNw3g",
        "colab_type": "code",
        "colab": {}
      },
      "source": [
        ""
      ],
      "execution_count": 0,
      "outputs": []
    },
    {
      "cell_type": "code",
      "metadata": {
        "id": "TbXi7Sviu2G7",
        "colab_type": "code",
        "colab": {}
      },
      "source": [
        "from sklearn.model_selection import train_test_split\n",
        "x = new_data.iloc[:,1:-1]\n",
        "y = new_data['보증금'] \n",
        "x_train, x_test, y_train, y_test = train_test_split(x, y, train_size=0.8, test_size=0.2)"
      ],
      "execution_count": 0,
      "outputs": []
    },
    {
      "cell_type": "code",
      "metadata": {
        "id": "qZ33SJ1eu2G_",
        "colab_type": "code",
        "outputId": "1674e351-e150-4b13-8024-29703b0c80a8",
        "colab": {
          "base_uri": "https://localhost:8080/",
          "height": 35
        }
      },
      "source": [
        "from sklearn.linear_model import LinearRegression\n",
        "mlr = LinearRegression()\n",
        "mlr.fit(x_train, y_train) "
      ],
      "execution_count": 54,
      "outputs": [
        {
          "output_type": "execute_result",
          "data": {
            "text/plain": [
              "LinearRegression(copy_X=True, fit_intercept=True, n_jobs=None, normalize=False)"
            ]
          },
          "metadata": {
            "tags": []
          },
          "execution_count": 54
        }
      ]
    },
    {
      "cell_type": "code",
      "metadata": {
        "id": "fp2YFaxpu2HC",
        "colab_type": "code",
        "colab": {}
      },
      "source": [
        "y_predicted = mlr.predict(x_test)"
      ],
      "execution_count": 0,
      "outputs": []
    },
    {
      "cell_type": "code",
      "metadata": {
        "id": "fFHljSmPu2HI",
        "colab_type": "code",
        "outputId": "615405cc-2b7b-454c-ac92-cf5ada55574c",
        "colab": {
          "base_uri": "https://localhost:8080/",
          "height": 470
        }
      },
      "source": [
        "import matplotlib.pyplot as plt\n",
        "plt.scatter(y_test, y_predicted, alpha=0.4)\n",
        "plt.xlabel(\"Actual Rent\")\n",
        "plt.ylabel(\"Predicted Rent\")\n",
        "plt.title(\"MULTIPLE LINEAR REGRESSION\")\n",
        "plt.show()"
      ],
      "execution_count": 56,
      "outputs": [
        {
          "output_type": "display_data",
          "data": {
            "image/png": "[encoded data removed]",
            "text/plain": [
              "<Figure size 640x480 with 1 Axes>"
            ]
          },
          "metadata": {
            "tags": []
          }
        }
      ]
    },
    {
      "cell_type": "code",
      "metadata": {
        "id": "BFH_0K-ku2HL",
        "colab_type": "code",
        "outputId": "9286e6c4-52ab-46a2-e6e2-fa7dceb855d9",
        "colab": {
          "base_uri": "https://localhost:8080/",
          "height": 35
        }
      },
      "source": [
        "((y_test - y_predicted) ** 2).sum()\n"
      ],
      "execution_count": 57,
      "outputs": [
        {
          "output_type": "execute_result",
          "data": {
            "text/plain": [
              "52896063836018.78"
            ]
          },
          "metadata": {
            "tags": []
          },
          "execution_count": 57
        }
      ]
    },
    {
      "cell_type": "code",
      "metadata": {
        "id": "wwb3a6O7u2HP",
        "colab_type": "code",
        "outputId": "bc9fc203-b03e-45d6-ba5b-cd7894368a98",
        "colab": {
          "base_uri": "https://localhost:8080/",
          "height": 35
        }
      },
      "source": [
        "((y_test - y.mean()) ** 2).sum()"
      ],
      "execution_count": 58,
      "outputs": [
        {
          "output_type": "execute_result",
          "data": {
            "text/plain": [
              "137440096449474.36"
            ]
          },
          "metadata": {
            "tags": []
          },
          "execution_count": 58
        }
      ]
    },
    {
      "cell_type": "code",
      "metadata": {
        "id": "nQvnPC19u2HS",
        "colab_type": "code",
        "outputId": "75c96297-c608-4b96-9742-74eeb734eb66",
        "colab": {
          "base_uri": "https://localhost:8080/",
          "height": 35
        }
      },
      "source": [
        "print(mlr.score(x_train, y_train))"
      ],
      "execution_count": 59,
      "outputs": [
        {
          "output_type": "stream",
          "text": [
            "0.618380638492367\n"
          ],
          "name": "stdout"
        }
      ]
    },
    {
      "cell_type": "code",
      "metadata": {
        "id": "fR1sTtmuu2HV",
        "colab_type": "code",
        "colab": {}
      },
      "source": [
        ""
      ],
      "execution_count": 0,
      "outputs": []
    }
  ]
}